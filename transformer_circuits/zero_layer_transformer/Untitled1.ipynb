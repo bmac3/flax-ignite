{
 "cells": [
  {
   "cell_type": "markdown",
   "id": "4e1da607-b5f6-4a77-99b6-5dff937a2dda",
   "metadata": {},
   "source": [
    "Write train loop"
   ]
  },
  {
   "cell_type": "code",
   "execution_count": 2,
   "id": "520bc38a-27ab-4b38-9083-6867571bb8c5",
   "metadata": {},
   "outputs": [],
   "source": [
    "import os\n",
    "\n",
    "os.environ['CUDA_VISIBLE_DEVICES'] = '1'"
   ]
  },
  {
   "cell_type": "code",
   "execution_count": 14,
   "id": "004c8bea-e04c-4f0a-8eee-51246f500d96",
   "metadata": {},
   "outputs": [],
   "source": [
    "from enum import Enum\n",
    "from typing import Any, Callable\n",
    "\n",
    "from datasets import load_from_disk\n",
    "from jax import random\n",
    "from flax import core\n",
    "from flax import linen as nn\n",
    "from flax import struct\n",
    "import optax\n",
    "from torch.utils.data import DataLoader\n",
    "from torch.utils.data.sampler import Sampler"
   ]
  },
  {
   "cell_type": "code",
   "execution_count": 4,
   "id": "f8a59b9e-8818-4200-9413-42dc3c65aae4",
   "metadata": {},
   "outputs": [],
   "source": [
    "class JaxRandomSampler(Sampler):\n",
    "    \n",
    "    def __init__(self, data_source, key=0):\n",
    "        self.data_source = data_source\n",
    "        self.key = key\n",
    "        \n",
    "    def __iter__(self):\n",
    "        yield from random.permutation(self.key, len(self)).tolist()\n",
    "        \n",
    "    def __len__(self):\n",
    "        return len(self.data_source)\n",
    "    \n",
    "    \n",
    "class JaxDataLoader(DataLoader):\n",
    "    \n",
    "    def __init__(self, dataset, **kwargs):\n",
    "        sampler = JaxRandomSampler(dataset)\n",
    "        super().__init__(dataset, sampler=sampler, shuffle=False, **kwargs)\n",
    "         \n",
    "    def make_iter(self, key):\n",
    "        self.sampler.key = key\n",
    "        yield from iter(self)\n",
    "        self.sampler.key = 0\n"
   ]
  },
  {
   "cell_type": "code",
   "execution_count": 15,
   "id": "7c2f738a-3006-41a8-a878-8eefb3b467b0",
   "metadata": {},
   "outputs": [],
   "source": [
    "class State(struct.PyTreeNode):\n",
    "    params: core.FrozenDict[str, Any] = None\n",
    "    opt_state: optax.OptState = None\n",
    "    iteration: int = struct.field(pytree_node=False, default=0)\n",
    "    epoch: int = struct.field(pytree_node=False, default=0)\n",
    "    seed: int = struct.field(pytree_node=False, default=0)\n",
    "    rng: Any = struct.field(pytree_node=False, default=None)\n",
    "    dataloader_rng: Any = struct.field(pytree_node=False, default=None)\n",
    "    max_epochs: int = struct.field(pytree_node=False, default=1)\n",
    "    batch: Any = struct.field(pytree_node=False, default=None)\n",
    "    output: Any = struct.field(pytree_node=False, default=None)\n",
    "    metrics: Any = struct.field(pytree_node=False, default=None)\n",
    "    times: Any = struct.field(pytree_node=False, default=None)\n",
    "    data_iter_fn: Callable = struct.field(pytree_node=False, default=None)\n",
    "    apply_fn: Callable = struct.field(pytree_node=False, default=None)\n",
    "    tx: optax.GradientTransformation = struct.field(pytree_node=False, default=None)\n",
    "\n",
    "    def apply_gradients(self, *, grads, **kwargs):\n",
    "        updates, new_opt_state = self.tx.update(\n",
    "            grads, self.opt_state, self.params)\n",
    "        new_params = optax.apply_updates(self.params, updates)\n",
    "        return self.replace(\n",
    "            params=new_params,\n",
    "            opt_state=new_opt_state,\n",
    "            **kwargs,\n",
    "        )\n",
    "    \n",
    "    def next_data_iter(self):\n",
    "        key, subkey = random.split(self.dataloader_rng)\n",
    "        self.replace(dataloader_rng=key)\n",
    "        return self.data_iter_fn(subkey)\n",
    "    \n",
    "    @classmethod\n",
    "    def create(cls, seed):\n",
    "        key = random.PRNGKey(self.state.seed)\n",
    "        key, subkey = random.split(key)\n",
    "        return cls(seed=seed, rng=key, dataloader_rng=subkey)\n",
    "\n",
    "\n",
    "    # @classmethod\n",
    "    # def create(cls, *, apply_fn, params, tx, **kwargs):\n",
    "    #     opt_state = tx.init(params)\n",
    "    #     return cls(\n",
    "    #         step=0,\n",
    "    #         apply_fn=apply_fn,\n",
    "    #         params=params,\n",
    "    #         tx=tx,\n",
    "    #         opt_state=opt_state,\n",
    "    #         **kwargs,\n",
    "    # )"
   ]
  },
  {
   "cell_type": "code",
   "execution_count": 11,
   "id": "81ed1206-1b17-4d24-baa3-a9ce9de8460f",
   "metadata": {},
   "outputs": [],
   "source": [
    "from collections import defaultdict\n",
    "\n",
    "\n",
    "class Events(Enum):\n",
    "    STARTED = 'started'\n",
    "    EPOCH_STARTED = 'epoch_started'\n",
    "    GET_BATCH_STARTED = 'get_batch_started'\n",
    "    GET_BATCH_COMPLETED = 'get_batch_completed'\n",
    "    ITERATION_STARTED = 'iteration_started'\n",
    "    ITERATION_COMPLETED = 'iteration_completed'\n",
    "    DATALOADER_STOP_ITERATION = 'dataloader_stop_iteration'\n",
    "    EXCEPTION_RAISED = 'exception_raised'\n",
    "    TERMINATE = 'terminate'\n",
    "    EPOCH_COMPLETED = 'epoch_completed'\n",
    "    COMPLETED = 'completed'\n",
    "    \n",
    "    \n",
    "class EngineTerminateException(Exception):\n",
    "    pass\n",
    "    \n",
    "\n",
    "\n",
    "class Engine:\n",
    "    \n",
    "    def __init__(self, process_function, seed=0):\n",
    "        self.event_handlers = defaultdict(list)\n",
    "        self.state = State(seed)\n",
    "        self.process_function = process_function\n",
    "        self.setup_default_handlers()\n",
    "        \n",
    "    def setup_default_handlers(self):\n",
    "        pass\n",
    "        \n",
    "    def set_state_attr(self, **attr_setting):\n",
    "        self.state = self.state.replace(**attr_setting)\n",
    "        \n",
    "    def increment_state_attr(self, attr):\n",
    "        self.set_state_attr(attr, getattr(self.state, attr) + 1)\n",
    "    \n",
    "    def run(self, dataloader, max_epochs):\n",
    "        # TODO reset state counters at the beginning\n",
    "        try:\n",
    "            self.set_state_attr(data_iter_fn=dataloader.make_iter, max_epochs=max_epochs)\n",
    "            self.fire_event(Events.STARTED)\n",
    "            while self.state.epochs < max_epochs:\n",
    "                self.increment_state_attr('epoch')\n",
    "                self.fire_event(Events.EPOCH_STARTED)\n",
    "                data_iter = self.state.next_data_iter()\n",
    "                while True:\n",
    "                    self.set_state_attr(batch=None, output=None)\n",
    "                    try:\n",
    "                        self.fire_event(Events.GET_BATCH_STARTED)\n",
    "                        self.set_state_attr(batch=next(data_iter))\n",
    "                        self.fire_event(Events.GET_BATCH_COMPLETED)\n",
    "                    except StopIteration:\n",
    "                        self.fire_event(Events.DATALOADER_STOP_ITERATION)\n",
    "                        continue\n",
    "                    self.increment_state_attr('iteration')\n",
    "                    self.fire_event(Events.ITERATION_STARTED)\n",
    "                    self.set_state_attr(output=self.process_function(self, self.state.batch))\n",
    "                    self.fire_event(Events.ITERATION_COMPLETED)\n",
    "                self.fire_event(Events.EPOCH_COMPLETED)\n",
    "        except EngineTerminateException:\n",
    "            self.fire_event(Events.TERMINATE)\n",
    "        self.fire_event(Events.COMPLETED)\n",
    "        return self.state\n",
    "        \n",
    "    def fire_event(self, event, *event_args, **event_kwargs):\n",
    "        handlers = event_handlers[event]\n",
    "        for f in handlers:\n",
    "            self.state = f(self.state, *event_args, **event_kwargs)\n",
    "    \n",
    "    def add_event_handler(self, event, f):\n",
    "        self.event_handlers[event].append(f)\n",
    "    \n",
    "    def on(self, event):\n",
    "\n",
    "        def decorator(f):\n",
    "            self.add_event_handler(event, f)\n",
    "            return f\n",
    "\n",
    "        return decorator"
   ]
  },
  {
   "cell_type": "code",
   "execution_count": 13,
   "id": "e1848ac4-f8aa-4612-88c7-46a1bf4fed1c",
   "metadata": {},
   "outputs": [],
   "source": [
    "dataset = load_from_disk('tokenized_wiki_dataset')\n",
    "dataloader = JaxDataLoader(dataset, batch_size=32)"
   ]
  },
  {
   "cell_type": "code",
   "execution_count": null,
   "id": "de77e560-78d2-4b80-8c1e-1b954c9f90c7",
   "metadata": {},
   "outputs": [],
   "source": []
  },
  {
   "cell_type": "code",
   "execution_count": 86,
   "id": "a0449480-b47e-4513-b3c5-b248c777a39c",
   "metadata": {},
   "outputs": [],
   "source": [
    "class ZeroLayerTransformer(nn.Module):\n",
    "    vocab_size: int\n",
    "    embed_dim: int\n",
    "    \n",
    "    @nn.compact\n",
    "    def __call__(self, input_ids):\n",
    "        \"\"\"\n",
    "        input_ids will be a batch of input ids shape (n_examples, max_seq_len)\n",
    "        \"\"\"\n",
    "        embedded = nn.Embed(self.vocab_size, self.embed_dim, name='embedding_matrix')(input_ids)\n",
    "        unembedded = nn.Dense(vocab_size, use_bias=False, name='unembedding_matrix')(embedded)\n",
    "        logits = nn.softmax(unembedded)\n",
    "        return logits\n"
   ]
  },
  {
   "cell_type": "code",
   "execution_count": null,
   "id": "b848ae13-226a-4966-bfe6-651870ab1e2a",
   "metadata": {},
   "outputs": [],
   "source": [
    "# possible usage\n",
    "\n",
    "vocab_size = 20\n",
    "embed_dim = 10\n",
    "\n",
    "model = ZeroLayerTransformer(vocab_size, embed_dim)\n",
    "\n",
    "\n",
    "def update(state, batch):\n",
    "    logits = model.apply(state.params, batch)\n",
    "    \n",
    "\n",
    "trainer = Engine(update)\n",
    "\n",
    "\n",
    "trainer.on(Events.STARTED)\n",
    "def setup_optimizer(state):\n",
    "    pass\n",
    "\n",
    "\n",
    "trainer.on(Events.STARTED)\n",
    "def init_params(state):\n",
    "    pass\n"
   ]
  },
  {
   "cell_type": "code",
   "execution_count": null,
   "id": "6e8e7899-6778-4685-9e9c-9015c01d2160",
   "metadata": {},
   "outputs": [],
   "source": [
    "from datasets import load_from_disk\n",
    "from torch.utils.data import dataloader\n",
    "\n",
    "\n",
    "dataset = load_from_disk('tokenized_wiki_dataset')\n",
    "dl = dataloader(dataset)\n",
    "trainer.run(dl, max_epochs=10)"
   ]
  },
  {
   "cell_type": "code",
   "execution_count": 87,
   "id": "c439c626-c184-459d-a1d8-b89ab6a4467a",
   "metadata": {},
   "outputs": [],
   "source": [
    "from datasets import load_from_disk\n",
    "from torch.utils.data import DataLoader\n",
    "\n",
    "\n",
    "dataset = load_from_disk('tokenized_wiki_dataset')\n",
    "dl = JaxDataLoader(dataset.select(range(5)))"
   ]
  },
  {
   "cell_type": "code",
   "execution_count": null,
   "id": "82bf3e7a-6774-405f-b1a7-f38c7e17367c",
   "metadata": {},
   "outputs": [],
   "source": []
  },
  {
   "cell_type": "code",
   "execution_count": null,
   "id": "b1f9c687-68a0-4ff7-9d47-50508450a4c9",
   "metadata": {},
   "outputs": [],
   "source": []
  },
  {
   "cell_type": "code",
   "execution_count": null,
   "id": "7d556c87-d14e-4eee-9a08-08caf5fcc129",
   "metadata": {},
   "outputs": [],
   "source": []
  },
  {
   "cell_type": "code",
   "execution_count": null,
   "id": "83daa234-1565-418c-b605-d5524d7953ee",
   "metadata": {},
   "outputs": [],
   "source": []
  },
  {
   "cell_type": "code",
   "execution_count": null,
   "id": "ebe08419-6cd0-48a6-992f-d22c3dd4ec08",
   "metadata": {},
   "outputs": [],
   "source": []
  },
  {
   "cell_type": "code",
   "execution_count": 63,
   "id": "29bef660-6209-4586-a556-4fd2359f9837",
   "metadata": {},
   "outputs": [
    {
     "data": {
      "text/plain": [
       "Dataset({\n",
       "    features: ['input_ids'],\n",
       "    num_rows: 5\n",
       "})"
      ]
     },
     "execution_count": 63,
     "metadata": {},
     "output_type": "execute_result"
    }
   ],
   "source": [
    "(dl.dataset)"
   ]
  },
  {
   "cell_type": "code",
   "execution_count": 69,
   "id": "e58b5790-91f1-46f3-880e-d7eafa276018",
   "metadata": {},
   "outputs": [],
   "source": [
    "def test(a, b=2, *, c=4):\n",
    "    print(a, b, c)"
   ]
  },
  {
   "cell_type": "code",
   "execution_count": 70,
   "id": "1008a291-ec54-4bea-82a9-56e97e10b949",
   "metadata": {},
   "outputs": [
    {
     "ename": "TypeError",
     "evalue": "test() takes from 1 to 2 positional arguments but 3 were given",
     "output_type": "error",
     "traceback": [
      "\u001b[0;31m---------------------------------------------------------------------------\u001b[0m",
      "\u001b[0;31mTypeError\u001b[0m                                 Traceback (most recent call last)",
      "Input \u001b[0;32mIn [70]\u001b[0m, in \u001b[0;36m<cell line: 1>\u001b[0;34m()\u001b[0m\n\u001b[0;32m----> 1\u001b[0m \u001b[43mtest\u001b[49m\u001b[43m(\u001b[49m\u001b[38;5;241;43m1\u001b[39;49m\u001b[43m,\u001b[49m\u001b[43m \u001b[49m\u001b[38;5;241;43m2\u001b[39;49m\u001b[43m,\u001b[49m\u001b[43m \u001b[49m\u001b[38;5;241;43m3\u001b[39;49m\u001b[43m)\u001b[49m\n",
      "\u001b[0;31mTypeError\u001b[0m: test() takes from 1 to 2 positional arguments but 3 were given"
     ]
    }
   ],
   "source": [
    "test(1, 2, 3)"
   ]
  },
  {
   "cell_type": "code",
   "execution_count": 71,
   "id": "858c1d6e-1c3e-4165-871d-752ee275da07",
   "metadata": {},
   "outputs": [
    {
     "name": "stdout",
     "output_type": "stream",
     "text": [
      "1 2 3\n"
     ]
    }
   ],
   "source": [
    "test(1, 2, c=3)"
   ]
  },
  {
   "cell_type": "code",
   "execution_count": 99,
   "id": "dc46629b-35ea-4c1c-9d78-4e68c095567c",
   "metadata": {},
   "outputs": [],
   "source": [
    "dl = JaxDataLoader(dataset.select(range(5)))"
   ]
  },
  {
   "cell_type": "code",
   "execution_count": 100,
   "id": "ab099f36-12b2-43bd-83ab-b31ab06917af",
   "metadata": {},
   "outputs": [
    {
     "data": {
      "text/plain": [
       "1"
      ]
     },
     "execution_count": 100,
     "metadata": {},
     "output_type": "execute_result"
    }
   ],
   "source": [
    "next(iter(dl.sampler))"
   ]
  },
  {
   "cell_type": "code",
   "execution_count": 101,
   "id": "f18ce072-7d8f-4e46-90ad-ab24c224ffe6",
   "metadata": {},
   "outputs": [],
   "source": [
    "for ex in dl:\n",
    "    pass"
   ]
  },
  {
   "cell_type": "code",
   "execution_count": 102,
   "id": "1ccc8b20-7528-4c55-83a1-9e0a12146dad",
   "metadata": {},
   "outputs": [
    {
     "data": {
      "text/plain": [
       "{'input_ids': [tensor([11697]),\n",
       "  tensor([1211]),\n",
       "  tensor([507]),\n",
       "  tensor([438]),\n",
       "  tensor([2010]),\n",
       "  tensor([5383]),\n",
       "  tensor([470]),\n",
       "  tensor([2799]),\n",
       "  tensor([561]),\n",
       "  tensor([507]),\n",
       "  tensor([442]),\n",
       "  tensor([1424]),\n",
       "  tensor([655]),\n",
       "  tensor([465]),\n",
       "  tensor([4059]),\n",
       "  tensor([470])]}"
      ]
     },
     "execution_count": 102,
     "metadata": {},
     "output_type": "execute_result"
    }
   ],
   "source": [
    "ex"
   ]
  },
  {
   "cell_type": "code",
   "execution_count": 105,
   "id": "7054cd07-c5a7-4373-b1b9-1eaf40c04592",
   "metadata": {},
   "outputs": [],
   "source": [
    "for ex in dl:\n",
    "    pass"
   ]
  },
  {
   "cell_type": "code",
   "execution_count": 106,
   "id": "1a3ef10b-5916-45e0-9084-99ad93bcc5d5",
   "metadata": {},
   "outputs": [
    {
     "data": {
      "text/plain": [
       "{'input_ids': [tensor([1211]),\n",
       "  tensor([5968]),\n",
       "  tensor([502]),\n",
       "  tensor([441]),\n",
       "  tensor([13317]),\n",
       "  tensor([465]),\n",
       "  tensor([441]),\n",
       "  tensor([992]),\n",
       "  tensor([445]),\n",
       "  tensor([636]),\n",
       "  tensor([544]),\n",
       "  tensor([5399]),\n",
       "  tensor([476]),\n",
       "  tensor([522]),\n",
       "  tensor([19074]),\n",
       "  tensor([619])]}"
      ]
     },
     "execution_count": 106,
     "metadata": {},
     "output_type": "execute_result"
    }
   ],
   "source": [
    "ex"
   ]
  },
  {
   "cell_type": "code",
   "execution_count": 43,
   "id": "00572a92-b6ea-4112-9a11-3d5cc7e80041",
   "metadata": {},
   "outputs": [
    {
     "data": {
      "text/plain": [
       "['_DataLoader__initialized',\n",
       " '_DataLoader__multiprocessing_context',\n",
       " '_IterableDataset_len_called',\n",
       " '__annotations__',\n",
       " '__class__',\n",
       " '__class_getitem__',\n",
       " '__delattr__',\n",
       " '__dict__',\n",
       " '__dir__',\n",
       " '__doc__',\n",
       " '__eq__',\n",
       " '__format__',\n",
       " '__ge__',\n",
       " '__getattribute__',\n",
       " '__gt__',\n",
       " '__hash__',\n",
       " '__init__',\n",
       " '__init_subclass__',\n",
       " '__iter__',\n",
       " '__le__',\n",
       " '__len__',\n",
       " '__lt__',\n",
       " '__module__',\n",
       " '__ne__',\n",
       " '__new__',\n",
       " '__orig_bases__',\n",
       " '__parameters__',\n",
       " '__reduce__',\n",
       " '__reduce_ex__',\n",
       " '__repr__',\n",
       " '__setattr__',\n",
       " '__sizeof__',\n",
       " '__slots__',\n",
       " '__str__',\n",
       " '__subclasshook__',\n",
       " '__weakref__',\n",
       " '_auto_collation',\n",
       " '_dataset_kind',\n",
       " '_get_iterator',\n",
       " '_get_shared_seed',\n",
       " '_index_sampler',\n",
       " '_is_protocol',\n",
       " '_iterator',\n",
       " 'batch_sampler',\n",
       " 'batch_size',\n",
       " 'check_worker_number_rationality',\n",
       " 'collate_fn',\n",
       " 'dataset',\n",
       " 'drop_last',\n",
       " 'generator',\n",
       " 'multiprocessing_context',\n",
       " 'num_workers',\n",
       " 'persistent_workers',\n",
       " 'pin_memory',\n",
       " 'pin_memory_device',\n",
       " 'prefetch_factor',\n",
       " 'sampler',\n",
       " 'timeout',\n",
       " 'worker_init_fn']"
      ]
     },
     "execution_count": 43,
     "metadata": {},
     "output_type": "execute_result"
    }
   ],
   "source": [
    "dir(dl)"
   ]
  },
  {
   "cell_type": "code",
   "execution_count": null,
   "id": "e75f121e-1e6b-4234-870c-77938d326de3",
   "metadata": {},
   "outputs": [],
   "source": []
  },
  {
   "cell_type": "code",
   "execution_count": null,
   "id": "c8581b53-4e58-4b44-9ae5-7aad10ea2a2c",
   "metadata": {},
   "outputs": [],
   "source": []
  },
  {
   "cell_type": "code",
   "execution_count": null,
   "id": "5e656aaf-a62b-496a-90e5-ba7fe086c299",
   "metadata": {},
   "outputs": [],
   "source": []
  },
  {
   "cell_type": "code",
   "execution_count": null,
   "id": "e9b16237-59ca-43a6-85b8-463b79a08724",
   "metadata": {},
   "outputs": [],
   "source": [
    "next(iter(dl))"
   ]
  },
  {
   "cell_type": "code",
   "execution_count": 31,
   "id": "40f2e8a3-878c-4825-978d-5d1c2165eb7b",
   "metadata": {},
   "outputs": [
    {
     "data": {
      "text/plain": [
       "{'input_ids': [tensor([11697]),\n",
       "  tensor([1211]),\n",
       "  tensor([507]),\n",
       "  tensor([438]),\n",
       "  tensor([2010]),\n",
       "  tensor([5383]),\n",
       "  tensor([470]),\n",
       "  tensor([2799]),\n",
       "  tensor([561]),\n",
       "  tensor([507]),\n",
       "  tensor([442]),\n",
       "  tensor([1424]),\n",
       "  tensor([655]),\n",
       "  tensor([465]),\n",
       "  tensor([4059]),\n",
       "  tensor([470])]}"
      ]
     },
     "execution_count": 31,
     "metadata": {},
     "output_type": "execute_result"
    }
   ],
   "source": [
    "next(iter(dl))"
   ]
  },
  {
   "cell_type": "code",
   "execution_count": 33,
   "id": "c3668f2f-0834-4aeb-97b2-cd6b3d4aade9",
   "metadata": {},
   "outputs": [
    {
     "data": {
      "text/plain": [
       "{'input_ids': [[11697,\n",
       "   1211,\n",
       "   507,\n",
       "   438,\n",
       "   2010,\n",
       "   5383,\n",
       "   470,\n",
       "   2799,\n",
       "   561,\n",
       "   507,\n",
       "   442,\n",
       "   1424,\n",
       "   655,\n",
       "   465,\n",
       "   4059,\n",
       "   470],\n",
       "  [5544,\n",
       "   283,\n",
       "   713,\n",
       "   2025,\n",
       "   5384,\n",
       "   619,\n",
       "   445,\n",
       "   733,\n",
       "   443,\n",
       "   304,\n",
       "   620,\n",
       "   3867,\n",
       "   465,\n",
       "   16939,\n",
       "   447,\n",
       "   11697],\n",
       "  [1211,\n",
       "   5968,\n",
       "   502,\n",
       "   441,\n",
       "   13317,\n",
       "   465,\n",
       "   441,\n",
       "   992,\n",
       "   445,\n",
       "   636,\n",
       "   544,\n",
       "   5399,\n",
       "   476,\n",
       "   522,\n",
       "   19074,\n",
       "   619],\n",
       "  [445,\n",
       "   3154,\n",
       "   467,\n",
       "   17578,\n",
       "   445,\n",
       "   470,\n",
       "   7193,\n",
       "   1354,\n",
       "   447,\n",
       "   509,\n",
       "   438,\n",
       "   8146,\n",
       "   1500,\n",
       "   496,\n",
       "   3287,\n",
       "   2799],\n",
       "  [445,\n",
       "   2967,\n",
       "   497,\n",
       "   441,\n",
       "   17351,\n",
       "   3023,\n",
       "   1500,\n",
       "   465,\n",
       "   441,\n",
       "   2010,\n",
       "   10693,\n",
       "   445,\n",
       "   544,\n",
       "   507,\n",
       "   2797,\n",
       "   2123]]}"
      ]
     },
     "execution_count": 33,
     "metadata": {},
     "output_type": "execute_result"
    }
   ],
   "source": [
    "dataset[:5]"
   ]
  },
  {
   "cell_type": "code",
   "execution_count": null,
   "id": "50c91192-9ced-4419-a01d-b45951afa43e",
   "metadata": {},
   "outputs": [],
   "source": []
  },
  {
   "cell_type": "code",
   "execution_count": null,
   "id": "a1e687c0-d6f7-4eea-8437-842ba364ecc7",
   "metadata": {},
   "outputs": [],
   "source": []
  },
  {
   "cell_type": "code",
   "execution_count": 2,
   "id": "b4a8865a-4117-43b3-a7ba-8f3e80b0929b",
   "metadata": {},
   "outputs": [
    {
     "data": {
      "text/plain": [
       "<Event.STARTED: 'started'>"
      ]
     },
     "execution_count": 2,
     "metadata": {},
     "output_type": "execute_result"
    }
   ],
   "source": [
    "Event.STARTED"
   ]
  },
  {
   "cell_type": "code",
   "execution_count": null,
   "id": "fd7a0763-e0fd-423b-b6f2-358a8f4b0b0f",
   "metadata": {},
   "outputs": [],
   "source": []
  }
 ],
 "metadata": {
  "kernelspec": {
   "display_name": "Python [conda env:jax-env]",
   "language": "python",
   "name": "conda-env-jax-env-py"
  },
  "language_info": {
   "codemirror_mode": {
    "name": "ipython",
    "version": 3
   },
   "file_extension": ".py",
   "mimetype": "text/x-python",
   "name": "python",
   "nbconvert_exporter": "python",
   "pygments_lexer": "ipython3",
   "version": "3.8.13"
  }
 },
 "nbformat": 4,
 "nbformat_minor": 5
}
