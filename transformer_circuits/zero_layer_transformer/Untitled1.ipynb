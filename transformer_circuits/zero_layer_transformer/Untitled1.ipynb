{
 "cells": [
  {
   "cell_type": "markdown",
   "id": "4e1da607-b5f6-4a77-99b6-5dff937a2dda",
   "metadata": {},
   "source": [
    "Write train loop"
   ]
  },
  {
   "cell_type": "code",
   "execution_count": 1,
   "id": "520bc38a-27ab-4b38-9083-6867571bb8c5",
   "metadata": {},
   "outputs": [],
   "source": [
    "import os\n",
    "\n",
    "os.environ['CUDA_VISIBLE_DEVICES'] = '1'"
   ]
  },
  {
   "cell_type": "code",
   "execution_count": 74,
   "id": "004c8bea-e04c-4f0a-8eee-51246f500d96",
   "metadata": {},
   "outputs": [],
   "source": [
    "from enum import Enum\n",
    "from typing import Any, Callable\n",
    "\n",
    "from datasets import load_from_disk\n",
    "from jax import numpy as jnp\n",
    "from jax import random\n",
    "from flax import core\n",
    "from flax import linen as nn\n",
    "from flax import struct\n",
    "import optax\n",
    "from torch.utils.data import DataLoader\n",
    "from torch.utils.data.dataloader import _SingleProcessDataLoaderIter, _MultiProcessingDataLoaderIter\n",
    "from torch.utils.data.sampler import Sampler, BatchSampler\n",
    "from transformers import PreTrainedTokenizerFast"
   ]
  },
  {
   "cell_type": "code",
   "execution_count": 92,
   "id": "f8a59b9e-8818-4200-9413-42dc3c65aae4",
   "metadata": {},
   "outputs": [],
   "source": [
    "class JaxRandomSampler(Sampler):\n",
    "    \n",
    "    def __init__(self, data_source, key=None):\n",
    "        self.data_source = data_source\n",
    "        self.key = key\n",
    "        \n",
    "    def __iter__(self):\n",
    "        yield from random.permutation(self.key, len(self)).tolist()\n",
    "        \n",
    "    def __len__(self):\n",
    "        return len(self.data_source)\n",
    "    \n",
    "    \n",
    "def jax_collate(batch):\n",
    "    keys = batch[0].keys()\n",
    "    ret = {}\n",
    "    for key in keys:\n",
    "        vals = [item[key] for item in batch]\n",
    "        try:\n",
    "            ret[key] = jnp.stack(vals)\n",
    "        except TypeError:\n",
    "            ret[key] = vals\n",
    "    return ret\n",
    "\n",
    "\n",
    "# class _JaxSingleProcessDataLoaderIter(_SingleProcessDataLoaderIter):\n",
    "    \n",
    "#     def __init__(self, dataloader, sampler):\n",
    "#         super().__init__(dataloader)\n",
    "#         self._index_sampler = sampler\n",
    "#         self._sampler_iter = iter(self._index_sampler)\n",
    "\n",
    "        \n",
    "        \n",
    "# class _JaxMultiProcessDataLoaderIter(_MultiProcessingDataLoaderIter):\n",
    "    \n",
    "#     def __init__(self, dataloader, sampler):\n",
    "#         super().__init__(dataloader)\n",
    "#         self._index_sampler = sampler\n",
    "#         self._sampler_iter = iter(self._index_sampler)\n",
    "        \n",
    "    \n",
    "class JaxDataLoader(DataLoader):\n",
    "    \n",
    "    sampler_cls = JaxRandomSampler\n",
    "    \n",
    "    def __init__(self, dataset, **kwargs):\n",
    "        if 'collate_fn' not in kwargs:\n",
    "            kwargs['collate_fn'] = jax_collate\n",
    "        super().__init__(dataset, shuffle=False, **kwargs)\n",
    "        \n",
    "    \n",
    "    def __call__(self, key):\n",
    "        self.key = key\n",
    "        return iter(self)\n",
    "        \n",
    "    @property\n",
    "    def _index_sampler(self):\n",
    "        sampler = self.sampler_cls(self.dataset, self.key)\n",
    "        if self._auto_collation:\n",
    "            return BatchSampler(sampler, self.batch_size, self.drop_last)\n",
    "        else:\n",
    "            return sampler\n",
    "        "
   ]
  },
  {
   "cell_type": "code",
   "execution_count": 4,
   "id": "7c2f738a-3006-41a8-a878-8eefb3b467b0",
   "metadata": {},
   "outputs": [],
   "source": [
    "class State(struct.PyTreeNode):\n",
    "    params: core.FrozenDict[str, Any] = None\n",
    "    opt_state: optax.OptState = None\n",
    "    iteration: int = struct.field(pytree_node=False, default=0)\n",
    "    epoch: int = struct.field(pytree_node=False, default=0)\n",
    "    seed: int = struct.field(pytree_node=False, default=0)\n",
    "    rng: Any = struct.field(pytree_node=False, default=None)\n",
    "    dataloader_rng: Any = struct.field(pytree_node=False, default=None)\n",
    "    max_epochs: int = struct.field(pytree_node=False, default=1)\n",
    "    batch: Any = struct.field(pytree_node=False, default=None)\n",
    "    output: Any = struct.field(pytree_node=False, default=None)\n",
    "    metrics: Any = struct.field(pytree_node=False, default=None)\n",
    "    times: Any = struct.field(pytree_node=False, default=None)\n",
    "\n",
    "    def apply_gradients(self, *, grads, tx, **kwargs):\n",
    "        updates, new_opt_state = tx.update(\n",
    "            grads, self.opt_state, self.params)\n",
    "        new_params = optax.apply_updates(self.params, updates)\n",
    "        return self.replace(\n",
    "            params=new_params,\n",
    "            opt_state=new_opt_state,\n",
    "            **kwargs,\n",
    "        )\n",
    "    \n",
    "    def next_data_iter(self, dataloader):\n",
    "        key, subkey = random.split(self.dataloader_rng)\n",
    "        self.replace(dataloader_rng=key)\n",
    "        return iter(dataloader(subkey))\n",
    "    \n",
    "    @classmethod\n",
    "    def create(cls, seed):\n",
    "        key = random.PRNGKey(self.state.seed)\n",
    "        key, subkey = random.split(key)\n",
    "        return cls(seed=seed, rng=key, dataloader_rng=subkey)"
   ]
  },
  {
   "cell_type": "code",
   "execution_count": 5,
   "id": "81ed1206-1b17-4d24-baa3-a9ce9de8460f",
   "metadata": {},
   "outputs": [],
   "source": [
    "from collections import defaultdict\n",
    "\n",
    "\n",
    "class Events(Enum):\n",
    "    STARTED = 'started'\n",
    "    EPOCH_STARTED = 'epoch_started'\n",
    "    GET_BATCH_STARTED = 'get_batch_started'\n",
    "    GET_BATCH_COMPLETED = 'get_batch_completed'\n",
    "    ITERATION_STARTED = 'iteration_started'\n",
    "    ITERATION_COMPLETED = 'iteration_completed'\n",
    "    DATALOADER_STOP_ITERATION = 'dataloader_stop_iteration'\n",
    "    EXCEPTION_RAISED = 'exception_raised'\n",
    "    TERMINATE = 'terminate'\n",
    "    EPOCH_COMPLETED = 'epoch_completed'\n",
    "    COMPLETED = 'completed'\n",
    "    \n",
    "    \n",
    "class EngineTerminateException(Exception):\n",
    "    pass\n",
    "    \n",
    "\n",
    "\n",
    "class Engine:\n",
    "    \n",
    "    def __init__(self, process_function, seed=0):\n",
    "        self.event_handlers = defaultdict(list)\n",
    "        self.state = State.create(seed)\n",
    "        self.process_function = process_function\n",
    "        self.setup_default_handlers()\n",
    "        \n",
    "    def setup_default_handlers(self):\n",
    "        pass\n",
    "        \n",
    "    def set_state_attr(self, **attr_setting):\n",
    "        self.state = self.state.replace(**attr_setting)\n",
    "        \n",
    "    def increment_state_attr(self, attr):\n",
    "        self.set_state_attr(attr, getattr(self.state, attr) + 1)\n",
    "    \n",
    "    def run(self, data_iter_fn, max_epochs):\n",
    "        # TODO reset state counters at the beginning\n",
    "        try:\n",
    "            self.set_state_attr(max_epochs=max_epochs)\n",
    "            self.fire_event(Events.STARTED)\n",
    "            while self.state.epochs < max_epochs:\n",
    "                self.increment_state_attr('epoch')\n",
    "                self.fire_event(Events.EPOCH_STARTED)\n",
    "                data_iter = self.state.next_data_iter(data_iter_fn)\n",
    "                while True:\n",
    "                    self.set_state_attr(batch=None, output=None)\n",
    "                    try:\n",
    "                        self.fire_event(Events.GET_BATCH_STARTED)\n",
    "                        self.set_state_attr(batch=next(data_iter))\n",
    "                        self.fire_event(Events.GET_BATCH_COMPLETED)\n",
    "                    except StopIteration:\n",
    "                        self.fire_event(Events.DATALOADER_STOP_ITERATION)\n",
    "                        continue\n",
    "                    self.increment_state_attr('iteration')\n",
    "                    self.fire_event(Events.ITERATION_STARTED)\n",
    "                    self.set_state_attr(output=self.process_function(self, self.state.batch))\n",
    "                    self.fire_event(Events.ITERATION_COMPLETED)\n",
    "                self.fire_event(Events.EPOCH_COMPLETED)\n",
    "        except EngineTerminateException:\n",
    "            self.fire_event(Events.TERMINATE)\n",
    "        self.fire_event(Events.COMPLETED)\n",
    "        return self.state\n",
    "        \n",
    "    def fire_event(self, event, *event_args, **event_kwargs):\n",
    "        handlers = event_handlers[event]\n",
    "        for f in handlers:\n",
    "            self.state = f(self.state, *event_args, **event_kwargs)\n",
    "    \n",
    "    def add_event_handler(self, event, f):\n",
    "        self.event_handlers[event].append(f)\n",
    "    \n",
    "    def on(self, event):\n",
    "\n",
    "        def decorator(f):\n",
    "            self.add_event_handler(event, f)\n",
    "            return f\n",
    "\n",
    "        return decorator"
   ]
  },
  {
   "cell_type": "code",
   "execution_count": 6,
   "id": "a0449480-b47e-4513-b3c5-b248c777a39c",
   "metadata": {},
   "outputs": [],
   "source": [
    "class ZeroLayerTransformer(nn.Module):\n",
    "    vocab_size: int\n",
    "    embed_dim: int\n",
    "    \n",
    "    @nn.compact\n",
    "    def __call__(self, input_ids):\n",
    "        \"\"\"\n",
    "        input_ids will be a batch of input ids shape (n_examples, max_seq_len)\n",
    "        \"\"\"\n",
    "        embedded = nn.Embed(self.vocab_size, self.embed_dim, name='embedding_matrix')(input_ids)\n",
    "        unembedded = nn.Dense(vocab_size, use_bias=False, name='unembedding_matrix')(embedded)\n",
    "        logits = nn.softmax(unembedded)\n",
    "        return logits\n"
   ]
  },
  {
   "cell_type": "code",
   "execution_count": 76,
   "id": "e1848ac4-f8aa-4612-88c7-46a1bf4fed1c",
   "metadata": {},
   "outputs": [],
   "source": [
    "dataset = load_from_disk('tokenized_wiki_dataset')\n",
    "tokenizer = PreTrainedTokenizerFast(tokenizer_file='tokenizer-wiki.json')"
   ]
  },
  {
   "cell_type": "code",
   "execution_count": 95,
   "id": "1690def6-cbe1-4b64-973e-b8bff6e5d79c",
   "metadata": {},
   "outputs": [],
   "source": [
    "dataset.set_format('jax')\n",
    "dataloader = JaxDataLoader(dataset, batch_size=32)"
   ]
  },
  {
   "cell_type": "code",
   "execution_count": 9,
   "id": "6f82f805-191b-4703-9055-08a43e7648fa",
   "metadata": {},
   "outputs": [],
   "source": [
    "VOCAB_SIZE =  tokenizer.vocab_size\n",
    "EMBED_DIM = 12*64\n",
    "lr = 1e-2\n",
    "\n",
    "model = ZeroLayerTransformer(vocab_size=VOCAB_SIZE, embed_dim=EMBED_DIM)"
   ]
  },
  {
   "cell_type": "code",
   "execution_count": 85,
   "id": "ec066616-1e36-4ef6-bdc0-984c1eb2231c",
   "metadata": {},
   "outputs": [
    {
     "data": {
      "text/plain": [
       "DeviceArray([4146024105,  967050713], dtype=uint32)"
      ]
     },
     "execution_count": 85,
     "metadata": {},
     "output_type": "execute_result"
    }
   ],
   "source": [
    "key1\n"
   ]
  },
  {
   "cell_type": "code",
   "execution_count": 86,
   "id": "c1c357be-713c-42b5-a1a6-9c9ba0665a9a",
   "metadata": {},
   "outputs": [
    {
     "data": {
      "text/plain": [
       "DeviceArray([2718843009, 1272950319], dtype=uint32)"
      ]
     },
     "execution_count": 86,
     "metadata": {},
     "output_type": "execute_result"
    }
   ],
   "source": [
    "key2"
   ]
  },
  {
   "cell_type": "code",
   "execution_count": 96,
   "id": "eca10985-764c-4060-a577-8158f3548108",
   "metadata": {},
   "outputs": [],
   "source": [
    "a = dataloader(key1)\n",
    "b = dataloader(key2)"
   ]
  },
  {
   "cell_type": "code",
   "execution_count": null,
   "id": "feda56ec-5223-4c15-9d51-624fee4eb1a0",
   "metadata": {},
   "outputs": [],
   "source": [
    "next(a)"
   ]
  },
  {
   "cell_type": "code",
   "execution_count": null,
   "id": "2d084541-96bc-4ee6-af64-13fc6a4472d2",
   "metadata": {},
   "outputs": [],
   "source": [
    "next(b)"
   ]
  },
  {
   "cell_type": "code",
   "execution_count": null,
   "id": "1de901b8-1e93-423f-9247-82626ff39b0d",
   "metadata": {},
   "outputs": [],
   "source": []
  },
  {
   "cell_type": "code",
   "execution_count": null,
   "id": "4d821da8-e456-4049-8a70-5c3f7da455f6",
   "metadata": {},
   "outputs": [],
   "source": []
  },
  {
   "cell_type": "code",
   "execution_count": null,
   "id": "e71a2382-0b75-4f43-abde-e12bf76b9d8e",
   "metadata": {},
   "outputs": [],
   "source": []
  },
  {
   "cell_type": "code",
   "execution_count": null,
   "id": "cf83ef7f-29db-484a-806b-67d0f28ebee6",
   "metadata": {},
   "outputs": [
    {
     "ename": "KeyboardInterrupt",
     "evalue": "",
     "output_type": "error",
     "traceback": [
      "\u001b[0;31m---------------------------------------------------------------------------\u001b[0m",
      "\u001b[0;31mKeyboardInterrupt\u001b[0m                         Traceback (most recent call last)",
      "    \u001b[0;31m[... skipping hidden 1 frame]\u001b[0m\n",
      "Input \u001b[0;32mIn [13]\u001b[0m, in \u001b[0;36m<cell line: 3>\u001b[0;34m()\u001b[0m\n\u001b[1;32m      2\u001b[0m it \u001b[38;5;241m=\u001b[39m dataloader\u001b[38;5;241m.\u001b[39mmake_iter(key1)\n\u001b[0;32m----> 3\u001b[0m sample_data \u001b[38;5;241m=\u001b[39m \u001b[38;5;28;43mnext\u001b[39;49m\u001b[43m(\u001b[49m\u001b[43mit\u001b[49m\u001b[43m)\u001b[49m\n",
      "File \u001b[0;32m/data/users/bmak2/miniconda3/envs/jax-env/lib/python3.8/site-packages/torch/utils/data/dataloader.py:652\u001b[0m, in \u001b[0;36m_BaseDataLoaderIter.__next__\u001b[0;34m(self)\u001b[0m\n\u001b[1;32m    651\u001b[0m     \u001b[38;5;28mself\u001b[39m\u001b[38;5;241m.\u001b[39m_reset()  \u001b[38;5;66;03m# type: ignore[call-arg]\u001b[39;00m\n\u001b[0;32m--> 652\u001b[0m data \u001b[38;5;241m=\u001b[39m \u001b[38;5;28;43mself\u001b[39;49m\u001b[38;5;241;43m.\u001b[39;49m\u001b[43m_next_data\u001b[49m\u001b[43m(\u001b[49m\u001b[43m)\u001b[49m\n\u001b[1;32m    653\u001b[0m \u001b[38;5;28mself\u001b[39m\u001b[38;5;241m.\u001b[39m_num_yielded \u001b[38;5;241m+\u001b[39m\u001b[38;5;241m=\u001b[39m \u001b[38;5;241m1\u001b[39m\n",
      "File \u001b[0;32m/data/users/bmak2/miniconda3/envs/jax-env/lib/python3.8/site-packages/torch/utils/data/dataloader.py:692\u001b[0m, in \u001b[0;36m_SingleProcessDataLoaderIter._next_data\u001b[0;34m(self)\u001b[0m\n\u001b[1;32m    691\u001b[0m index \u001b[38;5;241m=\u001b[39m \u001b[38;5;28mself\u001b[39m\u001b[38;5;241m.\u001b[39m_next_index()  \u001b[38;5;66;03m# may raise StopIteration\u001b[39;00m\n\u001b[0;32m--> 692\u001b[0m data \u001b[38;5;241m=\u001b[39m \u001b[38;5;28;43mself\u001b[39;49m\u001b[38;5;241;43m.\u001b[39;49m\u001b[43m_dataset_fetcher\u001b[49m\u001b[38;5;241;43m.\u001b[39;49m\u001b[43mfetch\u001b[49m\u001b[43m(\u001b[49m\u001b[43mindex\u001b[49m\u001b[43m)\u001b[49m  \u001b[38;5;66;03m# may raise StopIteration\u001b[39;00m\n\u001b[1;32m    693\u001b[0m \u001b[38;5;28;01mif\u001b[39;00m \u001b[38;5;28mself\u001b[39m\u001b[38;5;241m.\u001b[39m_pin_memory:\n",
      "File \u001b[0;32m/data/users/bmak2/miniconda3/envs/jax-env/lib/python3.8/site-packages/torch/utils/data/_utils/fetch.py:52\u001b[0m, in \u001b[0;36m_MapDatasetFetcher.fetch\u001b[0;34m(self, possibly_batched_index)\u001b[0m\n\u001b[1;32m     51\u001b[0m     data \u001b[38;5;241m=\u001b[39m \u001b[38;5;28mself\u001b[39m\u001b[38;5;241m.\u001b[39mdataset[possibly_batched_index]\n\u001b[0;32m---> 52\u001b[0m \u001b[38;5;28;01mreturn\u001b[39;00m \u001b[38;5;28;43mself\u001b[39;49m\u001b[38;5;241;43m.\u001b[39;49m\u001b[43mcollate_fn\u001b[49m\u001b[43m(\u001b[49m\u001b[43mdata\u001b[49m\u001b[43m)\u001b[49m\n",
      "Input \u001b[0;32mIn [3]\u001b[0m, in \u001b[0;36mjax_collate\u001b[0;34m(batch)\u001b[0m\n\u001b[1;32m     19\u001b[0m \u001b[38;5;28;01mtry\u001b[39;00m:\n\u001b[0;32m---> 20\u001b[0m     ret[key] \u001b[38;5;241m=\u001b[39m \u001b[43mjnp\u001b[49m\u001b[38;5;241;43m.\u001b[39;49m\u001b[43mstack\u001b[49m\u001b[43m(\u001b[49m\u001b[43mvals\u001b[49m\u001b[43m)\u001b[49m\n\u001b[1;32m     21\u001b[0m \u001b[38;5;28;01mexcept\u001b[39;00m \u001b[38;5;167;01mTypeError\u001b[39;00m:\n",
      "File \u001b[0;32m/data/users/bmak2/miniconda3/envs/jax-env/lib/python3.8/site-packages/jax/_src/numpy/lax_numpy.py:1629\u001b[0m, in \u001b[0;36mstack\u001b[0;34m(arrays, axis, out)\u001b[0m\n\u001b[1;32m   1628\u001b[0m   new_arrays\u001b[38;5;241m.\u001b[39mappend(expand_dims(a, axis))\n\u001b[0;32m-> 1629\u001b[0m \u001b[38;5;28;01mreturn\u001b[39;00m \u001b[43mconcatenate\u001b[49m\u001b[43m(\u001b[49m\u001b[43mnew_arrays\u001b[49m\u001b[43m,\u001b[49m\u001b[43m \u001b[49m\u001b[43maxis\u001b[49m\u001b[38;5;241;43m=\u001b[39;49m\u001b[43maxis\u001b[49m\u001b[43m)\u001b[49m\n",
      "File \u001b[0;32m/data/users/bmak2/miniconda3/envs/jax-env/lib/python3.8/site-packages/jax/_src/numpy/lax_numpy.py:1683\u001b[0m, in \u001b[0;36mconcatenate\u001b[0;34m(arrays, axis)\u001b[0m\n\u001b[1;32m   1682\u001b[0m \u001b[38;5;28;01mwhile\u001b[39;00m \u001b[38;5;28mlen\u001b[39m(arrays) \u001b[38;5;241m>\u001b[39m \u001b[38;5;241m1\u001b[39m:\n\u001b[0;32m-> 1683\u001b[0m   arrays \u001b[38;5;241m=\u001b[39m [lax\u001b[38;5;241m.\u001b[39mconcatenate(arrays[i:i\u001b[38;5;241m+\u001b[39mk], axis)\n\u001b[1;32m   1684\u001b[0m             \u001b[38;5;28;01mfor\u001b[39;00m i \u001b[38;5;129;01min\u001b[39;00m \u001b[38;5;28mrange\u001b[39m(\u001b[38;5;241m0\u001b[39m, \u001b[38;5;28mlen\u001b[39m(arrays), k)]\n\u001b[1;32m   1685\u001b[0m \u001b[38;5;28;01mreturn\u001b[39;00m arrays[\u001b[38;5;241m0\u001b[39m]\n",
      "File \u001b[0;32m/data/users/bmak2/miniconda3/envs/jax-env/lib/python3.8/site-packages/jax/_src/numpy/lax_numpy.py:1683\u001b[0m, in \u001b[0;36m<listcomp>\u001b[0;34m(.0)\u001b[0m\n\u001b[1;32m   1682\u001b[0m \u001b[38;5;28;01mwhile\u001b[39;00m \u001b[38;5;28mlen\u001b[39m(arrays) \u001b[38;5;241m>\u001b[39m \u001b[38;5;241m1\u001b[39m:\n\u001b[0;32m-> 1683\u001b[0m   arrays \u001b[38;5;241m=\u001b[39m [\u001b[43mlax\u001b[49m\u001b[38;5;241;43m.\u001b[39;49m\u001b[43mconcatenate\u001b[49m\u001b[43m(\u001b[49m\u001b[43marrays\u001b[49m\u001b[43m[\u001b[49m\u001b[43mi\u001b[49m\u001b[43m:\u001b[49m\u001b[43mi\u001b[49m\u001b[38;5;241;43m+\u001b[39;49m\u001b[43mk\u001b[49m\u001b[43m]\u001b[49m\u001b[43m,\u001b[49m\u001b[43m \u001b[49m\u001b[43maxis\u001b[49m\u001b[43m)\u001b[49m\n\u001b[1;32m   1684\u001b[0m             \u001b[38;5;28;01mfor\u001b[39;00m i \u001b[38;5;129;01min\u001b[39;00m \u001b[38;5;28mrange\u001b[39m(\u001b[38;5;241m0\u001b[39m, \u001b[38;5;28mlen\u001b[39m(arrays), k)]\n\u001b[1;32m   1685\u001b[0m \u001b[38;5;28;01mreturn\u001b[39;00m arrays[\u001b[38;5;241m0\u001b[39m]\n",
      "File \u001b[0;32m/data/users/bmak2/miniconda3/envs/jax-env/lib/python3.8/site-packages/jax/_src/lax/lax.py:571\u001b[0m, in \u001b[0;36mconcatenate\u001b[0;34m(operands, dimension)\u001b[0m\n\u001b[1;32m    570\u001b[0m   \u001b[38;5;28;01mraise\u001b[39;00m \u001b[38;5;167;01mValueError\u001b[39;00m(\u001b[38;5;124m\"\u001b[39m\u001b[38;5;124mconcatenate requires a non-empty sequences of arrays\u001b[39m\u001b[38;5;124m\"\u001b[39m)\n\u001b[0;32m--> 571\u001b[0m \u001b[38;5;28;01mreturn\u001b[39;00m \u001b[43mconcatenate_p\u001b[49m\u001b[38;5;241;43m.\u001b[39;49m\u001b[43mbind\u001b[49m\u001b[43m(\u001b[49m\u001b[38;5;241;43m*\u001b[39;49m\u001b[43moperands\u001b[49m\u001b[43m,\u001b[49m\u001b[43m \u001b[49m\u001b[43mdimension\u001b[49m\u001b[38;5;241;43m=\u001b[39;49m\u001b[43mdimension\u001b[49m\u001b[43m)\u001b[49m\n",
      "File \u001b[0;32m/data/users/bmak2/miniconda3/envs/jax-env/lib/python3.8/site-packages/jax/core.py:327\u001b[0m, in \u001b[0;36mPrimitive.bind\u001b[0;34m(self, *args, **params)\u001b[0m\n\u001b[1;32m    325\u001b[0m \u001b[38;5;28;01massert\u001b[39;00m (\u001b[38;5;129;01mnot\u001b[39;00m config\u001b[38;5;241m.\u001b[39mjax_enable_checks \u001b[38;5;129;01mor\u001b[39;00m\n\u001b[1;32m    326\u001b[0m         \u001b[38;5;28mall\u001b[39m(\u001b[38;5;28misinstance\u001b[39m(arg, Tracer) \u001b[38;5;129;01mor\u001b[39;00m valid_jaxtype(arg) \u001b[38;5;28;01mfor\u001b[39;00m arg \u001b[38;5;129;01min\u001b[39;00m args)), args\n\u001b[0;32m--> 327\u001b[0m \u001b[38;5;28;01mreturn\u001b[39;00m \u001b[38;5;28;43mself\u001b[39;49m\u001b[38;5;241;43m.\u001b[39;49m\u001b[43mbind_with_trace\u001b[49m\u001b[43m(\u001b[49m\u001b[43mfind_top_trace\u001b[49m\u001b[43m(\u001b[49m\u001b[43margs\u001b[49m\u001b[43m)\u001b[49m\u001b[43m,\u001b[49m\u001b[43m \u001b[49m\u001b[43margs\u001b[49m\u001b[43m,\u001b[49m\u001b[43m \u001b[49m\u001b[43mparams\u001b[49m\u001b[43m)\u001b[49m\n",
      "File \u001b[0;32m/data/users/bmak2/miniconda3/envs/jax-env/lib/python3.8/site-packages/jax/core.py:330\u001b[0m, in \u001b[0;36mPrimitive.bind_with_trace\u001b[0;34m(self, trace, args, params)\u001b[0m\n\u001b[1;32m    329\u001b[0m \u001b[38;5;28;01mdef\u001b[39;00m \u001b[38;5;21mbind_with_trace\u001b[39m(\u001b[38;5;28mself\u001b[39m, trace, args, params):\n\u001b[0;32m--> 330\u001b[0m   out \u001b[38;5;241m=\u001b[39m \u001b[43mtrace\u001b[49m\u001b[38;5;241;43m.\u001b[39;49m\u001b[43mprocess_primitive\u001b[49m\u001b[43m(\u001b[49m\u001b[38;5;28;43mself\u001b[39;49m\u001b[43m,\u001b[49m\u001b[43m \u001b[49m\u001b[38;5;28;43mmap\u001b[39;49m\u001b[43m(\u001b[49m\u001b[43mtrace\u001b[49m\u001b[38;5;241;43m.\u001b[39;49m\u001b[43mfull_raise\u001b[49m\u001b[43m,\u001b[49m\u001b[43m \u001b[49m\u001b[43margs\u001b[49m\u001b[43m)\u001b[49m\u001b[43m,\u001b[49m\u001b[43m \u001b[49m\u001b[43mparams\u001b[49m\u001b[43m)\u001b[49m\n\u001b[1;32m    331\u001b[0m   \u001b[38;5;28;01mreturn\u001b[39;00m \u001b[38;5;28mmap\u001b[39m(full_lower, out) \u001b[38;5;28;01mif\u001b[39;00m \u001b[38;5;28mself\u001b[39m\u001b[38;5;241m.\u001b[39mmultiple_results \u001b[38;5;28;01melse\u001b[39;00m full_lower(out)\n",
      "File \u001b[0;32m/data/users/bmak2/miniconda3/envs/jax-env/lib/python3.8/site-packages/jax/core.py:680\u001b[0m, in \u001b[0;36mEvalTrace.process_primitive\u001b[0;34m(self, primitive, tracers, params)\u001b[0m\n\u001b[1;32m    679\u001b[0m \u001b[38;5;28;01mdef\u001b[39;00m \u001b[38;5;21mprocess_primitive\u001b[39m(\u001b[38;5;28mself\u001b[39m, primitive, tracers, params):\n\u001b[0;32m--> 680\u001b[0m   \u001b[38;5;28;01mreturn\u001b[39;00m \u001b[43mprimitive\u001b[49m\u001b[38;5;241;43m.\u001b[39;49m\u001b[43mimpl\u001b[49m\u001b[43m(\u001b[49m\u001b[38;5;241;43m*\u001b[39;49m\u001b[43mtracers\u001b[49m\u001b[43m,\u001b[49m\u001b[43m \u001b[49m\u001b[38;5;241;43m*\u001b[39;49m\u001b[38;5;241;43m*\u001b[39;49m\u001b[43mparams\u001b[49m\u001b[43m)\u001b[49m\n",
      "File \u001b[0;32m/data/users/bmak2/miniconda3/envs/jax-env/lib/python3.8/site-packages/jax/_src/dispatch.py:99\u001b[0m, in \u001b[0;36mapply_primitive\u001b[0;34m(prim, *args, **params)\u001b[0m\n\u001b[1;32m     98\u001b[0m \u001b[38;5;124;03m\"\"\"Impl rule that compiles and runs a single primitive 'prim' using XLA.\"\"\"\u001b[39;00m\n\u001b[0;32m---> 99\u001b[0m compiled_fun \u001b[38;5;241m=\u001b[39m \u001b[43mxla_primitive_callable\u001b[49m\u001b[43m(\u001b[49m\u001b[43mprim\u001b[49m\u001b[43m,\u001b[49m\u001b[43m \u001b[49m\u001b[38;5;241;43m*\u001b[39;49m\u001b[43munsafe_map\u001b[49m\u001b[43m(\u001b[49m\u001b[43marg_spec\u001b[49m\u001b[43m,\u001b[49m\u001b[43m \u001b[49m\u001b[43margs\u001b[49m\u001b[43m)\u001b[49m\u001b[43m,\u001b[49m\n\u001b[1;32m    100\u001b[0m \u001b[43m                                      \u001b[49m\u001b[38;5;241;43m*\u001b[39;49m\u001b[38;5;241;43m*\u001b[39;49m\u001b[43mparams\u001b[49m\u001b[43m)\u001b[49m\n\u001b[1;32m    101\u001b[0m \u001b[38;5;28;01mreturn\u001b[39;00m compiled_fun(\u001b[38;5;241m*\u001b[39margs)\n",
      "File \u001b[0;32m/data/users/bmak2/miniconda3/envs/jax-env/lib/python3.8/site-packages/jax/_src/util.py:219\u001b[0m, in \u001b[0;36mcache.<locals>.wrap.<locals>.wrapper\u001b[0;34m(*args, **kwargs)\u001b[0m\n\u001b[1;32m    218\u001b[0m \u001b[38;5;28;01melse\u001b[39;00m:\n\u001b[0;32m--> 219\u001b[0m   \u001b[38;5;28;01mreturn\u001b[39;00m \u001b[43mcached\u001b[49m\u001b[43m(\u001b[49m\u001b[43mconfig\u001b[49m\u001b[38;5;241;43m.\u001b[39;49m\u001b[43m_trace_context\u001b[49m\u001b[43m(\u001b[49m\u001b[43m)\u001b[49m\u001b[43m,\u001b[49m\u001b[43m \u001b[49m\u001b[38;5;241;43m*\u001b[39;49m\u001b[43margs\u001b[49m\u001b[43m,\u001b[49m\u001b[43m \u001b[49m\u001b[38;5;241;43m*\u001b[39;49m\u001b[38;5;241;43m*\u001b[39;49m\u001b[43mkwargs\u001b[49m\u001b[43m)\u001b[49m\n",
      "File \u001b[0;32m/data/users/bmak2/miniconda3/envs/jax-env/lib/python3.8/site-packages/jax/_src/util.py:212\u001b[0m, in \u001b[0;36mcache.<locals>.wrap.<locals>.cached\u001b[0;34m(_, *args, **kwargs)\u001b[0m\n\u001b[1;32m    210\u001b[0m \u001b[38;5;129m@functools\u001b[39m\u001b[38;5;241m.\u001b[39mlru_cache(max_size)\n\u001b[1;32m    211\u001b[0m \u001b[38;5;28;01mdef\u001b[39;00m \u001b[38;5;21mcached\u001b[39m(_, \u001b[38;5;241m*\u001b[39margs, \u001b[38;5;241m*\u001b[39m\u001b[38;5;241m*\u001b[39mkwargs):\n\u001b[0;32m--> 212\u001b[0m   \u001b[38;5;28;01mreturn\u001b[39;00m \u001b[43mf\u001b[49m\u001b[43m(\u001b[49m\u001b[38;5;241;43m*\u001b[39;49m\u001b[43margs\u001b[49m\u001b[43m,\u001b[49m\u001b[43m \u001b[49m\u001b[38;5;241;43m*\u001b[39;49m\u001b[38;5;241;43m*\u001b[39;49m\u001b[43mkwargs\u001b[49m\u001b[43m)\u001b[49m\n",
      "File \u001b[0;32m/data/users/bmak2/miniconda3/envs/jax-env/lib/python3.8/site-packages/jax/_src/dispatch.py:164\u001b[0m, in \u001b[0;36mxla_primitive_callable\u001b[0;34m(prim, *arg_specs, **params)\u001b[0m\n\u001b[1;32m    163\u001b[0m     \u001b[38;5;28;01mreturn\u001b[39;00m out,\n\u001b[0;32m--> 164\u001b[0m compiled \u001b[38;5;241m=\u001b[39m \u001b[43m_xla_callable_uncached\u001b[49m\u001b[43m(\u001b[49m\u001b[43mlu\u001b[49m\u001b[38;5;241;43m.\u001b[39;49m\u001b[43mwrap_init\u001b[49m\u001b[43m(\u001b[49m\u001b[43mprim_fun\u001b[49m\u001b[43m)\u001b[49m\u001b[43m,\u001b[49m\u001b[43m \u001b[49m\u001b[43mdevice\u001b[49m\u001b[43m,\u001b[49m\u001b[43m \u001b[49m\u001b[38;5;28;43;01mNone\u001b[39;49;00m\u001b[43m,\u001b[49m\n\u001b[1;32m    165\u001b[0m \u001b[43m                                  \u001b[49m\u001b[43mprim\u001b[49m\u001b[38;5;241;43m.\u001b[39;49m\u001b[43mname\u001b[49m\u001b[43m,\u001b[49m\u001b[43m \u001b[49m\u001b[43mdonated_invars\u001b[49m\u001b[43m,\u001b[49m\u001b[43m \u001b[49m\u001b[38;5;28;43;01mFalse\u001b[39;49;00m\u001b[43m,\u001b[49m\u001b[43m \u001b[49m\u001b[38;5;241;43m*\u001b[39;49m\u001b[43marg_specs\u001b[49m\u001b[43m)\u001b[49m\n\u001b[1;32m    166\u001b[0m \u001b[38;5;28;01mif\u001b[39;00m \u001b[38;5;129;01mnot\u001b[39;00m prim\u001b[38;5;241m.\u001b[39mmultiple_results:\n",
      "File \u001b[0;32m/data/users/bmak2/miniconda3/envs/jax-env/lib/python3.8/site-packages/jax/_src/dispatch.py:245\u001b[0m, in \u001b[0;36m_xla_callable_uncached\u001b[0;34m(fun, device, backend, name, donated_invars, keep_unused, *arg_specs)\u001b[0m\n\u001b[1;32m    243\u001b[0m \u001b[38;5;28;01mdef\u001b[39;00m \u001b[38;5;21m_xla_callable_uncached\u001b[39m(fun: lu\u001b[38;5;241m.\u001b[39mWrappedFun, device, backend, name,\n\u001b[1;32m    244\u001b[0m                            donated_invars, keep_unused, \u001b[38;5;241m*\u001b[39marg_specs):\n\u001b[0;32m--> 245\u001b[0m   \u001b[38;5;28;01mreturn\u001b[39;00m \u001b[43mlower_xla_callable\u001b[49m\u001b[43m(\u001b[49m\u001b[43mfun\u001b[49m\u001b[43m,\u001b[49m\u001b[43m \u001b[49m\u001b[43mdevice\u001b[49m\u001b[43m,\u001b[49m\u001b[43m \u001b[49m\u001b[43mbackend\u001b[49m\u001b[43m,\u001b[49m\u001b[43m \u001b[49m\u001b[43mname\u001b[49m\u001b[43m,\u001b[49m\u001b[43m \u001b[49m\u001b[43mdonated_invars\u001b[49m\u001b[43m,\u001b[49m\u001b[43m \u001b[49m\u001b[38;5;28;43;01mFalse\u001b[39;49;00m\u001b[43m,\u001b[49m\n\u001b[1;32m    246\u001b[0m \u001b[43m                            \u001b[49m\u001b[43mkeep_unused\u001b[49m\u001b[43m,\u001b[49m\u001b[43m \u001b[49m\u001b[38;5;241;43m*\u001b[39;49m\u001b[43marg_specs\u001b[49m\u001b[43m)\u001b[49m\u001b[38;5;241;43m.\u001b[39;49m\u001b[43mcompile\u001b[49m\u001b[43m(\u001b[49m\u001b[43m)\u001b[49m\u001b[38;5;241m.\u001b[39munsafe_call\n",
      "File \u001b[0;32m/data/users/bmak2/miniconda3/envs/jax-env/lib/python3.8/site-packages/jax/_src/dispatch.py:808\u001b[0m, in \u001b[0;36mXlaComputation.compile\u001b[0;34m(self)\u001b[0m\n\u001b[1;32m    807\u001b[0m   \u001b[38;5;28;01melse\u001b[39;00m:\n\u001b[0;32m--> 808\u001b[0m     \u001b[38;5;28mself\u001b[39m\u001b[38;5;241m.\u001b[39m_executable \u001b[38;5;241m=\u001b[39m \u001b[43mXlaCompiledComputation\u001b[49m\u001b[38;5;241;43m.\u001b[39;49m\u001b[43mfrom_xla_computation\u001b[49m\u001b[43m(\u001b[49m\n\u001b[1;32m    809\u001b[0m \u001b[43m        \u001b[49m\u001b[38;5;28;43mself\u001b[39;49m\u001b[38;5;241;43m.\u001b[39;49m\u001b[43mname\u001b[49m\u001b[43m,\u001b[49m\u001b[43m \u001b[49m\u001b[38;5;28;43mself\u001b[39;49m\u001b[38;5;241;43m.\u001b[39;49m\u001b[43m_hlo\u001b[49m\u001b[43m,\u001b[49m\u001b[43m \u001b[49m\u001b[38;5;28;43mself\u001b[39;49m\u001b[38;5;241;43m.\u001b[39;49m\u001b[43m_in_type\u001b[49m\u001b[43m,\u001b[49m\u001b[43m \u001b[49m\u001b[38;5;28;43mself\u001b[39;49m\u001b[38;5;241;43m.\u001b[39;49m\u001b[43m_out_type\u001b[49m\u001b[43m,\u001b[49m\n\u001b[1;32m    810\u001b[0m \u001b[43m        \u001b[49m\u001b[38;5;241;43m*\u001b[39;49m\u001b[38;5;241;43m*\u001b[39;49m\u001b[38;5;28;43mself\u001b[39;49m\u001b[38;5;241;43m.\u001b[39;49m\u001b[43mcompile_args\u001b[49m\u001b[43m)\u001b[49m\n\u001b[1;32m    812\u001b[0m \u001b[38;5;28;01mreturn\u001b[39;00m \u001b[38;5;28mself\u001b[39m\u001b[38;5;241m.\u001b[39m_executable\n",
      "File \u001b[0;32m/data/users/bmak2/miniconda3/envs/jax-env/lib/python3.8/site-packages/jax/_src/dispatch.py:911\u001b[0m, in \u001b[0;36mXlaCompiledComputation.from_xla_computation\u001b[0;34m(name, xla_computation, in_type, out_type, nreps, device, backend, tuple_args, in_avals, out_avals, has_unordered_effects, ordered_effects, kept_var_idx, keepalive)\u001b[0m\n\u001b[1;32m    909\u001b[0m \u001b[38;5;28;01mwith\u001b[39;00m log_elapsed_time(\u001b[38;5;124mf\u001b[39m\u001b[38;5;124m\"\u001b[39m\u001b[38;5;124mFinished XLA compilation of \u001b[39m\u001b[38;5;132;01m{\u001b[39;00mname\u001b[38;5;132;01m}\u001b[39;00m\u001b[38;5;124m \u001b[39m\u001b[38;5;124m\"\u001b[39m\n\u001b[1;32m    910\u001b[0m                       \u001b[38;5;124m\"\u001b[39m\u001b[38;5;124min \u001b[39m\u001b[38;5;132;01m{elapsed_time}\u001b[39;00m\u001b[38;5;124m sec\u001b[39m\u001b[38;5;124m\"\u001b[39m):\n\u001b[0;32m--> 911\u001b[0m   compiled \u001b[38;5;241m=\u001b[39m \u001b[43mcompile_or_get_cached\u001b[49m\u001b[43m(\u001b[49m\u001b[43mbackend\u001b[49m\u001b[43m,\u001b[49m\u001b[43m \u001b[49m\u001b[43mxla_computation\u001b[49m\u001b[43m,\u001b[49m\u001b[43m \u001b[49m\u001b[43moptions\u001b[49m\u001b[43m)\u001b[49m\n\u001b[1;32m    912\u001b[0m buffer_counts \u001b[38;5;241m=\u001b[39m [aval_to_num_buffers(aval) \u001b[38;5;28;01mfor\u001b[39;00m aval \u001b[38;5;129;01min\u001b[39;00m out_avals]\n",
      "File \u001b[0;32m/data/users/bmak2/miniconda3/envs/jax-env/lib/python3.8/site-packages/jax/_src/dispatch.py:872\u001b[0m, in \u001b[0;36mcompile_or_get_cached\u001b[0;34m(backend, computation, compile_options)\u001b[0m\n\u001b[1;32m    871\u001b[0m   _dump_ir_to_file(module_name, ir_str)\n\u001b[0;32m--> 872\u001b[0m \u001b[38;5;28;01mreturn\u001b[39;00m \u001b[43mbackend_compile\u001b[49m\u001b[43m(\u001b[49m\u001b[43mbackend\u001b[49m\u001b[43m,\u001b[49m\u001b[43m \u001b[49m\u001b[43mcomputation\u001b[49m\u001b[43m,\u001b[49m\u001b[43m \u001b[49m\u001b[43mcompile_options\u001b[49m\u001b[43m)\u001b[49m\n",
      "File \u001b[0;32m/data/users/bmak2/miniconda3/envs/jax-env/lib/python3.8/site-packages/jax/_src/profiler.py:312\u001b[0m, in \u001b[0;36mannotate_function.<locals>.wrapper\u001b[0;34m(*args, **kwargs)\u001b[0m\n\u001b[1;32m    311\u001b[0m \u001b[38;5;28;01mwith\u001b[39;00m TraceAnnotation(name, \u001b[38;5;241m*\u001b[39m\u001b[38;5;241m*\u001b[39mdecorator_kwargs):\n\u001b[0;32m--> 312\u001b[0m   \u001b[38;5;28;01mreturn\u001b[39;00m \u001b[43mfunc\u001b[49m\u001b[43m(\u001b[49m\u001b[38;5;241;43m*\u001b[39;49m\u001b[43margs\u001b[49m\u001b[43m,\u001b[49m\u001b[43m \u001b[49m\u001b[38;5;241;43m*\u001b[39;49m\u001b[38;5;241;43m*\u001b[39;49m\u001b[43mkwargs\u001b[49m\u001b[43m)\u001b[49m\n\u001b[1;32m    313\u001b[0m \u001b[38;5;28;01mreturn\u001b[39;00m wrapper\n",
      "File \u001b[0;32m/data/users/bmak2/miniconda3/envs/jax-env/lib/python3.8/site-packages/jax/_src/dispatch.py:818\u001b[0m, in \u001b[0;36mbackend_compile\u001b[0;34m(backend, built_c, options)\u001b[0m\n\u001b[1;32m    814\u001b[0m \u001b[38;5;129m@profiler\u001b[39m\u001b[38;5;241m.\u001b[39mannotate_function\n\u001b[1;32m    815\u001b[0m \u001b[38;5;28;01mdef\u001b[39;00m \u001b[38;5;21mbackend_compile\u001b[39m(backend, built_c, options):\n\u001b[1;32m    816\u001b[0m   \u001b[38;5;66;03m# we use a separate function call to ensure that XLA compilation appears\u001b[39;00m\n\u001b[1;32m    817\u001b[0m   \u001b[38;5;66;03m# separately in Python profiling results\u001b[39;00m\n\u001b[0;32m--> 818\u001b[0m   \u001b[38;5;28;01mreturn\u001b[39;00m \u001b[43mbackend\u001b[49m\u001b[38;5;241;43m.\u001b[39;49m\u001b[43mcompile\u001b[49m\u001b[43m(\u001b[49m\u001b[43mbuilt_c\u001b[49m\u001b[43m,\u001b[49m\u001b[43m \u001b[49m\u001b[43mcompile_options\u001b[49m\u001b[38;5;241;43m=\u001b[39;49m\u001b[43moptions\u001b[49m\u001b[43m)\u001b[49m\n",
      "\u001b[0;31mKeyboardInterrupt\u001b[0m: ",
      "\nDuring handling of the above exception, another exception occurred:\n",
      "\u001b[0;31mKeyError\u001b[0m                                  Traceback (most recent call last)",
      "File \u001b[0;32m/data/users/bmak2/miniconda3/envs/jax-env/lib/python3.8/site-packages/executing/executing.py:317\u001b[0m, in \u001b[0;36mSource.executing\u001b[0;34m(cls, frame_or_tb)\u001b[0m\n\u001b[1;32m    316\u001b[0m \u001b[38;5;28;01mtry\u001b[39;00m:\n\u001b[0;32m--> 317\u001b[0m     args \u001b[38;5;241m=\u001b[39m \u001b[43mexecuting_cache\u001b[49m\u001b[43m[\u001b[49m\u001b[43mkey\u001b[49m\u001b[43m]\u001b[49m\n\u001b[1;32m    318\u001b[0m \u001b[38;5;28;01mexcept\u001b[39;00m \u001b[38;5;167;01mKeyError\u001b[39;00m:\n",
      "\u001b[0;31mKeyError\u001b[0m: (<code object stack at 0x7f6a295ad450, file \"/data/users/bmak2/miniconda3/envs/jax-env/lib/python3.8/site-packages/jax/_src/numpy/lax_numpy.py\", line 1611>, 140093937079376, 190)",
      "\nDuring handling of the above exception, another exception occurred:\n",
      "\u001b[0;31mKeyboardInterrupt\u001b[0m                         Traceback (most recent call last)",
      "File \u001b[0;32m/data/users/bmak2/miniconda3/envs/jax-env/lib/python3.8/site-packages/IPython/core/interactiveshell.py:1993\u001b[0m, in \u001b[0;36mInteractiveShell.showtraceback\u001b[0;34m(self, exc_tuple, filename, tb_offset, exception_only, running_compiled_code)\u001b[0m\n\u001b[1;32m   1992\u001b[0m     \u001b[38;5;28;01melse\u001b[39;00m:\n\u001b[0;32m-> 1993\u001b[0m         stb \u001b[38;5;241m=\u001b[39m \u001b[38;5;28;43mself\u001b[39;49m\u001b[38;5;241;43m.\u001b[39;49m\u001b[43mInteractiveTB\u001b[49m\u001b[38;5;241;43m.\u001b[39;49m\u001b[43mstructured_traceback\u001b[49m\u001b[43m(\u001b[49m\n\u001b[1;32m   1994\u001b[0m \u001b[43m            \u001b[49m\u001b[43metype\u001b[49m\u001b[43m,\u001b[49m\u001b[43m \u001b[49m\u001b[43mvalue\u001b[49m\u001b[43m,\u001b[49m\u001b[43m \u001b[49m\u001b[43mtb\u001b[49m\u001b[43m,\u001b[49m\u001b[43m \u001b[49m\u001b[43mtb_offset\u001b[49m\u001b[38;5;241;43m=\u001b[39;49m\u001b[43mtb_offset\u001b[49m\n\u001b[1;32m   1995\u001b[0m \u001b[43m        \u001b[49m\u001b[43m)\u001b[49m\n\u001b[1;32m   1997\u001b[0m \u001b[38;5;28;01mexcept\u001b[39;00m \u001b[38;5;167;01mException\u001b[39;00m:\n",
      "File \u001b[0;32m/data/users/bmak2/miniconda3/envs/jax-env/lib/python3.8/site-packages/IPython/core/ultratb.py:1118\u001b[0m, in \u001b[0;36mAutoFormattedTB.structured_traceback\u001b[0;34m(self, etype, value, tb, tb_offset, number_of_lines_of_context)\u001b[0m\n\u001b[1;32m   1117\u001b[0m     \u001b[38;5;28mself\u001b[39m\u001b[38;5;241m.\u001b[39mtb \u001b[38;5;241m=\u001b[39m tb\n\u001b[0;32m-> 1118\u001b[0m \u001b[38;5;28;01mreturn\u001b[39;00m \u001b[43mFormattedTB\u001b[49m\u001b[38;5;241;43m.\u001b[39;49m\u001b[43mstructured_traceback\u001b[49m\u001b[43m(\u001b[49m\n\u001b[1;32m   1119\u001b[0m \u001b[43m    \u001b[49m\u001b[38;5;28;43mself\u001b[39;49m\u001b[43m,\u001b[49m\u001b[43m \u001b[49m\u001b[43metype\u001b[49m\u001b[43m,\u001b[49m\u001b[43m \u001b[49m\u001b[43mvalue\u001b[49m\u001b[43m,\u001b[49m\u001b[43m \u001b[49m\u001b[43mtb\u001b[49m\u001b[43m,\u001b[49m\u001b[43m \u001b[49m\u001b[43mtb_offset\u001b[49m\u001b[43m,\u001b[49m\u001b[43m \u001b[49m\u001b[43mnumber_of_lines_of_context\u001b[49m\u001b[43m)\u001b[49m\n",
      "File \u001b[0;32m/data/users/bmak2/miniconda3/envs/jax-env/lib/python3.8/site-packages/IPython/core/ultratb.py:1012\u001b[0m, in \u001b[0;36mFormattedTB.structured_traceback\u001b[0;34m(self, etype, value, tb, tb_offset, number_of_lines_of_context)\u001b[0m\n\u001b[1;32m   1010\u001b[0m \u001b[38;5;28;01mif\u001b[39;00m mode \u001b[38;5;129;01min\u001b[39;00m \u001b[38;5;28mself\u001b[39m\u001b[38;5;241m.\u001b[39mverbose_modes:\n\u001b[1;32m   1011\u001b[0m     \u001b[38;5;66;03m# Verbose modes need a full traceback\u001b[39;00m\n\u001b[0;32m-> 1012\u001b[0m     \u001b[38;5;28;01mreturn\u001b[39;00m \u001b[43mVerboseTB\u001b[49m\u001b[38;5;241;43m.\u001b[39;49m\u001b[43mstructured_traceback\u001b[49m\u001b[43m(\u001b[49m\n\u001b[1;32m   1013\u001b[0m \u001b[43m        \u001b[49m\u001b[38;5;28;43mself\u001b[39;49m\u001b[43m,\u001b[49m\u001b[43m \u001b[49m\u001b[43metype\u001b[49m\u001b[43m,\u001b[49m\u001b[43m \u001b[49m\u001b[43mvalue\u001b[49m\u001b[43m,\u001b[49m\u001b[43m \u001b[49m\u001b[43mtb\u001b[49m\u001b[43m,\u001b[49m\u001b[43m \u001b[49m\u001b[43mtb_offset\u001b[49m\u001b[43m,\u001b[49m\u001b[43m \u001b[49m\u001b[43mnumber_of_lines_of_context\u001b[49m\n\u001b[1;32m   1014\u001b[0m \u001b[43m    \u001b[49m\u001b[43m)\u001b[49m\n\u001b[1;32m   1015\u001b[0m \u001b[38;5;28;01melif\u001b[39;00m mode \u001b[38;5;241m==\u001b[39m \u001b[38;5;124m'\u001b[39m\u001b[38;5;124mMinimal\u001b[39m\u001b[38;5;124m'\u001b[39m:\n",
      "File \u001b[0;32m/data/users/bmak2/miniconda3/envs/jax-env/lib/python3.8/site-packages/IPython/core/ultratb.py:865\u001b[0m, in \u001b[0;36mVerboseTB.structured_traceback\u001b[0;34m(self, etype, evalue, etb, tb_offset, number_of_lines_of_context)\u001b[0m\n\u001b[1;32m    864\u001b[0m \u001b[38;5;124;03m\"\"\"Return a nice text document describing the traceback.\"\"\"\u001b[39;00m\n\u001b[0;32m--> 865\u001b[0m formatted_exception \u001b[38;5;241m=\u001b[39m \u001b[38;5;28;43mself\u001b[39;49m\u001b[38;5;241;43m.\u001b[39;49m\u001b[43mformat_exception_as_a_whole\u001b[49m\u001b[43m(\u001b[49m\u001b[43metype\u001b[49m\u001b[43m,\u001b[49m\u001b[43m \u001b[49m\u001b[43mevalue\u001b[49m\u001b[43m,\u001b[49m\u001b[43m \u001b[49m\u001b[43metb\u001b[49m\u001b[43m,\u001b[49m\u001b[43m \u001b[49m\u001b[43mnumber_of_lines_of_context\u001b[49m\u001b[43m,\u001b[49m\n\u001b[1;32m    866\u001b[0m \u001b[43m                                                       \u001b[49m\u001b[43mtb_offset\u001b[49m\u001b[43m)\u001b[49m\n\u001b[1;32m    868\u001b[0m colors \u001b[38;5;241m=\u001b[39m \u001b[38;5;28mself\u001b[39m\u001b[38;5;241m.\u001b[39mColors  \u001b[38;5;66;03m# just a shorthand + quicker name lookup\u001b[39;00m\n",
      "File \u001b[0;32m/data/users/bmak2/miniconda3/envs/jax-env/lib/python3.8/site-packages/IPython/core/ultratb.py:799\u001b[0m, in \u001b[0;36mVerboseTB.format_exception_as_a_whole\u001b[0;34m(self, etype, evalue, etb, number_of_lines_of_context, tb_offset)\u001b[0m\n\u001b[1;32m    797\u001b[0m head \u001b[38;5;241m=\u001b[39m \u001b[38;5;28mself\u001b[39m\u001b[38;5;241m.\u001b[39mprepare_header(etype, \u001b[38;5;28mself\u001b[39m\u001b[38;5;241m.\u001b[39mlong_header)\n\u001b[1;32m    798\u001b[0m records \u001b[38;5;241m=\u001b[39m (\n\u001b[0;32m--> 799\u001b[0m     \u001b[38;5;28;43mself\u001b[39;49m\u001b[38;5;241;43m.\u001b[39;49m\u001b[43mget_records\u001b[49m\u001b[43m(\u001b[49m\u001b[43metb\u001b[49m\u001b[43m,\u001b[49m\u001b[43m \u001b[49m\u001b[43mnumber_of_lines_of_context\u001b[49m\u001b[43m,\u001b[49m\u001b[43m \u001b[49m\u001b[43mtb_offset\u001b[49m\u001b[43m)\u001b[49m \u001b[38;5;28;01mif\u001b[39;00m etb \u001b[38;5;28;01melse\u001b[39;00m []\n\u001b[1;32m    800\u001b[0m )\n\u001b[1;32m    802\u001b[0m frames \u001b[38;5;241m=\u001b[39m []\n",
      "File \u001b[0;32m/data/users/bmak2/miniconda3/envs/jax-env/lib/python3.8/site-packages/IPython/core/ultratb.py:854\u001b[0m, in \u001b[0;36mVerboseTB.get_records\u001b[0;34m(self, etb, number_of_lines_of_context, tb_offset)\u001b[0m\n\u001b[1;32m    849\u001b[0m options \u001b[38;5;241m=\u001b[39m stack_data\u001b[38;5;241m.\u001b[39mOptions(\n\u001b[1;32m    850\u001b[0m     before\u001b[38;5;241m=\u001b[39mbefore,\n\u001b[1;32m    851\u001b[0m     after\u001b[38;5;241m=\u001b[39mafter,\n\u001b[1;32m    852\u001b[0m     pygments_formatter\u001b[38;5;241m=\u001b[39mformatter,\n\u001b[1;32m    853\u001b[0m )\n\u001b[0;32m--> 854\u001b[0m \u001b[38;5;28;01mreturn\u001b[39;00m \u001b[38;5;28;43mlist\u001b[39;49m\u001b[43m(\u001b[49m\u001b[43mstack_data\u001b[49m\u001b[38;5;241;43m.\u001b[39;49m\u001b[43mFrameInfo\u001b[49m\u001b[38;5;241;43m.\u001b[39;49m\u001b[43mstack_data\u001b[49m\u001b[43m(\u001b[49m\u001b[43metb\u001b[49m\u001b[43m,\u001b[49m\u001b[43m \u001b[49m\u001b[43moptions\u001b[49m\u001b[38;5;241;43m=\u001b[39;49m\u001b[43moptions\u001b[49m\u001b[43m)\u001b[49m\u001b[43m)\u001b[49m[tb_offset:]\n",
      "File \u001b[0;32m/data/users/bmak2/miniconda3/envs/jax-env/lib/python3.8/site-packages/stack_data/core.py:565\u001b[0m, in \u001b[0;36mFrameInfo.stack_data\u001b[0;34m(cls, frame_or_tb, options, collapse_repeated_frames)\u001b[0m\n\u001b[1;32m    563\u001b[0m     \u001b[38;5;28;01mreturn\u001b[39;00m frame\u001b[38;5;241m.\u001b[39mf_code, lineno\n\u001b[0;32m--> 565\u001b[0m \u001b[38;5;28;01myield from\u001b[39;00m collapse_repeated(\n\u001b[1;32m    566\u001b[0m     stack,\n\u001b[1;32m    567\u001b[0m     mapper\u001b[38;5;241m=\u001b[39mmapper,\n\u001b[1;32m    568\u001b[0m     collapser\u001b[38;5;241m=\u001b[39mRepeatedFrames,\n\u001b[1;32m    569\u001b[0m     key\u001b[38;5;241m=\u001b[39m_frame_key,\n\u001b[1;32m    570\u001b[0m )\n",
      "File \u001b[0;32m/data/users/bmak2/miniconda3/envs/jax-env/lib/python3.8/site-packages/stack_data/utils.py:84\u001b[0m, in \u001b[0;36mcollapse_repeated\u001b[0;34m(lst, collapser, mapper, key)\u001b[0m\n\u001b[1;32m     83\u001b[0m \u001b[38;5;28;01mif\u001b[39;00m is_highlighted:\n\u001b[0;32m---> 84\u001b[0m     \u001b[38;5;28;01myield from\u001b[39;00m \u001b[38;5;28mmap\u001b[39m(mapper, original_group)\n\u001b[1;32m     85\u001b[0m \u001b[38;5;28;01melse\u001b[39;00m:\n",
      "File \u001b[0;32m/data/users/bmak2/miniconda3/envs/jax-env/lib/python3.8/site-packages/stack_data/core.py:555\u001b[0m, in \u001b[0;36mFrameInfo.stack_data.<locals>.mapper\u001b[0;34m(f)\u001b[0m\n\u001b[1;32m    554\u001b[0m \u001b[38;5;28;01mdef\u001b[39;00m \u001b[38;5;21mmapper\u001b[39m(f):\n\u001b[0;32m--> 555\u001b[0m     \u001b[38;5;28;01mreturn\u001b[39;00m \u001b[38;5;28;43mcls\u001b[39;49m\u001b[43m(\u001b[49m\u001b[43mf\u001b[49m\u001b[43m,\u001b[49m\u001b[43m \u001b[49m\u001b[43moptions\u001b[49m\u001b[43m)\u001b[49m\n",
      "File \u001b[0;32m/data/users/bmak2/miniconda3/envs/jax-env/lib/python3.8/site-packages/stack_data/core.py:520\u001b[0m, in \u001b[0;36mFrameInfo.__init__\u001b[0;34m(self, frame_or_tb, options)\u001b[0m\n\u001b[1;32m    515\u001b[0m \u001b[38;5;28;01mdef\u001b[39;00m \u001b[38;5;21m__init__\u001b[39m(\n\u001b[1;32m    516\u001b[0m         \u001b[38;5;28mself\u001b[39m,\n\u001b[1;32m    517\u001b[0m         frame_or_tb: Union[FrameType, TracebackType],\n\u001b[1;32m    518\u001b[0m         options: Optional[Options] \u001b[38;5;241m=\u001b[39m \u001b[38;5;28;01mNone\u001b[39;00m,\n\u001b[1;32m    519\u001b[0m ):\n\u001b[0;32m--> 520\u001b[0m     \u001b[38;5;28mself\u001b[39m\u001b[38;5;241m.\u001b[39mexecuting \u001b[38;5;241m=\u001b[39m \u001b[43mSource\u001b[49m\u001b[38;5;241;43m.\u001b[39;49m\u001b[43mexecuting\u001b[49m\u001b[43m(\u001b[49m\u001b[43mframe_or_tb\u001b[49m\u001b[43m)\u001b[49m\n\u001b[1;32m    521\u001b[0m     frame, \u001b[38;5;28mself\u001b[39m\u001b[38;5;241m.\u001b[39mlineno \u001b[38;5;241m=\u001b[39m frame_and_lineno(frame_or_tb)\n",
      "File \u001b[0;32m/data/users/bmak2/miniconda3/envs/jax-env/lib/python3.8/site-packages/executing/executing.py:369\u001b[0m, in \u001b[0;36mSource.executing\u001b[0;34m(cls, frame_or_tb)\u001b[0m\n\u001b[1;32m    367\u001b[0m     \u001b[38;5;28;01mreturn\u001b[39;00m source, node, stmts, decorator\n\u001b[0;32m--> 369\u001b[0m args \u001b[38;5;241m=\u001b[39m find(source\u001b[38;5;241m=\u001b[39m\u001b[38;5;28;43mcls\u001b[39;49m\u001b[38;5;241;43m.\u001b[39;49m\u001b[43mfor_frame\u001b[49m\u001b[43m(\u001b[49m\u001b[43mframe\u001b[49m\u001b[43m)\u001b[49m, retry_cache\u001b[38;5;241m=\u001b[39m\u001b[38;5;28;01mTrue\u001b[39;00m)\n\u001b[1;32m    370\u001b[0m executing_cache[key] \u001b[38;5;241m=\u001b[39m args\n",
      "File \u001b[0;32m/data/users/bmak2/miniconda3/envs/jax-env/lib/python3.8/site-packages/executing/executing.py:252\u001b[0m, in \u001b[0;36mSource.for_frame\u001b[0;34m(cls, frame, use_cache)\u001b[0m\n\u001b[1;32m    249\u001b[0m \u001b[38;5;124;03m\"\"\"\u001b[39;00m\n\u001b[1;32m    250\u001b[0m \u001b[38;5;124;03mReturns the `Source` object corresponding to the file the frame is executing in.\u001b[39;00m\n\u001b[1;32m    251\u001b[0m \u001b[38;5;124;03m\"\"\"\u001b[39;00m\n\u001b[0;32m--> 252\u001b[0m \u001b[38;5;28;01mreturn\u001b[39;00m \u001b[38;5;28;43mcls\u001b[39;49m\u001b[38;5;241;43m.\u001b[39;49m\u001b[43mfor_filename\u001b[49m\u001b[43m(\u001b[49m\u001b[43mframe\u001b[49m\u001b[38;5;241;43m.\u001b[39;49m\u001b[43mf_code\u001b[49m\u001b[38;5;241;43m.\u001b[39;49m\u001b[43mco_filename\u001b[49m\u001b[43m,\u001b[49m\u001b[43m \u001b[49m\u001b[43mframe\u001b[49m\u001b[38;5;241;43m.\u001b[39;49m\u001b[43mf_globals\u001b[49m\u001b[43m \u001b[49m\u001b[38;5;129;43;01mor\u001b[39;49;00m\u001b[43m \u001b[49m\u001b[43m{\u001b[49m\u001b[43m}\u001b[49m\u001b[43m,\u001b[49m\u001b[43m \u001b[49m\u001b[43muse_cache\u001b[49m\u001b[43m)\u001b[49m\n",
      "File \u001b[0;32m/data/users/bmak2/miniconda3/envs/jax-env/lib/python3.8/site-packages/executing/executing.py:270\u001b[0m, in \u001b[0;36mSource.for_filename\u001b[0;34m(cls, filename, module_globals, use_cache)\u001b[0m\n\u001b[1;32m    269\u001b[0m lines \u001b[38;5;241m=\u001b[39m \u001b[38;5;28mtuple\u001b[39m(linecache\u001b[38;5;241m.\u001b[39mgetlines(filename, module_globals))\n\u001b[0;32m--> 270\u001b[0m result \u001b[38;5;241m=\u001b[39m source_cache[filename] \u001b[38;5;241m=\u001b[39m \u001b[38;5;28;43mcls\u001b[39;49m\u001b[38;5;241;43m.\u001b[39;49m\u001b[43m_for_filename_and_lines\u001b[49m\u001b[43m(\u001b[49m\u001b[43mfilename\u001b[49m\u001b[43m,\u001b[49m\u001b[43m \u001b[49m\u001b[43mlines\u001b[49m\u001b[43m)\u001b[49m\n\u001b[1;32m    271\u001b[0m \u001b[38;5;28;01mreturn\u001b[39;00m result\n",
      "File \u001b[0;32m/data/users/bmak2/miniconda3/envs/jax-env/lib/python3.8/site-packages/executing/executing.py:281\u001b[0m, in \u001b[0;36mSource._for_filename_and_lines\u001b[0;34m(cls, filename, lines)\u001b[0m\n\u001b[1;32m    279\u001b[0m     \u001b[38;5;28;01mpass\u001b[39;00m\n\u001b[0;32m--> 281\u001b[0m result \u001b[38;5;241m=\u001b[39m source_cache[(filename, lines)] \u001b[38;5;241m=\u001b[39m \u001b[38;5;28;43mcls\u001b[39;49m\u001b[43m(\u001b[49m\u001b[43mfilename\u001b[49m\u001b[43m,\u001b[49m\u001b[43m \u001b[49m\u001b[43mlines\u001b[49m\u001b[43m)\u001b[49m\n\u001b[1;32m    282\u001b[0m \u001b[38;5;28;01mreturn\u001b[39;00m result\n",
      "File \u001b[0;32m/data/users/bmak2/miniconda3/envs/jax-env/lib/python3.8/site-packages/stack_data/core.py:81\u001b[0m, in \u001b[0;36mSource.__init__\u001b[0;34m(self, *args, **kwargs)\u001b[0m\n\u001b[1;32m     80\u001b[0m \u001b[38;5;28;01mif\u001b[39;00m \u001b[38;5;28mself\u001b[39m\u001b[38;5;241m.\u001b[39mtree:\n\u001b[0;32m---> 81\u001b[0m     \u001b[38;5;28;43mself\u001b[39;49m\u001b[38;5;241;43m.\u001b[39;49m\u001b[43masttokens\u001b[49m\u001b[43m(\u001b[49m\u001b[43m)\u001b[49m\n",
      "File \u001b[0;32m/data/users/bmak2/miniconda3/envs/jax-env/lib/python3.8/site-packages/executing/executing.py:413\u001b[0m, in \u001b[0;36mSource.asttokens\u001b[0;34m(self)\u001b[0m\n\u001b[1;32m    412\u001b[0m \u001b[38;5;28;01mfrom\u001b[39;00m \u001b[38;5;21;01masttokens\u001b[39;00m \u001b[38;5;28;01mimport\u001b[39;00m ASTTokens  \u001b[38;5;66;03m# must be installed separately\u001b[39;00m\n\u001b[0;32m--> 413\u001b[0m \u001b[38;5;28;01mreturn\u001b[39;00m \u001b[43mASTTokens\u001b[49m\u001b[43m(\u001b[49m\n\u001b[1;32m    414\u001b[0m \u001b[43m    \u001b[49m\u001b[38;5;28;43mself\u001b[39;49m\u001b[38;5;241;43m.\u001b[39;49m\u001b[43mtext\u001b[49m\u001b[43m,\u001b[49m\n\u001b[1;32m    415\u001b[0m \u001b[43m    \u001b[49m\u001b[43mtree\u001b[49m\u001b[38;5;241;43m=\u001b[39;49m\u001b[38;5;28;43mself\u001b[39;49m\u001b[38;5;241;43m.\u001b[39;49m\u001b[43mtree\u001b[49m\u001b[43m,\u001b[49m\n\u001b[1;32m    416\u001b[0m \u001b[43m    \u001b[49m\u001b[43mfilename\u001b[49m\u001b[38;5;241;43m=\u001b[39;49m\u001b[38;5;28;43mself\u001b[39;49m\u001b[38;5;241;43m.\u001b[39;49m\u001b[43mfilename\u001b[49m\u001b[43m,\u001b[49m\n\u001b[1;32m    417\u001b[0m \u001b[43m\u001b[49m\u001b[43m)\u001b[49m\n",
      "File \u001b[0;32m/data/users/bmak2/miniconda3/envs/jax-env/lib/python3.8/site-packages/asttokens/asttokens.py:65\u001b[0m, in \u001b[0;36mASTTokens.__init__\u001b[0;34m(self, source_text, parse, tree, filename)\u001b[0m\n\u001b[1;32m     64\u001b[0m \u001b[38;5;28;01mif\u001b[39;00m \u001b[38;5;28mself\u001b[39m\u001b[38;5;241m.\u001b[39m_tree:\n\u001b[0;32m---> 65\u001b[0m   \u001b[38;5;28;43mself\u001b[39;49m\u001b[38;5;241;43m.\u001b[39;49m\u001b[43mmark_tokens\u001b[49m\u001b[43m(\u001b[49m\u001b[38;5;28;43mself\u001b[39;49m\u001b[38;5;241;43m.\u001b[39;49m\u001b[43m_tree\u001b[49m\u001b[43m)\u001b[49m\n",
      "File \u001b[0;32m/data/users/bmak2/miniconda3/envs/jax-env/lib/python3.8/site-packages/asttokens/asttokens.py:76\u001b[0m, in \u001b[0;36mASTTokens.mark_tokens\u001b[0;34m(self, root_node)\u001b[0m\n\u001b[1;32m     75\u001b[0m \u001b[38;5;66;03m# The hard work of this class is done by MarkTokens\u001b[39;00m\n\u001b[0;32m---> 76\u001b[0m \u001b[43mMarkTokens\u001b[49m\u001b[43m(\u001b[49m\u001b[38;5;28;43mself\u001b[39;49m\u001b[43m)\u001b[49m\u001b[38;5;241;43m.\u001b[39;49m\u001b[43mvisit_tree\u001b[49m\u001b[43m(\u001b[49m\u001b[43mroot_node\u001b[49m\u001b[43m)\u001b[49m\n",
      "File \u001b[0;32m/data/users/bmak2/miniconda3/envs/jax-env/lib/python3.8/site-packages/asttokens/mark_tokens.py:49\u001b[0m, in \u001b[0;36mMarkTokens.visit_tree\u001b[0;34m(self, node)\u001b[0m\n\u001b[1;32m     48\u001b[0m \u001b[38;5;28mself\u001b[39m\u001b[38;5;241m.\u001b[39m_iter_children \u001b[38;5;241m=\u001b[39m util\u001b[38;5;241m.\u001b[39miter_children_func(node)\n\u001b[0;32m---> 49\u001b[0m \u001b[43mutil\u001b[49m\u001b[38;5;241;43m.\u001b[39;49m\u001b[43mvisit_tree\u001b[49m\u001b[43m(\u001b[49m\u001b[43mnode\u001b[49m\u001b[43m,\u001b[49m\u001b[43m \u001b[49m\u001b[38;5;28;43mself\u001b[39;49m\u001b[38;5;241;43m.\u001b[39;49m\u001b[43m_visit_before_children\u001b[49m\u001b[43m,\u001b[49m\u001b[43m \u001b[49m\u001b[38;5;28;43mself\u001b[39;49m\u001b[38;5;241;43m.\u001b[39;49m\u001b[43m_visit_after_children\u001b[49m\u001b[43m)\u001b[49m\n",
      "File \u001b[0;32m/data/users/bmak2/miniconda3/envs/jax-env/lib/python3.8/site-packages/asttokens/util.py:196\u001b[0m, in \u001b[0;36mvisit_tree\u001b[0;34m(node, previsit, postvisit)\u001b[0m\n\u001b[1;32m    194\u001b[0m done\u001b[38;5;241m.\u001b[39madd(current)\n\u001b[0;32m--> 196\u001b[0m pvalue, post_value \u001b[38;5;241m=\u001b[39m \u001b[43mprevisit\u001b[49m\u001b[43m(\u001b[49m\u001b[43mcurrent\u001b[49m\u001b[43m,\u001b[49m\u001b[43m \u001b[49m\u001b[43mpar_value\u001b[49m\u001b[43m)\u001b[49m\n\u001b[1;32m    197\u001b[0m stack\u001b[38;5;241m.\u001b[39mappend((current, par_value, post_value))\n",
      "File \u001b[0;32m/data/users/bmak2/miniconda3/envs/jax-env/lib/python3.8/site-packages/asttokens/mark_tokens.py:53\u001b[0m, in \u001b[0;36mMarkTokens._visit_before_children\u001b[0;34m(self, node, parent_token)\u001b[0m\n\u001b[1;32m     52\u001b[0m col \u001b[38;5;241m=\u001b[39m \u001b[38;5;28mgetattr\u001b[39m(node, \u001b[38;5;124m'\u001b[39m\u001b[38;5;124mcol_offset\u001b[39m\u001b[38;5;124m'\u001b[39m, \u001b[38;5;28;01mNone\u001b[39;00m)\n\u001b[0;32m---> 53\u001b[0m token \u001b[38;5;241m=\u001b[39m \u001b[38;5;28;43mself\u001b[39;49m\u001b[38;5;241;43m.\u001b[39;49m\u001b[43m_code\u001b[49m\u001b[38;5;241;43m.\u001b[39;49m\u001b[43mget_token_from_utf8\u001b[49m\u001b[43m(\u001b[49m\u001b[43mnode\u001b[49m\u001b[38;5;241;43m.\u001b[39;49m\u001b[43mlineno\u001b[49m\u001b[43m,\u001b[49m\u001b[43m \u001b[49m\u001b[43mcol\u001b[49m\u001b[43m)\u001b[49m \u001b[38;5;28;01mif\u001b[39;00m col \u001b[38;5;129;01mis\u001b[39;00m \u001b[38;5;129;01mnot\u001b[39;00m \u001b[38;5;28;01mNone\u001b[39;00m \u001b[38;5;28;01melse\u001b[39;00m \u001b[38;5;28;01mNone\u001b[39;00m\n\u001b[1;32m     55\u001b[0m \u001b[38;5;28;01mif\u001b[39;00m \u001b[38;5;129;01mnot\u001b[39;00m token \u001b[38;5;129;01mand\u001b[39;00m util\u001b[38;5;241m.\u001b[39mis_module(node):\n\u001b[1;32m     56\u001b[0m   \u001b[38;5;66;03m# We'll assume that a Module node starts at the start of the source code.\u001b[39;00m\n",
      "File \u001b[0;32m/data/users/bmak2/miniconda3/envs/jax-env/lib/python3.8/site-packages/asttokens/asttokens.py:132\u001b[0m, in \u001b[0;36mASTTokens.get_token_from_utf8\u001b[0;34m(self, lineno, col_offset)\u001b[0m\n\u001b[1;32m    129\u001b[0m \u001b[38;5;124;03m\"\"\"\u001b[39;00m\n\u001b[1;32m    130\u001b[0m \u001b[38;5;124;03mSame as get_token(), but interprets col_offset as a UTF8 offset, which is what `ast` uses.\u001b[39;00m\n\u001b[1;32m    131\u001b[0m \u001b[38;5;124;03m\"\"\"\u001b[39;00m\n\u001b[0;32m--> 132\u001b[0m \u001b[38;5;28;01mreturn\u001b[39;00m \u001b[38;5;28;43mself\u001b[39;49m\u001b[38;5;241;43m.\u001b[39;49m\u001b[43mget_token\u001b[49m\u001b[43m(\u001b[49m\u001b[43mlineno\u001b[49m\u001b[43m,\u001b[49m\u001b[43m \u001b[49m\u001b[38;5;28;43mself\u001b[39;49m\u001b[38;5;241;43m.\u001b[39;49m\u001b[43m_line_numbers\u001b[49m\u001b[38;5;241;43m.\u001b[39;49m\u001b[43mfrom_utf8_col\u001b[49m\u001b[43m(\u001b[49m\u001b[43mlineno\u001b[49m\u001b[43m,\u001b[49m\u001b[43m \u001b[49m\u001b[43mcol_offset\u001b[49m\u001b[43m)\u001b[49m\u001b[43m)\u001b[49m\n",
      "File \u001b[0;32m/data/users/bmak2/miniconda3/envs/jax-env/lib/python3.8/site-packages/asttokens/asttokens.py:126\u001b[0m, in \u001b[0;36mASTTokens.get_token\u001b[0;34m(self, lineno, col_offset)\u001b[0m\n\u001b[1;32m    123\u001b[0m \u001b[38;5;66;03m# TODO: add test for multibyte unicode. We need to translate offsets from ast module (which\u001b[39;00m\n\u001b[1;32m    124\u001b[0m \u001b[38;5;66;03m# are in utf8) to offsets into the unicode text. tokenize module seems to use unicode offsets\u001b[39;00m\n\u001b[1;32m    125\u001b[0m \u001b[38;5;66;03m# but isn't explicit.\u001b[39;00m\n\u001b[0;32m--> 126\u001b[0m \u001b[38;5;28;01mreturn\u001b[39;00m \u001b[38;5;28mself\u001b[39m\u001b[38;5;241m.\u001b[39mget_token_from_offset(\u001b[38;5;28;43mself\u001b[39;49m\u001b[38;5;241;43m.\u001b[39;49m\u001b[43m_line_numbers\u001b[49m\u001b[38;5;241;43m.\u001b[39;49m\u001b[43mline_to_offset\u001b[49m\u001b[43m(\u001b[49m\u001b[43mlineno\u001b[49m\u001b[43m,\u001b[49m\u001b[43m \u001b[49m\u001b[43mcol_offset\u001b[49m\u001b[43m)\u001b[49m)\n",
      "File \u001b[0;32m/data/users/bmak2/miniconda3/envs/jax-env/lib/python3.8/site-packages/asttokens/line_numbers.py:60\u001b[0m, in \u001b[0;36mLineNumbers.line_to_offset\u001b[0;34m(self, line, column)\u001b[0m\n\u001b[1;32m     59\u001b[0m \u001b[38;5;28;01melse\u001b[39;00m:\n\u001b[0;32m---> 60\u001b[0m   \u001b[38;5;28;01mreturn\u001b[39;00m \u001b[38;5;28mmin\u001b[39m(\u001b[38;5;28mself\u001b[39m\u001b[38;5;241m.\u001b[39m_line_offsets[line] \u001b[38;5;241m+\u001b[39m \u001b[38;5;28;43mmax\u001b[39;49m\u001b[43m(\u001b[49m\u001b[38;5;241;43m0\u001b[39;49m\u001b[43m,\u001b[49m\u001b[43m \u001b[49m\u001b[43mcolumn\u001b[49m\u001b[43m)\u001b[49m, \u001b[38;5;28mself\u001b[39m\u001b[38;5;241m.\u001b[39m_text_len)\n",
      "\u001b[0;31mKeyboardInterrupt\u001b[0m: ",
      "\nDuring handling of the above exception, another exception occurred:\n",
      "\u001b[0;31mKeyboardInterrupt\u001b[0m                         Traceback (most recent call last)",
      "    \u001b[0;31m[... skipping hidden 1 frame]\u001b[0m\n",
      "File \u001b[0;32m/data/users/bmak2/miniconda3/envs/jax-env/lib/python3.8/site-packages/IPython/core/interactiveshell.py:2014\u001b[0m, in \u001b[0;36mInteractiveShell.showtraceback\u001b[0;34m(self, exc_tuple, filename, tb_offset, exception_only, running_compiled_code)\u001b[0m\n\u001b[1;32m   2011\u001b[0m         \u001b[38;5;28mself\u001b[39m\u001b[38;5;241m.\u001b[39m_showtraceback(etype, value, stb)\n\u001b[1;32m   2013\u001b[0m \u001b[38;5;28;01mexcept\u001b[39;00m \u001b[38;5;167;01mKeyboardInterrupt\u001b[39;00m:\n\u001b[0;32m-> 2014\u001b[0m     \u001b[38;5;28mprint\u001b[39m(\u001b[38;5;124m'\u001b[39m\u001b[38;5;130;01m\\n\u001b[39;00m\u001b[38;5;124m'\u001b[39m \u001b[38;5;241m+\u001b[39m \u001b[38;5;28;43mself\u001b[39;49m\u001b[38;5;241;43m.\u001b[39;49m\u001b[43mget_exception_only\u001b[49m\u001b[43m(\u001b[49m\u001b[43m)\u001b[49m, file\u001b[38;5;241m=\u001b[39msys\u001b[38;5;241m.\u001b[39mstderr)\n",
      "File \u001b[0;32m/data/users/bmak2/miniconda3/envs/jax-env/lib/python3.8/site-packages/IPython/core/interactiveshell.py:1950\u001b[0m, in \u001b[0;36mInteractiveShell.get_exception_only\u001b[0;34m(self, exc_tuple)\u001b[0m\n\u001b[1;32m   1945\u001b[0m \u001b[38;5;124;03m\"\"\"\u001b[39;00m\n\u001b[1;32m   1946\u001b[0m \u001b[38;5;124;03mReturn as a string (ending with a newline) the exception that\u001b[39;00m\n\u001b[1;32m   1947\u001b[0m \u001b[38;5;124;03mjust occurred, without any traceback.\u001b[39;00m\n\u001b[1;32m   1948\u001b[0m \u001b[38;5;124;03m\"\"\"\u001b[39;00m\n\u001b[1;32m   1949\u001b[0m etype, value, tb \u001b[38;5;241m=\u001b[39m \u001b[38;5;28mself\u001b[39m\u001b[38;5;241m.\u001b[39m_get_exc_info(exc_tuple)\n\u001b[0;32m-> 1950\u001b[0m msg \u001b[38;5;241m=\u001b[39m \u001b[43mtraceback\u001b[49m\u001b[38;5;241;43m.\u001b[39;49m\u001b[43mformat_exception_only\u001b[49m\u001b[43m(\u001b[49m\u001b[43metype\u001b[49m\u001b[43m,\u001b[49m\u001b[43m \u001b[49m\u001b[43mvalue\u001b[49m\u001b[43m)\u001b[49m\n\u001b[1;32m   1951\u001b[0m \u001b[38;5;28;01mreturn\u001b[39;00m \u001b[38;5;124m'\u001b[39m\u001b[38;5;124m'\u001b[39m\u001b[38;5;241m.\u001b[39mjoin(msg)\n",
      "File \u001b[0;32m/data/users/bmak2/miniconda3/envs/jax-env/lib/python3.8/traceback.py:140\u001b[0m, in \u001b[0;36mformat_exception_only\u001b[0;34m(etype, value)\u001b[0m\n\u001b[1;32m    124\u001b[0m \u001b[38;5;28;01mdef\u001b[39;00m \u001b[38;5;21mformat_exception_only\u001b[39m(etype, value):\n\u001b[1;32m    125\u001b[0m     \u001b[38;5;124;03m\"\"\"Format the exception part of a traceback.\u001b[39;00m\n\u001b[1;32m    126\u001b[0m \n\u001b[1;32m    127\u001b[0m \u001b[38;5;124;03m    The arguments are the exception type and value such as given by\u001b[39;00m\n\u001b[0;32m   (...)\u001b[0m\n\u001b[1;32m    138\u001b[0m \n\u001b[1;32m    139\u001b[0m \u001b[38;5;124;03m    \"\"\"\u001b[39;00m\n\u001b[0;32m--> 140\u001b[0m     \u001b[38;5;28;01mreturn\u001b[39;00m \u001b[38;5;28mlist\u001b[39m(\u001b[43mTracebackException\u001b[49m\u001b[43m(\u001b[49m\u001b[43metype\u001b[49m\u001b[43m,\u001b[49m\u001b[43m \u001b[49m\u001b[43mvalue\u001b[49m\u001b[43m,\u001b[49m\u001b[43m \u001b[49m\u001b[38;5;28;43;01mNone\u001b[39;49;00m\u001b[43m)\u001b[49m\u001b[38;5;241m.\u001b[39mformat_exception_only())\n",
      "File \u001b[0;32m/data/users/bmak2/miniconda3/envs/jax-env/lib/python3.8/traceback.py:524\u001b[0m, in \u001b[0;36mTracebackException.__init__\u001b[0;34m(self, exc_type, exc_value, exc_traceback, limit, lookup_lines, capture_locals, _seen)\u001b[0m\n\u001b[1;32m    522\u001b[0m     \u001b[38;5;28mself\u001b[39m\u001b[38;5;241m.\u001b[39mmsg \u001b[38;5;241m=\u001b[39m exc_value\u001b[38;5;241m.\u001b[39mmsg\n\u001b[1;32m    523\u001b[0m \u001b[38;5;28;01mif\u001b[39;00m lookup_lines:\n\u001b[0;32m--> 524\u001b[0m     \u001b[38;5;28;43mself\u001b[39;49m\u001b[38;5;241;43m.\u001b[39;49m\u001b[43m_load_lines\u001b[49m\u001b[43m(\u001b[49m\u001b[43m)\u001b[49m\n",
      "File \u001b[0;32m/data/users/bmak2/miniconda3/envs/jax-env/lib/python3.8/traceback.py:536\u001b[0m, in \u001b[0;36mTracebackException._load_lines\u001b[0;34m(self)\u001b[0m\n\u001b[1;32m    534\u001b[0m     frame\u001b[38;5;241m.\u001b[39mline\n\u001b[1;32m    535\u001b[0m \u001b[38;5;28;01mif\u001b[39;00m \u001b[38;5;28mself\u001b[39m\u001b[38;5;241m.\u001b[39m__context__:\n\u001b[0;32m--> 536\u001b[0m     \u001b[38;5;28;43mself\u001b[39;49m\u001b[38;5;241;43m.\u001b[39;49m\u001b[43m__context__\u001b[49m\u001b[38;5;241;43m.\u001b[39;49m\u001b[43m_load_lines\u001b[49m\u001b[43m(\u001b[49m\u001b[43m)\u001b[49m\n\u001b[1;32m    537\u001b[0m \u001b[38;5;28;01mif\u001b[39;00m \u001b[38;5;28mself\u001b[39m\u001b[38;5;241m.\u001b[39m__cause__:\n\u001b[1;32m    538\u001b[0m     \u001b[38;5;28mself\u001b[39m\u001b[38;5;241m.\u001b[39m__cause__\u001b[38;5;241m.\u001b[39m_load_lines()\n",
      "File \u001b[0;32m/data/users/bmak2/miniconda3/envs/jax-env/lib/python3.8/traceback.py:536\u001b[0m, in \u001b[0;36mTracebackException._load_lines\u001b[0;34m(self)\u001b[0m\n\u001b[1;32m    534\u001b[0m     frame\u001b[38;5;241m.\u001b[39mline\n\u001b[1;32m    535\u001b[0m \u001b[38;5;28;01mif\u001b[39;00m \u001b[38;5;28mself\u001b[39m\u001b[38;5;241m.\u001b[39m__context__:\n\u001b[0;32m--> 536\u001b[0m     \u001b[38;5;28;43mself\u001b[39;49m\u001b[38;5;241;43m.\u001b[39;49m\u001b[43m__context__\u001b[49m\u001b[38;5;241;43m.\u001b[39;49m\u001b[43m_load_lines\u001b[49m\u001b[43m(\u001b[49m\u001b[43m)\u001b[49m\n\u001b[1;32m    537\u001b[0m \u001b[38;5;28;01mif\u001b[39;00m \u001b[38;5;28mself\u001b[39m\u001b[38;5;241m.\u001b[39m__cause__:\n\u001b[1;32m    538\u001b[0m     \u001b[38;5;28mself\u001b[39m\u001b[38;5;241m.\u001b[39m__cause__\u001b[38;5;241m.\u001b[39m_load_lines()\n",
      "File \u001b[0;32m/data/users/bmak2/miniconda3/envs/jax-env/lib/python3.8/traceback.py:534\u001b[0m, in \u001b[0;36mTracebackException._load_lines\u001b[0;34m(self)\u001b[0m\n\u001b[1;32m    532\u001b[0m \u001b[38;5;124;03m\"\"\"Private API. force all lines in the stack to be loaded.\"\"\"\u001b[39;00m\n\u001b[1;32m    533\u001b[0m \u001b[38;5;28;01mfor\u001b[39;00m frame \u001b[38;5;129;01min\u001b[39;00m \u001b[38;5;28mself\u001b[39m\u001b[38;5;241m.\u001b[39mstack:\n\u001b[0;32m--> 534\u001b[0m     \u001b[43mframe\u001b[49m\u001b[38;5;241;43m.\u001b[39;49m\u001b[43mline\u001b[49m\n\u001b[1;32m    535\u001b[0m \u001b[38;5;28;01mif\u001b[39;00m \u001b[38;5;28mself\u001b[39m\u001b[38;5;241m.\u001b[39m__context__:\n\u001b[1;32m    536\u001b[0m     \u001b[38;5;28mself\u001b[39m\u001b[38;5;241m.\u001b[39m__context__\u001b[38;5;241m.\u001b[39m_load_lines()\n",
      "File \u001b[0;32m/data/users/bmak2/miniconda3/envs/jax-env/lib/python3.8/traceback.py:288\u001b[0m, in \u001b[0;36mFrameSummary.line\u001b[0;34m(self)\u001b[0m\n\u001b[1;32m    285\u001b[0m \u001b[38;5;129m@property\u001b[39m\n\u001b[1;32m    286\u001b[0m \u001b[38;5;28;01mdef\u001b[39;00m \u001b[38;5;21mline\u001b[39m(\u001b[38;5;28mself\u001b[39m):\n\u001b[1;32m    287\u001b[0m     \u001b[38;5;28;01mif\u001b[39;00m \u001b[38;5;28mself\u001b[39m\u001b[38;5;241m.\u001b[39m_line \u001b[38;5;129;01mis\u001b[39;00m \u001b[38;5;28;01mNone\u001b[39;00m:\n\u001b[0;32m--> 288\u001b[0m         \u001b[38;5;28mself\u001b[39m\u001b[38;5;241m.\u001b[39m_line \u001b[38;5;241m=\u001b[39m \u001b[43mlinecache\u001b[49m\u001b[38;5;241;43m.\u001b[39;49m\u001b[43mgetline\u001b[49m\u001b[43m(\u001b[49m\u001b[38;5;28;43mself\u001b[39;49m\u001b[38;5;241;43m.\u001b[39;49m\u001b[43mfilename\u001b[49m\u001b[43m,\u001b[49m\u001b[43m \u001b[49m\u001b[38;5;28;43mself\u001b[39;49m\u001b[38;5;241;43m.\u001b[39;49m\u001b[43mlineno\u001b[49m\u001b[43m)\u001b[49m\u001b[38;5;241m.\u001b[39mstrip()\n\u001b[1;32m    289\u001b[0m     \u001b[38;5;28;01mreturn\u001b[39;00m \u001b[38;5;28mself\u001b[39m\u001b[38;5;241m.\u001b[39m_line\n",
      "File \u001b[0;32m/data/users/bmak2/miniconda3/envs/jax-env/lib/python3.8/linecache.py:16\u001b[0m, in \u001b[0;36mgetline\u001b[0;34m(filename, lineno, module_globals)\u001b[0m\n\u001b[1;32m     15\u001b[0m \u001b[38;5;28;01mdef\u001b[39;00m \u001b[38;5;21mgetline\u001b[39m(filename, lineno, module_globals\u001b[38;5;241m=\u001b[39m\u001b[38;5;28;01mNone\u001b[39;00m):\n\u001b[0;32m---> 16\u001b[0m     lines \u001b[38;5;241m=\u001b[39m \u001b[43mgetlines\u001b[49m\u001b[43m(\u001b[49m\u001b[43mfilename\u001b[49m\u001b[43m,\u001b[49m\u001b[43m \u001b[49m\u001b[43mmodule_globals\u001b[49m\u001b[43m)\u001b[49m\n\u001b[1;32m     17\u001b[0m     \u001b[38;5;28;01mif\u001b[39;00m \u001b[38;5;241m1\u001b[39m \u001b[38;5;241m<\u001b[39m\u001b[38;5;241m=\u001b[39m lineno \u001b[38;5;241m<\u001b[39m\u001b[38;5;241m=\u001b[39m \u001b[38;5;28mlen\u001b[39m(lines):\n\u001b[1;32m     18\u001b[0m         \u001b[38;5;28;01mreturn\u001b[39;00m lines[lineno\u001b[38;5;241m-\u001b[39m\u001b[38;5;241m1\u001b[39m]\n",
      "File \u001b[0;32m/data/users/bmak2/miniconda3/envs/jax-env/lib/python3.8/linecache.py:47\u001b[0m, in \u001b[0;36mgetlines\u001b[0;34m(filename, module_globals)\u001b[0m\n\u001b[1;32m     44\u001b[0m         \u001b[38;5;28;01mreturn\u001b[39;00m cache[filename][\u001b[38;5;241m2\u001b[39m]\n\u001b[1;32m     46\u001b[0m \u001b[38;5;28;01mtry\u001b[39;00m:\n\u001b[0;32m---> 47\u001b[0m     \u001b[38;5;28;01mreturn\u001b[39;00m \u001b[43mupdatecache\u001b[49m\u001b[43m(\u001b[49m\u001b[43mfilename\u001b[49m\u001b[43m,\u001b[49m\u001b[43m \u001b[49m\u001b[43mmodule_globals\u001b[49m\u001b[43m)\u001b[49m\n\u001b[1;32m     48\u001b[0m \u001b[38;5;28;01mexcept\u001b[39;00m \u001b[38;5;167;01mMemoryError\u001b[39;00m:\n\u001b[1;32m     49\u001b[0m     clearcache()\n",
      "File \u001b[0;32m/data/users/bmak2/miniconda3/envs/jax-env/lib/python3.8/linecache.py:136\u001b[0m, in \u001b[0;36mupdatecache\u001b[0;34m(filename, module_globals)\u001b[0m\n\u001b[1;32m    134\u001b[0m         \u001b[38;5;28;01mreturn\u001b[39;00m []\n\u001b[1;32m    135\u001b[0m \u001b[38;5;28;01mtry\u001b[39;00m:\n\u001b[0;32m--> 136\u001b[0m     \u001b[38;5;28;01mwith\u001b[39;00m \u001b[43mtokenize\u001b[49m\u001b[38;5;241;43m.\u001b[39;49m\u001b[43mopen\u001b[49m\u001b[43m(\u001b[49m\u001b[43mfullname\u001b[49m\u001b[43m)\u001b[49m \u001b[38;5;28;01mas\u001b[39;00m fp:\n\u001b[1;32m    137\u001b[0m         lines \u001b[38;5;241m=\u001b[39m fp\u001b[38;5;241m.\u001b[39mreadlines()\n\u001b[1;32m    138\u001b[0m \u001b[38;5;28;01mexcept\u001b[39;00m \u001b[38;5;167;01mOSError\u001b[39;00m:\n",
      "File \u001b[0;32m/data/users/bmak2/miniconda3/envs/jax-env/lib/python3.8/tokenize.py:394\u001b[0m, in \u001b[0;36mopen\u001b[0;34m(filename)\u001b[0m\n\u001b[1;32m    392\u001b[0m buffer \u001b[38;5;241m=\u001b[39m _builtin_open(filename, \u001b[38;5;124m'\u001b[39m\u001b[38;5;124mrb\u001b[39m\u001b[38;5;124m'\u001b[39m)\n\u001b[1;32m    393\u001b[0m \u001b[38;5;28;01mtry\u001b[39;00m:\n\u001b[0;32m--> 394\u001b[0m     encoding, lines \u001b[38;5;241m=\u001b[39m \u001b[43mdetect_encoding\u001b[49m\u001b[43m(\u001b[49m\u001b[43mbuffer\u001b[49m\u001b[38;5;241;43m.\u001b[39;49m\u001b[43mreadline\u001b[49m\u001b[43m)\u001b[49m\n\u001b[1;32m    395\u001b[0m     buffer\u001b[38;5;241m.\u001b[39mseek(\u001b[38;5;241m0\u001b[39m)\n\u001b[1;32m    396\u001b[0m     text \u001b[38;5;241m=\u001b[39m TextIOWrapper(buffer, encoding, line_buffering\u001b[38;5;241m=\u001b[39m\u001b[38;5;28;01mTrue\u001b[39;00m)\n",
      "File \u001b[0;32m/data/users/bmak2/miniconda3/envs/jax-env/lib/python3.8/tokenize.py:363\u001b[0m, in \u001b[0;36mdetect_encoding\u001b[0;34m(readline)\u001b[0m\n\u001b[1;32m    360\u001b[0m         encoding \u001b[38;5;241m+\u001b[39m\u001b[38;5;241m=\u001b[39m \u001b[38;5;124m'\u001b[39m\u001b[38;5;124m-sig\u001b[39m\u001b[38;5;124m'\u001b[39m\n\u001b[1;32m    361\u001b[0m     \u001b[38;5;28;01mreturn\u001b[39;00m encoding\n\u001b[0;32m--> 363\u001b[0m first \u001b[38;5;241m=\u001b[39m \u001b[43mread_or_stop\u001b[49m\u001b[43m(\u001b[49m\u001b[43m)\u001b[49m\n\u001b[1;32m    364\u001b[0m \u001b[38;5;28;01mif\u001b[39;00m first\u001b[38;5;241m.\u001b[39mstartswith(BOM_UTF8):\n\u001b[1;32m    365\u001b[0m     bom_found \u001b[38;5;241m=\u001b[39m \u001b[38;5;28;01mTrue\u001b[39;00m\n",
      "File \u001b[0;32m/data/users/bmak2/miniconda3/envs/jax-env/lib/python3.8/tokenize.py:321\u001b[0m, in \u001b[0;36mdetect_encoding.<locals>.read_or_stop\u001b[0;34m()\u001b[0m\n\u001b[1;32m    319\u001b[0m \u001b[38;5;28;01mdef\u001b[39;00m \u001b[38;5;21mread_or_stop\u001b[39m():\n\u001b[1;32m    320\u001b[0m     \u001b[38;5;28;01mtry\u001b[39;00m:\n\u001b[0;32m--> 321\u001b[0m         \u001b[38;5;28;01mreturn\u001b[39;00m \u001b[43mreadline\u001b[49m\u001b[43m(\u001b[49m\u001b[43m)\u001b[49m\n\u001b[1;32m    322\u001b[0m     \u001b[38;5;28;01mexcept\u001b[39;00m \u001b[38;5;167;01mStopIteration\u001b[39;00m:\n\u001b[1;32m    323\u001b[0m         \u001b[38;5;28;01mreturn\u001b[39;00m \u001b[38;5;124mb\u001b[39m\u001b[38;5;124m'\u001b[39m\u001b[38;5;124m'\u001b[39m\n",
      "\u001b[0;31mKeyboardInterrupt\u001b[0m: "
     ]
    }
   ],
   "source": [
    "key1, key2 = random.split(random.PRNGKey(0), 2)\n",
    "it = dataloader_iter_fn(key1)\n",
    "sample_data = next(dataloader.__iter__(key2))"
   ]
  },
  {
   "cell_type": "code",
   "execution_count": null,
   "id": "92e62fcd-cfbb-4a33-8145-c35237af434f",
   "metadata": {},
   "outputs": [],
   "source": []
  },
  {
   "cell_type": "code",
   "execution_count": null,
   "id": "3c1a2fe4-ff89-4cab-81db-40b22e71b11a",
   "metadata": {},
   "outputs": [],
   "source": []
  },
  {
   "cell_type": "code",
   "execution_count": null,
   "id": "bba96a34-3f8d-4f83-9ccb-53d52c18ed32",
   "metadata": {},
   "outputs": [],
   "source": []
  },
  {
   "cell_type": "code",
   "execution_count": 39,
   "id": "041cd5f6-c3bb-4ac0-bd16-ba839e5f33db",
   "metadata": {},
   "outputs": [
    {
     "ename": "AttributeError",
     "evalue": "'_SingleProcessDataLoaderIter' object has no attribute 'dtype'",
     "output_type": "error",
     "traceback": [
      "\u001b[0;31m---------------------------------------------------------------------------\u001b[0m",
      "\u001b[0;31mAttributeError\u001b[0m                            Traceback (most recent call last)",
      "Input \u001b[0;32mIn [39]\u001b[0m, in \u001b[0;36m<cell line: 4>\u001b[0;34m()\u001b[0m\n\u001b[1;32m      1\u001b[0m key1, key2 \u001b[38;5;241m=\u001b[39m random\u001b[38;5;241m.\u001b[39msplit(random\u001b[38;5;241m.\u001b[39mPRNGKey(\u001b[38;5;241m0\u001b[39m), \u001b[38;5;241m2\u001b[39m)\n\u001b[1;32m      2\u001b[0m sample_data \u001b[38;5;241m=\u001b[39m \u001b[38;5;28mnext\u001b[39m(dataloader\u001b[38;5;241m.\u001b[39mmake_iter(key1))\n\u001b[0;32m----> 4\u001b[0m params \u001b[38;5;241m=\u001b[39m \u001b[43mmodel\u001b[49m\u001b[38;5;241;43m.\u001b[39;49m\u001b[43minit\u001b[49m\u001b[43m(\u001b[49m\u001b[43mkey2\u001b[49m\u001b[43m,\u001b[49m\u001b[43m \u001b[49m\u001b[43msample_data\u001b[49m\u001b[43m)\u001b[49m\n",
      "    \u001b[0;31m[... skipping hidden 9 frame]\u001b[0m\n",
      "File \u001b[0;32m/data/users/bmak2/miniconda3/envs/jax-env/lib/python3.8/contextlib.py:75\u001b[0m, in \u001b[0;36mContextDecorator.__call__.<locals>.inner\u001b[0;34m(*args, **kwds)\u001b[0m\n\u001b[1;32m     72\u001b[0m \u001b[38;5;129m@wraps\u001b[39m(func)\n\u001b[1;32m     73\u001b[0m \u001b[38;5;28;01mdef\u001b[39;00m \u001b[38;5;21minner\u001b[39m(\u001b[38;5;241m*\u001b[39margs, \u001b[38;5;241m*\u001b[39m\u001b[38;5;241m*\u001b[39mkwds):\n\u001b[1;32m     74\u001b[0m     \u001b[38;5;28;01mwith\u001b[39;00m \u001b[38;5;28mself\u001b[39m\u001b[38;5;241m.\u001b[39m_recreate_cm():\n\u001b[0;32m---> 75\u001b[0m         \u001b[38;5;28;01mreturn\u001b[39;00m \u001b[43mfunc\u001b[49m\u001b[43m(\u001b[49m\u001b[38;5;241;43m*\u001b[39;49m\u001b[43margs\u001b[49m\u001b[43m,\u001b[49m\u001b[43m \u001b[49m\u001b[38;5;241;43m*\u001b[39;49m\u001b[38;5;241;43m*\u001b[39;49m\u001b[43mkwds\u001b[49m\u001b[43m)\u001b[49m\n",
      "    \u001b[0;31m[... skipping hidden 2 frame]\u001b[0m\n",
      "Input \u001b[0;32mIn [12]\u001b[0m, in \u001b[0;36mZeroLayerTransformer.__call__\u001b[0;34m(self, input_ids)\u001b[0m\n\u001b[1;32m      5\u001b[0m \u001b[38;5;129m@nn\u001b[39m\u001b[38;5;241m.\u001b[39mcompact\n\u001b[1;32m      6\u001b[0m \u001b[38;5;28;01mdef\u001b[39;00m \u001b[38;5;21m__call__\u001b[39m(\u001b[38;5;28mself\u001b[39m, input_ids):\n\u001b[1;32m      7\u001b[0m     \u001b[38;5;124;03m\"\"\"\u001b[39;00m\n\u001b[1;32m      8\u001b[0m \u001b[38;5;124;03m    input_ids will be a batch of input ids shape (n_examples, max_seq_len)\u001b[39;00m\n\u001b[1;32m      9\u001b[0m \u001b[38;5;124;03m    \"\"\"\u001b[39;00m\n\u001b[0;32m---> 10\u001b[0m     embedded \u001b[38;5;241m=\u001b[39m \u001b[43mnn\u001b[49m\u001b[38;5;241;43m.\u001b[39;49m\u001b[43mEmbed\u001b[49m\u001b[43m(\u001b[49m\u001b[38;5;28;43mself\u001b[39;49m\u001b[38;5;241;43m.\u001b[39;49m\u001b[43mvocab_size\u001b[49m\u001b[43m,\u001b[49m\u001b[43m \u001b[49m\u001b[38;5;28;43mself\u001b[39;49m\u001b[38;5;241;43m.\u001b[39;49m\u001b[43membed_dim\u001b[49m\u001b[43m,\u001b[49m\u001b[43m \u001b[49m\u001b[43mname\u001b[49m\u001b[38;5;241;43m=\u001b[39;49m\u001b[38;5;124;43m'\u001b[39;49m\u001b[38;5;124;43membedding_matrix\u001b[39;49m\u001b[38;5;124;43m'\u001b[39;49m\u001b[43m)\u001b[49m\u001b[43m(\u001b[49m\u001b[43minput_ids\u001b[49m\u001b[43m)\u001b[49m\n\u001b[1;32m     11\u001b[0m     unembedded \u001b[38;5;241m=\u001b[39m nn\u001b[38;5;241m.\u001b[39mDense(vocab_size, use_bias\u001b[38;5;241m=\u001b[39m\u001b[38;5;28;01mFalse\u001b[39;00m, name\u001b[38;5;241m=\u001b[39m\u001b[38;5;124m'\u001b[39m\u001b[38;5;124munembedding_matrix\u001b[39m\u001b[38;5;124m'\u001b[39m)(embedded)\n\u001b[1;32m     12\u001b[0m     logits \u001b[38;5;241m=\u001b[39m nn\u001b[38;5;241m.\u001b[39msoftmax(unembedded)\n",
      "    \u001b[0;31m[... skipping hidden 1 frame]\u001b[0m\n",
      "File \u001b[0;32m/data/users/bmak2/miniconda3/envs/jax-env/lib/python3.8/contextlib.py:75\u001b[0m, in \u001b[0;36mContextDecorator.__call__.<locals>.inner\u001b[0;34m(*args, **kwds)\u001b[0m\n\u001b[1;32m     72\u001b[0m \u001b[38;5;129m@wraps\u001b[39m(func)\n\u001b[1;32m     73\u001b[0m \u001b[38;5;28;01mdef\u001b[39;00m \u001b[38;5;21minner\u001b[39m(\u001b[38;5;241m*\u001b[39margs, \u001b[38;5;241m*\u001b[39m\u001b[38;5;241m*\u001b[39mkwds):\n\u001b[1;32m     74\u001b[0m     \u001b[38;5;28;01mwith\u001b[39;00m \u001b[38;5;28mself\u001b[39m\u001b[38;5;241m.\u001b[39m_recreate_cm():\n\u001b[0;32m---> 75\u001b[0m         \u001b[38;5;28;01mreturn\u001b[39;00m \u001b[43mfunc\u001b[49m\u001b[43m(\u001b[49m\u001b[38;5;241;43m*\u001b[39;49m\u001b[43margs\u001b[49m\u001b[43m,\u001b[49m\u001b[43m \u001b[49m\u001b[38;5;241;43m*\u001b[39;49m\u001b[38;5;241;43m*\u001b[39;49m\u001b[43mkwds\u001b[49m\u001b[43m)\u001b[49m\n",
      "    \u001b[0;31m[... skipping hidden 2 frame]\u001b[0m\n",
      "File \u001b[0;32m/data/users/bmak2/miniconda3/envs/jax-env/lib/python3.8/site-packages/flax/linen/linear.py:660\u001b[0m, in \u001b[0;36mEmbed.__call__\u001b[0;34m(self, inputs)\u001b[0m\n\u001b[1;32m    650\u001b[0m \u001b[38;5;28;01mdef\u001b[39;00m \u001b[38;5;21m__call__\u001b[39m(\u001b[38;5;28mself\u001b[39m, inputs: Array) \u001b[38;5;241m-\u001b[39m\u001b[38;5;241m>\u001b[39m Array:\n\u001b[1;32m    651\u001b[0m   \u001b[38;5;124;03m\"\"\"Embeds the inputs along the last dimension.\u001b[39;00m\n\u001b[1;32m    652\u001b[0m \n\u001b[1;32m    653\u001b[0m \u001b[38;5;124;03m  Args:\u001b[39;00m\n\u001b[0;32m   (...)\u001b[0m\n\u001b[1;32m    658\u001b[0m \u001b[38;5;124;03m    with an additional `features` dimension appended.\u001b[39;00m\n\u001b[1;32m    659\u001b[0m \u001b[38;5;124;03m  \"\"\"\u001b[39;00m\n\u001b[0;32m--> 660\u001b[0m   \u001b[38;5;28;01mif\u001b[39;00m \u001b[38;5;129;01mnot\u001b[39;00m jnp\u001b[38;5;241m.\u001b[39missubdtype(\u001b[43minputs\u001b[49m\u001b[38;5;241;43m.\u001b[39;49m\u001b[43mdtype\u001b[49m, jnp\u001b[38;5;241m.\u001b[39minteger):\n\u001b[1;32m    661\u001b[0m     \u001b[38;5;28;01mraise\u001b[39;00m \u001b[38;5;167;01mValueError\u001b[39;00m(\u001b[38;5;124m'\u001b[39m\u001b[38;5;124mInput type must be an integer or unsigned integer.\u001b[39m\u001b[38;5;124m'\u001b[39m)\n\u001b[1;32m    662\u001b[0m   \u001b[38;5;66;03m# Use take because fancy indexing numpy arrays with JAX indices does not\u001b[39;00m\n\u001b[1;32m    663\u001b[0m   \u001b[38;5;66;03m# work correctly.\u001b[39;00m\n",
      "\u001b[0;31mAttributeError\u001b[0m: '_SingleProcessDataLoaderIter' object has no attribute 'dtype'"
     ]
    }
   ],
   "source": [
    "key1, key2 = random.split(random.PRNGKey(0), 2)\n",
    "sample_data = next(dataloader.make_iter(key1))\n",
    "\n",
    "params = model.init(key2, sample_data)"
   ]
  },
  {
   "cell_type": "code",
   "execution_count": null,
   "id": "7ee32f16-8327-4e2d-84d0-0461d82bff16",
   "metadata": {},
   "outputs": [],
   "source": []
  },
  {
   "cell_type": "code",
   "execution_count": null,
   "id": "acfc4858-e807-4e4e-a7c4-2224ebcee015",
   "metadata": {},
   "outputs": [],
   "source": []
  },
  {
   "cell_type": "code",
   "execution_count": null,
   "id": "490fed4b-01b7-4376-a42a-a3202ca413f8",
   "metadata": {},
   "outputs": [],
   "source": []
  },
  {
   "cell_type": "code",
   "execution_count": null,
   "id": "b3c68c4f-0907-4a08-83f3-59aa03b98c93",
   "metadata": {},
   "outputs": [],
   "source": [
    "VOCAB_SIZE =  tokenizer.vocab_size\n",
    "EMBED_DIM = 12*64\n",
    "lr = 1e-2\n",
    "\n",
    "\n",
    "model = ZeroLayerTransformer(vocab_size=VOCAB_SIZE, embed_dim=EMBED_DIM)\n",
    "tx = optax.sgd(learning_rate=lr)\n",
    "\n",
    "\n",
    "def cross_entropy_loss(params, batch):\n",
    "    # Define the cross entropy loss for a single pair (x,y)\n",
    "    def cross_entropy_error(x, y):\n",
    "        # We don't have the label for the last token\n",
    "        probs = model.apply(params, x)\n",
    "        \n",
    "        \n",
    "        \n",
    "        \n",
    "        return jnp.inner(y-pred, y-pred) / 2.0\n",
    "    # Vectorize the previous to compute the average of the loss on all samples.\n",
    "    return jnp.mean(jax.vmap(squared_error)(x_batched,y_batched), axis=0)\n",
    "\n",
    "\n",
    "def train_step(engine, batch):\n",
    "    \n",
    "    \n",
    "    "
   ]
  },
  {
   "cell_type": "code",
   "execution_count": null,
   "id": "d5458a6f-c08e-4a54-93da-5f702986bdbf",
   "metadata": {},
   "outputs": [],
   "source": []
  },
  {
   "cell_type": "code",
   "execution_count": null,
   "id": "ac477ed8-20de-43a2-b348-ca270225c6ec",
   "metadata": {},
   "outputs": [],
   "source": []
  },
  {
   "cell_type": "code",
   "execution_count": null,
   "id": "b05f1bd1-83d2-47f6-9bb7-6900d0cee7f3",
   "metadata": {},
   "outputs": [],
   "source": []
  },
  {
   "cell_type": "code",
   "execution_count": null,
   "id": "69574410-4614-466d-8a49-2be8dba9a959",
   "metadata": {},
   "outputs": [],
   "source": []
  },
  {
   "cell_type": "code",
   "execution_count": null,
   "id": "b848ae13-226a-4966-bfe6-651870ab1e2a",
   "metadata": {},
   "outputs": [],
   "source": [
    "# possible usage\n",
    "\n",
    "vocab_size = 20\n",
    "embed_dim = 10\n",
    "\n",
    "model = ZeroLayerTransformer(vocab_size, embed_dim)\n",
    "\n",
    "\n",
    "def update(state, batch):\n",
    "    logits = model.apply(state.params, batch)\n",
    "    \n",
    "\n",
    "trainer = Engine(update)\n",
    "\n",
    "\n",
    "trainer.on(Events.STARTED)\n",
    "def setup_optimizer(state):\n",
    "    pass\n",
    "\n",
    "\n",
    "trainer.on(Events.STARTED)\n",
    "def init_params(state):\n",
    "    pass\n"
   ]
  },
  {
   "cell_type": "code",
   "execution_count": null,
   "id": "6e8e7899-6778-4685-9e9c-9015c01d2160",
   "metadata": {},
   "outputs": [],
   "source": [
    "from datasets import load_from_disk\n",
    "from torch.utils.data import dataloader\n",
    "\n",
    "\n",
    "dataset = load_from_disk('tokenized_wiki_dataset')\n",
    "dl = dataloader(dataset)\n",
    "trainer.run(dl, max_epochs=10)"
   ]
  },
  {
   "cell_type": "code",
   "execution_count": 87,
   "id": "c439c626-c184-459d-a1d8-b89ab6a4467a",
   "metadata": {},
   "outputs": [],
   "source": [
    "from datasets import load_from_disk\n",
    "from torch.utils.data import DataLoader\n",
    "\n",
    "\n",
    "dataset = load_from_disk('tokenized_wiki_dataset')\n",
    "dl = JaxDataLoader(dataset.select(range(5)))"
   ]
  },
  {
   "cell_type": "code",
   "execution_count": null,
   "id": "82bf3e7a-6774-405f-b1a7-f38c7e17367c",
   "metadata": {},
   "outputs": [],
   "source": []
  },
  {
   "cell_type": "code",
   "execution_count": null,
   "id": "b1f9c687-68a0-4ff7-9d47-50508450a4c9",
   "metadata": {},
   "outputs": [],
   "source": []
  },
  {
   "cell_type": "code",
   "execution_count": null,
   "id": "7d556c87-d14e-4eee-9a08-08caf5fcc129",
   "metadata": {},
   "outputs": [],
   "source": []
  },
  {
   "cell_type": "code",
   "execution_count": null,
   "id": "83daa234-1565-418c-b605-d5524d7953ee",
   "metadata": {},
   "outputs": [],
   "source": []
  },
  {
   "cell_type": "code",
   "execution_count": null,
   "id": "ebe08419-6cd0-48a6-992f-d22c3dd4ec08",
   "metadata": {},
   "outputs": [],
   "source": []
  },
  {
   "cell_type": "code",
   "execution_count": 63,
   "id": "29bef660-6209-4586-a556-4fd2359f9837",
   "metadata": {},
   "outputs": [
    {
     "data": {
      "text/plain": [
       "Dataset({\n",
       "    features: ['input_ids'],\n",
       "    num_rows: 5\n",
       "})"
      ]
     },
     "execution_count": 63,
     "metadata": {},
     "output_type": "execute_result"
    }
   ],
   "source": [
    "(dl.dataset)"
   ]
  },
  {
   "cell_type": "code",
   "execution_count": 69,
   "id": "e58b5790-91f1-46f3-880e-d7eafa276018",
   "metadata": {},
   "outputs": [],
   "source": [
    "def test(a, b=2, *, c=4):\n",
    "    print(a, b, c)"
   ]
  },
  {
   "cell_type": "code",
   "execution_count": 70,
   "id": "1008a291-ec54-4bea-82a9-56e97e10b949",
   "metadata": {},
   "outputs": [
    {
     "ename": "TypeError",
     "evalue": "test() takes from 1 to 2 positional arguments but 3 were given",
     "output_type": "error",
     "traceback": [
      "\u001b[0;31m---------------------------------------------------------------------------\u001b[0m",
      "\u001b[0;31mTypeError\u001b[0m                                 Traceback (most recent call last)",
      "Input \u001b[0;32mIn [70]\u001b[0m, in \u001b[0;36m<cell line: 1>\u001b[0;34m()\u001b[0m\n\u001b[0;32m----> 1\u001b[0m \u001b[43mtest\u001b[49m\u001b[43m(\u001b[49m\u001b[38;5;241;43m1\u001b[39;49m\u001b[43m,\u001b[49m\u001b[43m \u001b[49m\u001b[38;5;241;43m2\u001b[39;49m\u001b[43m,\u001b[49m\u001b[43m \u001b[49m\u001b[38;5;241;43m3\u001b[39;49m\u001b[43m)\u001b[49m\n",
      "\u001b[0;31mTypeError\u001b[0m: test() takes from 1 to 2 positional arguments but 3 were given"
     ]
    }
   ],
   "source": [
    "test(1, 2, 3)"
   ]
  },
  {
   "cell_type": "code",
   "execution_count": 71,
   "id": "858c1d6e-1c3e-4165-871d-752ee275da07",
   "metadata": {},
   "outputs": [
    {
     "name": "stdout",
     "output_type": "stream",
     "text": [
      "1 2 3\n"
     ]
    }
   ],
   "source": [
    "test(1, 2, c=3)"
   ]
  },
  {
   "cell_type": "code",
   "execution_count": 99,
   "id": "dc46629b-35ea-4c1c-9d78-4e68c095567c",
   "metadata": {},
   "outputs": [],
   "source": [
    "dl = JaxDataLoader(dataset.select(range(5)))"
   ]
  },
  {
   "cell_type": "code",
   "execution_count": 100,
   "id": "ab099f36-12b2-43bd-83ab-b31ab06917af",
   "metadata": {},
   "outputs": [
    {
     "data": {
      "text/plain": [
       "1"
      ]
     },
     "execution_count": 100,
     "metadata": {},
     "output_type": "execute_result"
    }
   ],
   "source": [
    "next(iter(dl.sampler))"
   ]
  },
  {
   "cell_type": "code",
   "execution_count": 101,
   "id": "f18ce072-7d8f-4e46-90ad-ab24c224ffe6",
   "metadata": {},
   "outputs": [],
   "source": [
    "for ex in dl:\n",
    "    pass"
   ]
  },
  {
   "cell_type": "code",
   "execution_count": 102,
   "id": "1ccc8b20-7528-4c55-83a1-9e0a12146dad",
   "metadata": {},
   "outputs": [
    {
     "data": {
      "text/plain": [
       "{'input_ids': [tensor([11697]),\n",
       "  tensor([1211]),\n",
       "  tensor([507]),\n",
       "  tensor([438]),\n",
       "  tensor([2010]),\n",
       "  tensor([5383]),\n",
       "  tensor([470]),\n",
       "  tensor([2799]),\n",
       "  tensor([561]),\n",
       "  tensor([507]),\n",
       "  tensor([442]),\n",
       "  tensor([1424]),\n",
       "  tensor([655]),\n",
       "  tensor([465]),\n",
       "  tensor([4059]),\n",
       "  tensor([470])]}"
      ]
     },
     "execution_count": 102,
     "metadata": {},
     "output_type": "execute_result"
    }
   ],
   "source": [
    "ex"
   ]
  },
  {
   "cell_type": "code",
   "execution_count": 105,
   "id": "7054cd07-c5a7-4373-b1b9-1eaf40c04592",
   "metadata": {},
   "outputs": [],
   "source": [
    "for ex in dl:\n",
    "    pass"
   ]
  },
  {
   "cell_type": "code",
   "execution_count": 106,
   "id": "1a3ef10b-5916-45e0-9084-99ad93bcc5d5",
   "metadata": {},
   "outputs": [
    {
     "data": {
      "text/plain": [
       "{'input_ids': [tensor([1211]),\n",
       "  tensor([5968]),\n",
       "  tensor([502]),\n",
       "  tensor([441]),\n",
       "  tensor([13317]),\n",
       "  tensor([465]),\n",
       "  tensor([441]),\n",
       "  tensor([992]),\n",
       "  tensor([445]),\n",
       "  tensor([636]),\n",
       "  tensor([544]),\n",
       "  tensor([5399]),\n",
       "  tensor([476]),\n",
       "  tensor([522]),\n",
       "  tensor([19074]),\n",
       "  tensor([619])]}"
      ]
     },
     "execution_count": 106,
     "metadata": {},
     "output_type": "execute_result"
    }
   ],
   "source": [
    "ex"
   ]
  },
  {
   "cell_type": "code",
   "execution_count": 43,
   "id": "00572a92-b6ea-4112-9a11-3d5cc7e80041",
   "metadata": {},
   "outputs": [
    {
     "data": {
      "text/plain": [
       "['_DataLoader__initialized',\n",
       " '_DataLoader__multiprocessing_context',\n",
       " '_IterableDataset_len_called',\n",
       " '__annotations__',\n",
       " '__class__',\n",
       " '__class_getitem__',\n",
       " '__delattr__',\n",
       " '__dict__',\n",
       " '__dir__',\n",
       " '__doc__',\n",
       " '__eq__',\n",
       " '__format__',\n",
       " '__ge__',\n",
       " '__getattribute__',\n",
       " '__gt__',\n",
       " '__hash__',\n",
       " '__init__',\n",
       " '__init_subclass__',\n",
       " '__iter__',\n",
       " '__le__',\n",
       " '__len__',\n",
       " '__lt__',\n",
       " '__module__',\n",
       " '__ne__',\n",
       " '__new__',\n",
       " '__orig_bases__',\n",
       " '__parameters__',\n",
       " '__reduce__',\n",
       " '__reduce_ex__',\n",
       " '__repr__',\n",
       " '__setattr__',\n",
       " '__sizeof__',\n",
       " '__slots__',\n",
       " '__str__',\n",
       " '__subclasshook__',\n",
       " '__weakref__',\n",
       " '_auto_collation',\n",
       " '_dataset_kind',\n",
       " '_get_iterator',\n",
       " '_get_shared_seed',\n",
       " '_index_sampler',\n",
       " '_is_protocol',\n",
       " '_iterator',\n",
       " 'batch_sampler',\n",
       " 'batch_size',\n",
       " 'check_worker_number_rationality',\n",
       " 'collate_fn',\n",
       " 'dataset',\n",
       " 'drop_last',\n",
       " 'generator',\n",
       " 'multiprocessing_context',\n",
       " 'num_workers',\n",
       " 'persistent_workers',\n",
       " 'pin_memory',\n",
       " 'pin_memory_device',\n",
       " 'prefetch_factor',\n",
       " 'sampler',\n",
       " 'timeout',\n",
       " 'worker_init_fn']"
      ]
     },
     "execution_count": 43,
     "metadata": {},
     "output_type": "execute_result"
    }
   ],
   "source": [
    "dir(dl)"
   ]
  },
  {
   "cell_type": "code",
   "execution_count": null,
   "id": "e75f121e-1e6b-4234-870c-77938d326de3",
   "metadata": {},
   "outputs": [],
   "source": []
  },
  {
   "cell_type": "code",
   "execution_count": null,
   "id": "c8581b53-4e58-4b44-9ae5-7aad10ea2a2c",
   "metadata": {},
   "outputs": [],
   "source": []
  },
  {
   "cell_type": "code",
   "execution_count": null,
   "id": "5e656aaf-a62b-496a-90e5-ba7fe086c299",
   "metadata": {},
   "outputs": [],
   "source": []
  },
  {
   "cell_type": "code",
   "execution_count": null,
   "id": "e9b16237-59ca-43a6-85b8-463b79a08724",
   "metadata": {},
   "outputs": [],
   "source": [
    "next(iter(dl))"
   ]
  },
  {
   "cell_type": "code",
   "execution_count": 31,
   "id": "40f2e8a3-878c-4825-978d-5d1c2165eb7b",
   "metadata": {},
   "outputs": [
    {
     "data": {
      "text/plain": [
       "{'input_ids': [tensor([11697]),\n",
       "  tensor([1211]),\n",
       "  tensor([507]),\n",
       "  tensor([438]),\n",
       "  tensor([2010]),\n",
       "  tensor([5383]),\n",
       "  tensor([470]),\n",
       "  tensor([2799]),\n",
       "  tensor([561]),\n",
       "  tensor([507]),\n",
       "  tensor([442]),\n",
       "  tensor([1424]),\n",
       "  tensor([655]),\n",
       "  tensor([465]),\n",
       "  tensor([4059]),\n",
       "  tensor([470])]}"
      ]
     },
     "execution_count": 31,
     "metadata": {},
     "output_type": "execute_result"
    }
   ],
   "source": [
    "next(iter(dl))"
   ]
  },
  {
   "cell_type": "code",
   "execution_count": 33,
   "id": "c3668f2f-0834-4aeb-97b2-cd6b3d4aade9",
   "metadata": {},
   "outputs": [
    {
     "data": {
      "text/plain": [
       "{'input_ids': [[11697,\n",
       "   1211,\n",
       "   507,\n",
       "   438,\n",
       "   2010,\n",
       "   5383,\n",
       "   470,\n",
       "   2799,\n",
       "   561,\n",
       "   507,\n",
       "   442,\n",
       "   1424,\n",
       "   655,\n",
       "   465,\n",
       "   4059,\n",
       "   470],\n",
       "  [5544,\n",
       "   283,\n",
       "   713,\n",
       "   2025,\n",
       "   5384,\n",
       "   619,\n",
       "   445,\n",
       "   733,\n",
       "   443,\n",
       "   304,\n",
       "   620,\n",
       "   3867,\n",
       "   465,\n",
       "   16939,\n",
       "   447,\n",
       "   11697],\n",
       "  [1211,\n",
       "   5968,\n",
       "   502,\n",
       "   441,\n",
       "   13317,\n",
       "   465,\n",
       "   441,\n",
       "   992,\n",
       "   445,\n",
       "   636,\n",
       "   544,\n",
       "   5399,\n",
       "   476,\n",
       "   522,\n",
       "   19074,\n",
       "   619],\n",
       "  [445,\n",
       "   3154,\n",
       "   467,\n",
       "   17578,\n",
       "   445,\n",
       "   470,\n",
       "   7193,\n",
       "   1354,\n",
       "   447,\n",
       "   509,\n",
       "   438,\n",
       "   8146,\n",
       "   1500,\n",
       "   496,\n",
       "   3287,\n",
       "   2799],\n",
       "  [445,\n",
       "   2967,\n",
       "   497,\n",
       "   441,\n",
       "   17351,\n",
       "   3023,\n",
       "   1500,\n",
       "   465,\n",
       "   441,\n",
       "   2010,\n",
       "   10693,\n",
       "   445,\n",
       "   544,\n",
       "   507,\n",
       "   2797,\n",
       "   2123]]}"
      ]
     },
     "execution_count": 33,
     "metadata": {},
     "output_type": "execute_result"
    }
   ],
   "source": [
    "dataset[:5]"
   ]
  },
  {
   "cell_type": "code",
   "execution_count": null,
   "id": "50c91192-9ced-4419-a01d-b45951afa43e",
   "metadata": {},
   "outputs": [],
   "source": []
  },
  {
   "cell_type": "code",
   "execution_count": null,
   "id": "a1e687c0-d6f7-4eea-8437-842ba364ecc7",
   "metadata": {},
   "outputs": [],
   "source": []
  },
  {
   "cell_type": "code",
   "execution_count": 2,
   "id": "b4a8865a-4117-43b3-a7ba-8f3e80b0929b",
   "metadata": {},
   "outputs": [
    {
     "data": {
      "text/plain": [
       "<Event.STARTED: 'started'>"
      ]
     },
     "execution_count": 2,
     "metadata": {},
     "output_type": "execute_result"
    }
   ],
   "source": [
    "Event.STARTED"
   ]
  },
  {
   "cell_type": "code",
   "execution_count": null,
   "id": "fd7a0763-e0fd-423b-b6f2-358a8f4b0b0f",
   "metadata": {},
   "outputs": [],
   "source": []
  }
 ],
 "metadata": {
  "kernelspec": {
   "display_name": "Python [conda env:jax-env]",
   "language": "python",
   "name": "conda-env-jax-env-py"
  },
  "language_info": {
   "codemirror_mode": {
    "name": "ipython",
    "version": 3
   },
   "file_extension": ".py",
   "mimetype": "text/x-python",
   "name": "python",
   "nbconvert_exporter": "python",
   "pygments_lexer": "ipython3",
   "version": "3.8.13"
  }
 },
 "nbformat": 4,
 "nbformat_minor": 5
}
