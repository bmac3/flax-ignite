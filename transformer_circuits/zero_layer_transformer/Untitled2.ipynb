{
 "cells": [
  {
   "cell_type": "markdown",
   "id": "b853daa0-266a-4391-b073-45369791d5f1",
   "metadata": {},
   "source": [
    "Pytree nodes interlude"
   ]
  },
  {
   "cell_type": "markdown",
   "id": "34cfbfea-7a43-4291-883c-084605111d78",
   "metadata": {},
   "source": [
    "We come to an issue here of what fields should we tell jax to ignore (i.e. set pytree_node=False). The TrainState for flax only tells jax to ignore the functions (tx and apply_fn). Variables like iteration, epoch, and seed don't need their gradient being taken. They will also most likely not need to be vmapped over (we shouldn't have the need to vectorize over any of these). The other transformation would be jitting. I'm not sure what the implications of jitting a function with pytree_nodes set to false. Let's explore this."
   ]
  },
  {
   "cell_type": "code",
   "execution_count": 22,
   "id": "90f6c3ee-e282-40a2-aab6-74c759d6ba1b",
   "metadata": {},
   "outputs": [
    {
     "data": {
      "text/plain": [
       "DeviceArray([[5., 5., 5., ..., 5., 5., 5.],\n",
       "             [5., 5., 5., ..., 5., 5., 5.],\n",
       "             [5., 5., 5., ..., 5., 5., 5.],\n",
       "             ...,\n",
       "             [5., 5., 5., ..., 5., 5., 5.],\n",
       "             [5., 5., 5., ..., 5., 5., 5.],\n",
       "             [5., 5., 5., ..., 5., 5., 5.]], dtype=float32)"
      ]
     },
     "execution_count": 22,
     "metadata": {},
     "output_type": "execute_result"
    }
   ],
   "source": [
    "from jax import numpy as jnp\n",
    "\n",
    "\n",
    "@struct.dataclass\n",
    "class Bag:\n",
    "    a: Any\n",
    "    b: Any\n",
    "    \n",
    "    \n",
    "def sum_bag(bag):\n",
    "    return bag.a * bag.a + bag.b * 2.0\n",
    "\n",
    "a = jnp.ones((5000, 5000))\n",
    "\n",
    "b = 2.0 * jnp.ones((5000, 5000))\n",
    "\n",
    "bag = Bag(a, b)\n",
    "sum_bag(bag)"
   ]
  },
  {
   "cell_type": "code",
   "execution_count": 23,
   "id": "e8c9a0e2-e7d2-4bc4-ae8e-a509b6811fe9",
   "metadata": {},
   "outputs": [
    {
     "name": "stdout",
     "output_type": "stream",
     "text": [
      "859 µs ± 393 ns per loop (mean ± std. dev. of 7 runs, 1,000 loops each)\n"
     ]
    }
   ],
   "source": [
    "%timeit sum_bag(bag)"
   ]
  },
  {
   "cell_type": "code",
   "execution_count": 60,
   "id": "43c1dc34-39f0-43f3-9001-691b2f001ac2",
   "metadata": {},
   "outputs": [
    {
     "data": {
      "text/plain": [
       "Bag(a=DeviceArray([[1., 1., 1., ..., 1., 1., 1.],\n",
       "             [1., 1., 1., ..., 1., 1., 1.],\n",
       "             [1., 1., 1., ..., 1., 1., 1.],\n",
       "             ...,\n",
       "             [1., 1., 1., ..., 1., 1., 1.],\n",
       "             [1., 1., 1., ..., 1., 1., 1.],\n",
       "             [1., 1., 1., ..., 1., 1., 1.]], dtype=float32), b=DeviceArray([[2., 2., 2., ..., 2., 2., 2.],\n",
       "             [2., 2., 2., ..., 2., 2., 2.],\n",
       "             [2., 2., 2., ..., 2., 2., 2.],\n",
       "             ...,\n",
       "             [2., 2., 2., ..., 2., 2., 2.],\n",
       "             [2., 2., 2., ..., 2., 2., 2.],\n",
       "             [2., 2., 2., ..., 2., 2., 2.]], dtype=float32), c=DeviceArray([[5., 5., 5., ..., 5., 5., 5.],\n",
       "             [5., 5., 5., ..., 5., 5., 5.],\n",
       "             [5., 5., 5., ..., 5., 5., 5.],\n",
       "             ...,\n",
       "             [5., 5., 5., ..., 5., 5., 5.],\n",
       "             [5., 5., 5., ..., 5., 5., 5.],\n",
       "             [5., 5., 5., ..., 5., 5., 5.]], dtype=float32))"
      ]
     },
     "execution_count": 60,
     "metadata": {},
     "output_type": "execute_result"
    }
   ],
   "source": [
    "from jax import jit, vmap\n",
    "\n",
    "jitted_sum_bag = jit(sum_bag)\n",
    "jitted_sum_bag(bag)"
   ]
  },
  {
   "cell_type": "code",
   "execution_count": 36,
   "id": "94971c91-6444-4a71-916b-fe45ddac6e1d",
   "metadata": {},
   "outputs": [
    {
     "name": "stdout",
     "output_type": "stream",
     "text": [
      "362 µs ± 90.8 ns per loop (mean ± std. dev. of 7 runs, 1,000 loops each)\n"
     ]
    }
   ],
   "source": [
    "@struct.dataclass\n",
    "class Bag:\n",
    "    a: Any\n",
    "    b: Any\n",
    "    \n",
    "    \n",
    "bag = Bag(a, b)\n",
    "\n",
    "%timeit jitted_sum_bag(bag)"
   ]
  },
  {
   "cell_type": "code",
   "execution_count": 38,
   "id": "a1b97812-7bcb-46d3-a37d-fc5a772eaa89",
   "metadata": {},
   "outputs": [
    {
     "name": "stdout",
     "output_type": "stream",
     "text": [
      "85.3 µs ± 28.5 µs per loop (mean ± std. dev. of 7 runs, 1 loop each)\n"
     ]
    }
   ],
   "source": [
    "@struct.dataclass\n",
    "class Bag:\n",
    "    a: Any\n",
    "    b: Any = struct.field(pytree_node=False)\n",
    "    \n",
    "\n",
    "bag = Bag(a, b)\n",
    "\n",
    "%timeit jitted_sum_bag(bag)"
   ]
  },
  {
   "cell_type": "code",
   "execution_count": 40,
   "id": "c4054db7-1368-4a77-8980-50dd1cd288a5",
   "metadata": {},
   "outputs": [
    {
     "name": "stdout",
     "output_type": "stream",
     "text": [
      "38.7 µs ± 18.6 µs per loop (mean ± std. dev. of 7 runs, 1 loop each)\n"
     ]
    }
   ],
   "source": [
    "@struct.dataclass\n",
    "class Bag:\n",
    "    a: Any = struct.field(pytree_node=False)\n",
    "    b: Any = struct.field(pytree_node=False)\n",
    "    \n",
    "\n",
    "bag = Bag(a, b)\n",
    "\n",
    "%timeit jitted_sum_bag(bag)"
   ]
  },
  {
   "cell_type": "code",
   "execution_count": 44,
   "id": "4dbd99b9-d036-4e6c-b83d-423912021bb8",
   "metadata": {},
   "outputs": [],
   "source": [
    "def sum_bag(bag):\n",
    "    return bag.replace(c=bag.a * bag.a + bag.b * 2.0)\n",
    "\n",
    "jitted_sum_bag = jit(sum_bag)"
   ]
  },
  {
   "cell_type": "code",
   "execution_count": 46,
   "id": "b7bfe037-29c3-4bc8-904a-f137d639eec7",
   "metadata": {},
   "outputs": [
    {
     "name": "stdout",
     "output_type": "stream",
     "text": [
      "844 µs ± 36.7 ns per loop (mean ± std. dev. of 7 runs, 1,000 loops each)\n"
     ]
    }
   ],
   "source": [
    "@struct.dataclass\n",
    "class Bag:\n",
    "    a: Any\n",
    "    b: Any\n",
    "    c: Any = None\n",
    "    \n",
    "    \n",
    "bag = Bag(a, b)\n",
    "\n",
    "%timeit jitted_sum_bag(bag)"
   ]
  },
  {
   "cell_type": "code",
   "execution_count": 48,
   "id": "6f2e2348-7cef-4493-ab86-917c493d7248",
   "metadata": {},
   "outputs": [
    {
     "name": "stdout",
     "output_type": "stream",
     "text": [
      "484 µs ± 33.4 ns per loop (mean ± std. dev. of 7 runs, 1,000 loops each)\n"
     ]
    }
   ],
   "source": [
    "@struct.dataclass\n",
    "class Bag:\n",
    "    a: Any\n",
    "    b: Any\n",
    "    c: Any = struct.field(pytree_node=False, default=None)\n",
    "    \n",
    "    \n",
    "bag = Bag(a, b)\n",
    "\n",
    "%timeit jitted_sum_bag(bag)"
   ]
  },
  {
   "cell_type": "code",
   "execution_count": 55,
   "id": "cc4e97c7-e59e-40df-96eb-b057e75886fd",
   "metadata": {
    "tags": []
   },
   "outputs": [
    {
     "data": {
      "text/plain": [
       "Bag(a=DeviceArray([[1., 1., 1., ..., 1., 1., 1.],\n",
       "             [1., 1., 1., ..., 1., 1., 1.],\n",
       "             [1., 1., 1., ..., 1., 1., 1.],\n",
       "             ...,\n",
       "             [1., 1., 1., ..., 1., 1., 1.],\n",
       "             [1., 1., 1., ..., 1., 1., 1.],\n",
       "             [1., 1., 1., ..., 1., 1., 1.]], dtype=float32), b=DeviceArray([[2., 2., 2., ..., 2., 2., 2.],\n",
       "             [2., 2., 2., ..., 2., 2., 2.],\n",
       "             [2., 2., 2., ..., 2., 2., 2.],\n",
       "             ...,\n",
       "             [2., 2., 2., ..., 2., 2., 2.],\n",
       "             [2., 2., 2., ..., 2., 2., 2.],\n",
       "             [2., 2., 2., ..., 2., 2., 2.]], dtype=float32), c=2.0)"
      ]
     },
     "execution_count": 55,
     "metadata": {},
     "output_type": "execute_result"
    }
   ],
   "source": [
    "@struct.dataclass\n",
    "class Bag:\n",
    "    a: Any\n",
    "    b: Any\n",
    "    c: Any = struct.field(pytree_node=False, default=tuple())\n",
    "    \n",
    "    \n",
    "def change_bag(bag):\n",
    "    return bag.replace(c=2.0)\n",
    "\n",
    "\n",
    "jitted_change_bag = jit(change_bag)\n",
    "    \n",
    "    \n",
    "bag = Bag(a, b)\n",
    "\n",
    "jitted_change_bag(bag)"
   ]
  },
  {
   "cell_type": "code",
   "execution_count": 59,
   "id": "152a701c-7aaf-4283-b3ee-0767287ad0b9",
   "metadata": {
    "tags": []
   },
   "outputs": [
    {
     "data": {
      "text/plain": [
       "Bag(a=DeviceArray([[1., 1., 1., ..., 1., 1., 1.],\n",
       "             [1., 1., 1., ..., 1., 1., 1.],\n",
       "             [1., 1., 1., ..., 1., 1., 1.],\n",
       "             ...,\n",
       "             [1., 1., 1., ..., 1., 1., 1.],\n",
       "             [1., 1., 1., ..., 1., 1., 1.],\n",
       "             [1., 1., 1., ..., 1., 1., 1.]], dtype=float32), b=DeviceArray([[2., 2., 2., ..., 2., 2., 2.],\n",
       "             [2., 2., 2., ..., 2., 2., 2.],\n",
       "             [2., 2., 2., ..., 2., 2., 2.],\n",
       "             ...,\n",
       "             [2., 2., 2., ..., 2., 2., 2.],\n",
       "             [2., 2., 2., ..., 2., 2., 2.],\n",
       "             [2., 2., 2., ..., 2., 2., 2.]], dtype=float32), c=DeviceArray(2., dtype=float32, weak_type=True))"
      ]
     },
     "execution_count": 59,
     "metadata": {},
     "output_type": "execute_result"
    }
   ],
   "source": [
    "@struct.dataclass\n",
    "class Bag:\n",
    "    a: Any\n",
    "    b: Any\n",
    "    c: Any = struct.field(pytree_node=True, default=tuple())\n",
    "    \n",
    "    \n",
    "def change_bag(bag):\n",
    "    return bag.replace(c=2.0)\n",
    "\n",
    "\n",
    "jitted_change_bag = jit(change_bag)\n",
    "    \n",
    "    \n",
    "bag = Bag(a, b)\n",
    "\n",
    "jitted_change_bag(bag)"
   ]
  },
  {
   "cell_type": "markdown",
   "id": "90334e21-b561-4953-95f7-1d3bd32dad32",
   "metadata": {},
   "source": [
    "We can also ask what it means to vmap over a dataclass"
   ]
  },
  {
   "cell_type": "code",
   "execution_count": 82,
   "id": "c0f1d156-5c24-411f-87bb-ac501db21fd0",
   "metadata": {},
   "outputs": [
    {
     "name": "stdout",
     "output_type": "stream",
     "text": [
      "(5000, 5000) (5000, 5000)\n"
     ]
    },
    {
     "data": {
      "text/plain": [
       "Bag(a=DeviceArray([[1., 1., 1., ..., 1., 1., 1.],\n",
       "             [1., 1., 1., ..., 1., 1., 1.],\n",
       "             [1., 1., 1., ..., 1., 1., 1.],\n",
       "             ...,\n",
       "             [1., 1., 1., ..., 1., 1., 1.],\n",
       "             [1., 1., 1., ..., 1., 1., 1.],\n",
       "             [1., 1., 1., ..., 1., 1., 1.]], dtype=float32), b=DeviceArray([[2., 2., 2., ..., 2., 2., 2.],\n",
       "             [2., 2., 2., ..., 2., 2., 2.],\n",
       "             [2., 2., 2., ..., 2., 2., 2.],\n",
       "             ...,\n",
       "             [2., 2., 2., ..., 2., 2., 2.],\n",
       "             [2., 2., 2., ..., 2., 2., 2.],\n",
       "             [2., 2., 2., ..., 2., 2., 2.]], dtype=float32), c=2.0)"
      ]
     },
     "execution_count": 82,
     "metadata": {},
     "output_type": "execute_result"
    }
   ],
   "source": [
    "@struct.dataclass\n",
    "class Bag:\n",
    "    a: Any\n",
    "    b: Any\n",
    "    c: Any = struct.field(pytree_node=False, default=tuple())\n",
    "    \n",
    "\n",
    "def change_bag(bag):\n",
    "    return bag.replace(a=bag.a * bag.a, c=2.0)\n",
    "    \n",
    "vmapped_change_bag = vmap(change_bag)\n",
    "\n",
    "bag = Bag(a, b)\n",
    "\n",
    "res = vmapped_change_bag(bag)\n",
    "print(res.a.shape, res.b.shape)\n",
    "res"
   ]
  },
  {
   "cell_type": "code",
   "execution_count": 83,
   "id": "829eac62-3cb3-445e-a61a-6b74159dcc5b",
   "metadata": {},
   "outputs": [
    {
     "name": "stdout",
     "output_type": "stream",
     "text": [
      "(5000, 5000) (5000, 5000) (5000,)\n"
     ]
    },
    {
     "data": {
      "text/plain": [
       "Bag(a=DeviceArray([[1., 1., 1., ..., 1., 1., 1.],\n",
       "             [1., 1., 1., ..., 1., 1., 1.],\n",
       "             [1., 1., 1., ..., 1., 1., 1.],\n",
       "             ...,\n",
       "             [1., 1., 1., ..., 1., 1., 1.],\n",
       "             [1., 1., 1., ..., 1., 1., 1.],\n",
       "             [1., 1., 1., ..., 1., 1., 1.]], dtype=float32), b=DeviceArray([[2., 2., 2., ..., 2., 2., 2.],\n",
       "             [2., 2., 2., ..., 2., 2., 2.],\n",
       "             [2., 2., 2., ..., 2., 2., 2.],\n",
       "             ...,\n",
       "             [2., 2., 2., ..., 2., 2., 2.],\n",
       "             [2., 2., 2., ..., 2., 2., 2.],\n",
       "             [2., 2., 2., ..., 2., 2., 2.]], dtype=float32), c=DeviceArray([2., 2., 2., ..., 2., 2., 2.], dtype=float32, weak_type=True))"
      ]
     },
     "execution_count": 83,
     "metadata": {},
     "output_type": "execute_result"
    }
   ],
   "source": [
    "@struct.dataclass\n",
    "class Bag:\n",
    "    a: Any\n",
    "    b: Any\n",
    "    c: Any = struct.field(pytree_node=True, default=tuple())\n",
    "    \n",
    "\n",
    "vmapped_change_bag = vmap(change_bag)\n",
    "\n",
    "bag = Bag(a, b)\n",
    "\n",
    "res = vmapped_change_bag(bag)\n",
    "print(res.a.shape, res.b.shape, res.c.shape)\n",
    "res"
   ]
  },
  {
   "cell_type": "markdown",
   "id": "e4728d59-b223-4119-a264-d3a70be2cee6",
   "metadata": {},
   "source": [
    "It looks like we can concude that any field we mark are not a pytree node will make the function faster. This makes sense because we give additional functionality to nodes marked as pytree nodes"
   ]
  }
 ],
 "metadata": {
  "kernelspec": {
   "display_name": "Python [conda env:jax-env]",
   "language": "python",
   "name": "conda-env-jax-env-py"
  },
  "language_info": {
   "codemirror_mode": {
    "name": "ipython",
    "version": 3
   },
   "file_extension": ".py",
   "mimetype": "text/x-python",
   "name": "python",
   "nbconvert_exporter": "python",
   "pygments_lexer": "ipython3",
   "version": "3.8.13"
  }
 },
 "nbformat": 4,
 "nbformat_minor": 5
}
