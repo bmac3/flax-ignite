{
 "cells": [
  {
   "cell_type": "code",
   "execution_count": 1,
   "id": "58d1cd12-7bc4-46aa-9d89-a465c9d91f7a",
   "metadata": {},
   "outputs": [],
   "source": [
    "from jax import jit"
   ]
  },
  {
   "cell_type": "code",
   "execution_count": 19,
   "id": "56c75803-51cb-43bc-aa2e-03b0250383cf",
   "metadata": {},
   "outputs": [],
   "source": [
    "def simple_coroutine(x):\n",
    "    a = yield x+1\n",
    "    print(a)\n",
    "    b = yield x+2\n",
    "    print(b if b is not None else 'none')\n",
    "    return a + b"
   ]
  },
  {
   "cell_type": "code",
   "execution_count": 20,
   "id": "65c74eb2-0854-4b7e-b3c5-ee87216a07a2",
   "metadata": {},
   "outputs": [],
   "source": [
    "gen = simple_coroutine(5)"
   ]
  },
  {
   "cell_type": "code",
   "execution_count": 21,
   "id": "245ad492-792e-40e4-a139-5eeaa1cd7958",
   "metadata": {},
   "outputs": [
    {
     "data": {
      "text/plain": [
       "6"
      ]
     },
     "execution_count": 21,
     "metadata": {},
     "output_type": "execute_result"
    }
   ],
   "source": [
    "next(gen)"
   ]
  },
  {
   "cell_type": "code",
   "execution_count": 22,
   "id": "76bc6bac-8f3f-4e4c-bc22-067e0c4001c4",
   "metadata": {},
   "outputs": [
    {
     "name": "stdout",
     "output_type": "stream",
     "text": [
      "4\n"
     ]
    },
    {
     "data": {
      "text/plain": [
       "7"
      ]
     },
     "execution_count": 22,
     "metadata": {},
     "output_type": "execute_result"
    }
   ],
   "source": [
    "gen.send(4)"
   ]
  },
  {
   "cell_type": "code",
   "execution_count": 23,
   "id": "1b22bfde-8afc-4924-a14b-6057d7bb7588",
   "metadata": {},
   "outputs": [
    {
     "name": "stdout",
     "output_type": "stream",
     "text": [
      "6\n"
     ]
    },
    {
     "ename": "StopIteration",
     "evalue": "10",
     "output_type": "error",
     "traceback": [
      "\u001b[0;31m---------------------------------------------------------------------------\u001b[0m",
      "\u001b[0;31mStopIteration\u001b[0m                             Traceback (most recent call last)",
      "Input \u001b[0;32mIn [23]\u001b[0m, in \u001b[0;36m<cell line: 1>\u001b[0;34m()\u001b[0m\n\u001b[0;32m----> 1\u001b[0m \u001b[43mgen\u001b[49m\u001b[38;5;241;43m.\u001b[39;49m\u001b[43msend\u001b[49m\u001b[43m(\u001b[49m\u001b[38;5;241;43m6\u001b[39;49m\u001b[43m)\u001b[49m\n",
      "\u001b[0;31mStopIteration\u001b[0m: 10"
     ]
    }
   ],
   "source": [
    "gen.send(6)"
   ]
  },
  {
   "cell_type": "code",
   "execution_count": 24,
   "id": "db5495ce-99f1-46d2-8ce9-66325b757d8a",
   "metadata": {},
   "outputs": [
    {
     "ename": "TypeError",
     "evalue": "Expected a function, got a generator function: <function simple_coroutine at 0x7f856329c040>",
     "output_type": "error",
     "traceback": [
      "\u001b[0;31m---------------------------------------------------------------------------\u001b[0m",
      "\u001b[0;31mTypeError\u001b[0m                                 Traceback (most recent call last)",
      "Input \u001b[0;32mIn [24]\u001b[0m, in \u001b[0;36m<cell line: 1>\u001b[0;34m()\u001b[0m\n\u001b[0;32m----> 1\u001b[0m jitted \u001b[38;5;241m=\u001b[39m \u001b[43mjit\u001b[49m\u001b[43m(\u001b[49m\u001b[43msimple_coroutine\u001b[49m\u001b[43m)\u001b[49m\n",
      "File \u001b[0;32m/data/users/bmak2/miniconda3/envs/jax-env/lib/python3.8/site-packages/jax/_src/api.py:339\u001b[0m, in \u001b[0;36mjit\u001b[0;34m(fun, static_argnums, static_argnames, device, backend, donate_argnums, inline, keep_unused, abstracted_axes)\u001b[0m\n\u001b[1;32m    233\u001b[0m \u001b[38;5;124;03m\"\"\"Sets up ``fun`` for just-in-time compilation with XLA.\u001b[39;00m\n\u001b[1;32m    234\u001b[0m \n\u001b[1;32m    235\u001b[0m \u001b[38;5;124;03mArgs:\u001b[39;00m\n\u001b[0;32m   (...)\u001b[0m\n\u001b[1;32m    336\u001b[0m \u001b[38;5;124;03m  DeviceArray([   0,    1,  256, 6561], dtype=int32)\u001b[39;00m\n\u001b[1;32m    337\u001b[0m \u001b[38;5;124;03m\"\"\"\u001b[39;00m\n\u001b[1;32m    338\u001b[0m \u001b[38;5;28;01mif\u001b[39;00m FLAGS\u001b[38;5;241m.\u001b[39mexperimental_cpp_jit \u001b[38;5;129;01mand\u001b[39;00m \u001b[38;5;129;01mnot\u001b[39;00m config\u001b[38;5;241m.\u001b[39mjax_dynamic_shapes:\n\u001b[0;32m--> 339\u001b[0m   \u001b[38;5;28;01mreturn\u001b[39;00m \u001b[43m_jit\u001b[49m\u001b[43m(\u001b[49m\u001b[38;5;28;43;01mTrue\u001b[39;49;00m\u001b[43m,\u001b[49m\u001b[43m \u001b[49m\u001b[43mfun\u001b[49m\u001b[43m,\u001b[49m\u001b[43m \u001b[49m\u001b[43mstatic_argnums\u001b[49m\u001b[43m,\u001b[49m\u001b[43m \u001b[49m\u001b[43mstatic_argnames\u001b[49m\u001b[43m,\u001b[49m\u001b[43m \u001b[49m\u001b[43mdevice\u001b[49m\u001b[43m,\u001b[49m\u001b[43m \u001b[49m\u001b[43mbackend\u001b[49m\u001b[43m,\u001b[49m\n\u001b[1;32m    340\u001b[0m \u001b[43m                  \u001b[49m\u001b[43mdonate_argnums\u001b[49m\u001b[43m,\u001b[49m\u001b[43m \u001b[49m\u001b[43minline\u001b[49m\u001b[43m,\u001b[49m\u001b[43m \u001b[49m\u001b[43mkeep_unused\u001b[49m\u001b[43m)\u001b[49m\n\u001b[1;32m    341\u001b[0m \u001b[38;5;28;01mreturn\u001b[39;00m _jit(\u001b[38;5;28;01mFalse\u001b[39;00m, fun, static_argnums, static_argnames, device, backend,\n\u001b[1;32m    342\u001b[0m                     donate_argnums, inline, keep_unused, abstracted_axes)\n",
      "File \u001b[0;32m/data/users/bmak2/miniconda3/envs/jax-env/lib/python3.8/site-packages/jax/_src/api.py:357\u001b[0m, in \u001b[0;36m_jit\u001b[0;34m(use_cpp_jit, fun, static_argnums, static_argnames, device, backend, donate_argnums, inline, keep_unused, abstracted_axes)\u001b[0m\n\u001b[1;32m    344\u001b[0m \u001b[38;5;28;01mdef\u001b[39;00m \u001b[38;5;21m_jit\u001b[39m(\n\u001b[1;32m    345\u001b[0m     use_cpp_jit: \u001b[38;5;28mbool\u001b[39m,\n\u001b[1;32m    346\u001b[0m     fun: Callable,\n\u001b[0;32m   (...)\u001b[0m\n\u001b[1;32m    355\u001b[0m   ) \u001b[38;5;241m-\u001b[39m\u001b[38;5;241m>\u001b[39m stages\u001b[38;5;241m.\u001b[39mWrapped:\n\u001b[1;32m    356\u001b[0m   \u001b[38;5;66;03m# Implemements common logic between CPP and Python backends\u001b[39;00m\n\u001b[0;32m--> 357\u001b[0m   \u001b[43m_check_callable\u001b[49m\u001b[43m(\u001b[49m\u001b[43mfun\u001b[49m\u001b[43m)\u001b[49m\n\u001b[1;32m    359\u001b[0m   \u001b[38;5;66;03m# Coerce input\u001b[39;00m\n\u001b[1;32m    360\u001b[0m   donate_argnums \u001b[38;5;241m=\u001b[39m _ensure_index_tuple(donate_argnums)\n",
      "File \u001b[0;32m/data/users/bmak2/miniconda3/envs/jax-env/lib/python3.8/site-packages/jax/_src/api.py:176\u001b[0m, in \u001b[0;36m_check_callable\u001b[0;34m(fun)\u001b[0m\n\u001b[1;32m    174\u001b[0m   \u001b[38;5;28;01mraise\u001b[39;00m \u001b[38;5;167;01mTypeError\u001b[39;00m(\u001b[38;5;124mf\u001b[39m\u001b[38;5;124m\"\u001b[39m\u001b[38;5;124mExpected a callable value, got \u001b[39m\u001b[38;5;132;01m{\u001b[39;00mfun\u001b[38;5;132;01m}\u001b[39;00m\u001b[38;5;124m\"\u001b[39m)\n\u001b[1;32m    175\u001b[0m \u001b[38;5;28;01mif\u001b[39;00m _isgeneratorfunction(fun):\n\u001b[0;32m--> 176\u001b[0m   \u001b[38;5;28;01mraise\u001b[39;00m \u001b[38;5;167;01mTypeError\u001b[39;00m(\u001b[38;5;124mf\u001b[39m\u001b[38;5;124m\"\u001b[39m\u001b[38;5;124mExpected a function, got a generator function: \u001b[39m\u001b[38;5;132;01m{\u001b[39;00mfun\u001b[38;5;132;01m}\u001b[39;00m\u001b[38;5;124m\"\u001b[39m)\n",
      "\u001b[0;31mTypeError\u001b[0m: Expected a function, got a generator function: <function simple_coroutine at 0x7f856329c040>"
     ]
    }
   ],
   "source": [
    "jitted = jit(simple_coroutine)"
   ]
  },
  {
   "cell_type": "code",
   "execution_count": 18,
   "id": "a759f411-a0c2-4023-9106-8b7ab4f9729b",
   "metadata": {},
   "outputs": [
    {
     "name": "stdout",
     "output_type": "stream",
     "text": [
      "none\n"
     ]
    },
    {
     "ename": "TypeError",
     "evalue": "unsupported operand type(s) for +: 'int' and 'NoneType'",
     "output_type": "error",
     "traceback": [
      "\u001b[0;31m---------------------------------------------------------------------------\u001b[0m",
      "\u001b[0;31mTypeError\u001b[0m                                 Traceback (most recent call last)",
      "Input \u001b[0;32mIn [18]\u001b[0m, in \u001b[0;36m<cell line: 1>\u001b[0;34m()\u001b[0m\n\u001b[0;32m----> 1\u001b[0m \u001b[38;5;28;43mnext\u001b[39;49m\u001b[43m(\u001b[49m\u001b[43mgen\u001b[49m\u001b[43m)\u001b[49m\n",
      "Input \u001b[0;32mIn [14]\u001b[0m, in \u001b[0;36msimple_coroutine\u001b[0;34m(x)\u001b[0m\n\u001b[1;32m      4\u001b[0m b \u001b[38;5;241m=\u001b[39m \u001b[38;5;28;01myield\u001b[39;00m x\u001b[38;5;241m+\u001b[39m\u001b[38;5;241m2\u001b[39m\n\u001b[1;32m      5\u001b[0m \u001b[38;5;28mprint\u001b[39m(b \u001b[38;5;28;01mif\u001b[39;00m b \u001b[38;5;129;01mis\u001b[39;00m \u001b[38;5;129;01mnot\u001b[39;00m \u001b[38;5;28;01mNone\u001b[39;00m \u001b[38;5;28;01melse\u001b[39;00m \u001b[38;5;124m'\u001b[39m\u001b[38;5;124mnone\u001b[39m\u001b[38;5;124m'\u001b[39m)\n\u001b[0;32m----> 6\u001b[0m \u001b[38;5;28;01mreturn\u001b[39;00m \u001b[43ma\u001b[49m\u001b[43m \u001b[49m\u001b[38;5;241;43m+\u001b[39;49m\u001b[43m \u001b[49m\u001b[43mb\u001b[49m\n",
      "\u001b[0;31mTypeError\u001b[0m: unsupported operand type(s) for +: 'int' and 'NoneType'"
     ]
    }
   ],
   "source": [
    "next(gen)"
   ]
  },
  {
   "cell_type": "code",
   "execution_count": 9,
   "id": "5d1b8c33-0258-41ed-bdbe-821ead0d7396",
   "metadata": {},
   "outputs": [
    {
     "ename": "StopIteration",
     "evalue": "",
     "output_type": "error",
     "traceback": [
      "\u001b[0;31m---------------------------------------------------------------------------\u001b[0m",
      "\u001b[0;31mStopIteration\u001b[0m                             Traceback (most recent call last)",
      "Input \u001b[0;32mIn [9]\u001b[0m, in \u001b[0;36m<cell line: 1>\u001b[0;34m()\u001b[0m\n\u001b[0;32m----> 1\u001b[0m \u001b[43mgen\u001b[49m\u001b[38;5;241;43m.\u001b[39;49m\u001b[43msend\u001b[49m\u001b[43m(\u001b[49m\u001b[38;5;241;43m4\u001b[39;49m\u001b[43m)\u001b[49m\n",
      "\u001b[0;31mStopIteration\u001b[0m: "
     ]
    }
   ],
   "source": [
    "gen.send(4)"
   ]
  },
  {
   "cell_type": "code",
   "execution_count": null,
   "id": "21f12b23-ba94-4d01-a59e-da87d9e9c89d",
   "metadata": {},
   "outputs": [],
   "source": []
  }
 ],
 "metadata": {
  "kernelspec": {
   "display_name": "Python [conda env:jax-env]",
   "language": "python",
   "name": "conda-env-jax-env-py"
  },
  "language_info": {
   "codemirror_mode": {
    "name": "ipython",
    "version": 3
   },
   "file_extension": ".py",
   "mimetype": "text/x-python",
   "name": "python",
   "nbconvert_exporter": "python",
   "pygments_lexer": "ipython3",
   "version": "3.8.13"
  }
 },
 "nbformat": 4,
 "nbformat_minor": 5
}
