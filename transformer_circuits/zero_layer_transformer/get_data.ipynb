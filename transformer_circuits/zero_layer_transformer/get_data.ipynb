{
 "cells": [
  {
   "cell_type": "markdown",
   "id": "6522bef1-bb1e-410e-af4b-5456f752257e",
   "metadata": {},
   "source": [
    "In this notebook we want to implement the zero-layer transformer from transformer circuits (https://transformer-circuits.pub/2021/framework/index.html). We would like to do this using an observer pattern framework similar to pytorch ignite. Let's order the steps we should go through:\n",
    "\n",
    " - get data\n",
    " - write model\n",
    " - write training loop\n",
    " - visualization"
   ]
  },
  {
   "cell_type": "markdown",
   "id": "5c63a93d-705b-4811-bbe4-ec7069266635",
   "metadata": {},
   "source": [
    "# Get Data\n",
    "\n",
    "According to the post \"The training dataset is as described in Kaplan et al. (A General Language Assistant as a Laboratory for Alignment)\". Upon inspecting this paper, it is not totally clear what dataset was actually used. It shouldn't really matter which dataset we use for LM pretraining, we might just expect some different results. Let's use Wikipedia since it's on huggingface.\n",
    "\n",
    "On the \"bert-base-uncased\" page, it says \"The BERT model was pretrained on BookCorpus, a dataset consisting of 11,038 unpublished books and English Wikipedia (excluding lists, tables and headers).\" I'm not sure if lists, tables, headers are in this corpus. I'll do some simple filtering and reformatting to try and fix most of these issues."
   ]
  },
  {
   "cell_type": "code",
   "execution_count": 1,
   "id": "48ddea9e-300e-4d96-ad20-818b846a2b86",
   "metadata": {},
   "outputs": [
    {
     "name": "stderr",
     "output_type": "stream",
     "text": [
      "Reusing dataset wikipedia (/data/users/bmak2/.cache/huggingface/datasets/wikipedia/20220301.en/2.0.0/aa542ed919df55cc5d3347f42dd4521d05ca68751f50dbc32bae2a7f1e167559)\n"
     ]
    },
    {
     "data": {
      "application/vnd.jupyter.widget-view+json": {
       "model_id": "889400a1294047da9c709b9d41e39bac",
       "version_major": 2,
       "version_minor": 0
      },
      "text/plain": [
       "  0%|          | 0/1 [00:00<?, ?it/s]"
      ]
     },
     "metadata": {},
     "output_type": "display_data"
    }
   ],
   "source": [
    "from datasets import load_dataset\n",
    "\n",
    "wiki_dataset = load_dataset(\"wikipedia\", \"20220301.en\")\n",
    "wiki_dataset = wiki_dataset['train']"
   ]
  },
  {
   "cell_type": "code",
   "execution_count": 2,
   "id": "41fd8028-b1d1-4f55-904e-93905fb507ef",
   "metadata": {
    "tags": []
   },
   "outputs": [
    {
     "name": "stderr",
     "output_type": "stream",
     "text": [
      "Parameter 'function'=<function clean_wikipedia_formatting at 0x7efb86729280> of the transform datasets.arrow_dataset.Dataset._map_single couldn't be hashed properly, a random hash was used instead. Make sure your transforms and parameters are serializable with pickle or dill for the dataset fingerprinting and caching to work. If you reuse this transform, the caching mechanism will consider it to be different from the previous calls and recompute everything. This warning is only showed once. Subsequent hashing failures won't be showed.\n"
     ]
    },
    {
     "name": "stdout",
     "output_type": "stream",
     "text": [
      "                                  "
     ]
    },
    {
     "data": {
      "application/vnd.jupyter.widget-view+json": {
       "model_id": "79204ec5670f4e14b954241df96feb6d",
       "version_major": 2,
       "version_minor": 0
      },
      "text/plain": [
       "#0:   0%|          | 0/201834 [00:00<?, ?ex/s]"
      ]
     },
     "metadata": {},
     "output_type": "display_data"
    },
    {
     "name": "stdout",
     "output_type": "stream",
     "text": [
      " "
     ]
    },
    {
     "data": {
      "application/vnd.jupyter.widget-view+json": {
       "model_id": "70f99afa5c114176b23411efcff5e89b",
       "version_major": 2,
       "version_minor": 0
      },
      "text/plain": [
       "#1:   0%|          | 0/201834 [00:00<?, ?ex/s]"
      ]
     },
     "metadata": {},
     "output_type": "display_data"
    },
    {
     "name": "stdout",
     "output_type": "stream",
     "text": [
      "  "
     ]
    },
    {
     "data": {
      "application/vnd.jupyter.widget-view+json": {
       "model_id": "170e84a4fd8e4dc48f3e3c2836ff517c",
       "version_major": 2,
       "version_minor": 0
      },
      "text/plain": [
       "#2:   0%|          | 0/201834 [00:00<?, ?ex/s]"
      ]
     },
     "metadata": {},
     "output_type": "display_data"
    },
    {
     "name": "stdout",
     "output_type": "stream",
     "text": [
      " "
     ]
    },
    {
     "data": {
      "application/vnd.jupyter.widget-view+json": {
       "model_id": "5f7ee98c3c7d4880a9a3f00d931ec556",
       "version_major": 2,
       "version_minor": 0
      },
      "text/plain": [
       "#3:   0%|          | 0/201834 [00:00<?, ?ex/s]"
      ]
     },
     "metadata": {},
     "output_type": "display_data"
    },
    {
     "data": {
      "application/vnd.jupyter.widget-view+json": {
       "model_id": "fd3758753c814c919f74afb9234f497d",
       "version_major": 2,
       "version_minor": 0
      },
      "text/plain": [
       "#4:   0%|          | 0/201834 [00:00<?, ?ex/s]"
      ]
     },
     "metadata": {},
     "output_type": "display_data"
    },
    {
     "name": "stdout",
     "output_type": "stream",
     "text": [
      " "
     ]
    },
    {
     "data": {
      "application/vnd.jupyter.widget-view+json": {
       "model_id": "58032185543f4143af5ac67c2e399694",
       "version_major": 2,
       "version_minor": 0
      },
      "text/plain": [
       "#5:   0%|          | 0/201834 [00:00<?, ?ex/s]"
      ]
     },
     "metadata": {},
     "output_type": "display_data"
    },
    {
     "data": {
      "application/vnd.jupyter.widget-view+json": {
       "model_id": "4661864c882840b18dcdc49d168fabef",
       "version_major": 2,
       "version_minor": 0
      },
      "text/plain": [
       "#6:   0%|          | 0/201834 [00:00<?, ?ex/s]"
      ]
     },
     "metadata": {},
     "output_type": "display_data"
    },
    {
     "name": "stdout",
     "output_type": "stream",
     "text": [
      "  "
     ]
    },
    {
     "data": {
      "application/vnd.jupyter.widget-view+json": {
       "model_id": "69d9f512542d44a0be1ba2008512f660",
       "version_major": 2,
       "version_minor": 0
      },
      "text/plain": [
       "#7:   0%|          | 0/201834 [00:00<?, ?ex/s]"
      ]
     },
     "metadata": {},
     "output_type": "display_data"
    },
    {
     "name": "stdout",
     "output_type": "stream",
     "text": [
      " "
     ]
    },
    {
     "data": {
      "application/vnd.jupyter.widget-view+json": {
       "model_id": "25954ff0408c447490c87287689fb33f",
       "version_major": 2,
       "version_minor": 0
      },
      "text/plain": [
       "#9:   0%|          | 0/201834 [00:00<?, ?ex/s]"
      ]
     },
     "metadata": {},
     "output_type": "display_data"
    },
    {
     "name": "stdout",
     "output_type": "stream",
     "text": [
      "   "
     ]
    },
    {
     "data": {
      "application/vnd.jupyter.widget-view+json": {
       "model_id": "5816b65cd9a74337a00a81cdab399a2c",
       "version_major": 2,
       "version_minor": 0
      },
      "text/plain": [
       "#10:   0%|          | 0/201834 [00:00<?, ?ex/s]"
      ]
     },
     "metadata": {},
     "output_type": "display_data"
    },
    {
     "data": {
      "application/vnd.jupyter.widget-view+json": {
       "model_id": "8f2c40cecef745278813182e5cadb43d",
       "version_major": 2,
       "version_minor": 0
      },
      "text/plain": [
       "#11:   0%|          | 0/201834 [00:00<?, ?ex/s]"
      ]
     },
     "metadata": {},
     "output_type": "display_data"
    },
    {
     "name": "stdout",
     "output_type": "stream",
     "text": [
      "  "
     ]
    },
    {
     "data": {
      "application/vnd.jupyter.widget-view+json": {
       "model_id": "19eef767a2ef4f12945b3b27a95c2d56",
       "version_major": 2,
       "version_minor": 0
      },
      "text/plain": [
       "#8:   0%|          | 0/201834 [00:00<?, ?ex/s]"
      ]
     },
     "metadata": {},
     "output_type": "display_data"
    },
    {
     "data": {
      "application/vnd.jupyter.widget-view+json": {
       "model_id": "be8f994529724917a03c2653eba79d4f",
       "version_major": 2,
       "version_minor": 0
      },
      "text/plain": [
       "#12:   0%|          | 0/201834 [00:00<?, ?ex/s]"
      ]
     },
     "metadata": {},
     "output_type": "display_data"
    },
    {
     "data": {
      "application/vnd.jupyter.widget-view+json": {
       "model_id": "2ccb4eeb0c92487887b69b494c4f5d21",
       "version_major": 2,
       "version_minor": 0
      },
      "text/plain": [
       "#14:   0%|          | 0/201833 [00:00<?, ?ex/s]"
      ]
     },
     "metadata": {},
     "output_type": "display_data"
    },
    {
     "data": {
      "application/vnd.jupyter.widget-view+json": {
       "model_id": "71431faeb0184770830855fcb8105162",
       "version_major": 2,
       "version_minor": 0
      },
      "text/plain": [
       "#13:   0%|          | 0/201834 [00:00<?, ?ex/s]"
      ]
     },
     "metadata": {},
     "output_type": "display_data"
    },
    {
     "name": "stdout",
     "output_type": "stream",
     "text": [
      "   "
     ]
    },
    {
     "data": {
      "application/vnd.jupyter.widget-view+json": {
       "model_id": "711bf0a0d9e347d89d24dfe80a3a328d",
       "version_major": 2,
       "version_minor": 0
      },
      "text/plain": [
       "#16:   0%|          | 0/201833 [00:00<?, ?ex/s]"
      ]
     },
     "metadata": {},
     "output_type": "display_data"
    },
    {
     "name": "stdout",
     "output_type": "stream",
     "text": [
      " "
     ]
    },
    {
     "data": {
      "application/vnd.jupyter.widget-view+json": {
       "model_id": "35249a66d66f4b8d83fbbe75ac00aaa9",
       "version_major": 2,
       "version_minor": 0
      },
      "text/plain": [
       "#15:   0%|          | 0/201833 [00:00<?, ?ex/s]"
      ]
     },
     "metadata": {},
     "output_type": "display_data"
    },
    {
     "data": {
      "application/vnd.jupyter.widget-view+json": {
       "model_id": "40111e9ba780473dbfc8d80a501de8be",
       "version_major": 2,
       "version_minor": 0
      },
      "text/plain": [
       "#17:   0%|          | 0/201833 [00:00<?, ?ex/s]"
      ]
     },
     "metadata": {},
     "output_type": "display_data"
    },
    {
     "name": "stdout",
     "output_type": "stream",
     "text": [
      " "
     ]
    },
    {
     "data": {
      "application/vnd.jupyter.widget-view+json": {
       "model_id": "d7815cb2adde4c0e8359287b71826499",
       "version_major": 2,
       "version_minor": 0
      },
      "text/plain": [
       "#18:   0%|          | 0/201833 [00:00<?, ?ex/s]"
      ]
     },
     "metadata": {},
     "output_type": "display_data"
    },
    {
     "name": "stdout",
     "output_type": "stream",
     "text": [
      " "
     ]
    },
    {
     "data": {
      "application/vnd.jupyter.widget-view+json": {
       "model_id": "2ee873e840b841e6bedd02b00cce02aa",
       "version_major": 2,
       "version_minor": 0
      },
      "text/plain": [
       "#19:   0%|          | 0/201833 [00:00<?, ?ex/s]"
      ]
     },
     "metadata": {},
     "output_type": "display_data"
    },
    {
     "data": {
      "application/vnd.jupyter.widget-view+json": {
       "model_id": "cc6d5241d1bc4c078bd04a70dca86229",
       "version_major": 2,
       "version_minor": 0
      },
      "text/plain": [
       "#20:   0%|          | 0/201833 [00:00<?, ?ex/s]"
      ]
     },
     "metadata": {},
     "output_type": "display_data"
    },
    {
     "name": "stdout",
     "output_type": "stream",
     "text": [
      "   "
     ]
    },
    {
     "data": {
      "application/vnd.jupyter.widget-view+json": {
       "model_id": "04f7b49e45624262a0bad8ec395afe74",
       "version_major": 2,
       "version_minor": 0
      },
      "text/plain": [
       "#21:   0%|          | 0/201833 [00:00<?, ?ex/s]"
      ]
     },
     "metadata": {},
     "output_type": "display_data"
    },
    {
     "data": {
      "application/vnd.jupyter.widget-view+json": {
       "model_id": "a9176c0ccc714aed847d5bb021f164fe",
       "version_major": 2,
       "version_minor": 0
      },
      "text/plain": [
       "#22:   0%|          | 0/201833 [00:00<?, ?ex/s]"
      ]
     },
     "metadata": {},
     "output_type": "display_data"
    },
    {
     "data": {
      "application/vnd.jupyter.widget-view+json": {
       "model_id": "008251fe4e524261b7aa62754c0a69d6",
       "version_major": 2,
       "version_minor": 0
      },
      "text/plain": [
       "#23:   0%|          | 0/201833 [00:00<?, ?ex/s]"
      ]
     },
     "metadata": {},
     "output_type": "display_data"
    },
    {
     "name": "stdout",
     "output_type": "stream",
     "text": [
      "  "
     ]
    },
    {
     "data": {
      "application/vnd.jupyter.widget-view+json": {
       "model_id": "cfd8cf0e9e63401a9a681b665d33f906",
       "version_major": 2,
       "version_minor": 0
      },
      "text/plain": [
       "#25:   0%|          | 0/201833 [00:00<?, ?ex/s]"
      ]
     },
     "metadata": {},
     "output_type": "display_data"
    },
    {
     "name": "stdout",
     "output_type": "stream",
     "text": [
      " "
     ]
    },
    {
     "data": {
      "application/vnd.jupyter.widget-view+json": {
       "model_id": "642bbb4acb2d46b29918a5d90eb6c681",
       "version_major": 2,
       "version_minor": 0
      },
      "text/plain": [
       "#24:   0%|          | 0/201833 [00:00<?, ?ex/s]"
      ]
     },
     "metadata": {},
     "output_type": "display_data"
    },
    {
     "name": "stdout",
     "output_type": "stream",
     "text": [
      " "
     ]
    },
    {
     "data": {
      "application/vnd.jupyter.widget-view+json": {
       "model_id": "79c2a17f1e174492b5d8df684e2ae8c9",
       "version_major": 2,
       "version_minor": 0
      },
      "text/plain": [
       "#27:   0%|          | 0/201833 [00:00<?, ?ex/s]"
      ]
     },
     "metadata": {},
     "output_type": "display_data"
    },
    {
     "name": "stdout",
     "output_type": "stream",
     "text": [
      " "
     ]
    },
    {
     "data": {
      "application/vnd.jupyter.widget-view+json": {
       "model_id": "63d8510f1b164b848a1b78f313699b70",
       "version_major": 2,
       "version_minor": 0
      },
      "text/plain": [
       "#31:   0%|          | 0/201833 [00:00<?, ?ex/s]"
      ]
     },
     "metadata": {},
     "output_type": "display_data"
    },
    {
     "name": "stdout",
     "output_type": "stream",
     "text": [
      " "
     ]
    },
    {
     "data": {
      "application/vnd.jupyter.widget-view+json": {
       "model_id": "ed30ecfa72154b4daf5d2e2fcbfc2815",
       "version_major": 2,
       "version_minor": 0
      },
      "text/plain": [
       "#28:   0%|          | 0/201833 [00:00<?, ?ex/s]"
      ]
     },
     "metadata": {},
     "output_type": "display_data"
    },
    {
     "data": {
      "application/vnd.jupyter.widget-view+json": {
       "model_id": "1382cd214abf4dadaae4c5cf16051d8d",
       "version_major": 2,
       "version_minor": 0
      },
      "text/plain": [
       "#26:   0%|          | 0/201833 [00:00<?, ?ex/s]"
      ]
     },
     "metadata": {},
     "output_type": "display_data"
    },
    {
     "name": "stdout",
     "output_type": "stream",
     "text": [
      "  "
     ]
    },
    {
     "data": {
      "application/vnd.jupyter.widget-view+json": {
       "model_id": "0ed9987170fc4657abc418c3f9f2d0dc",
       "version_major": 2,
       "version_minor": 0
      },
      "text/plain": [
       "#29:   0%|          | 0/201833 [00:00<?, ?ex/s]"
      ]
     },
     "metadata": {},
     "output_type": "display_data"
    },
    {
     "data": {
      "application/vnd.jupyter.widget-view+json": {
       "model_id": "9d769898467d4e57a773fa099e42d266",
       "version_major": 2,
       "version_minor": 0
      },
      "text/plain": [
       "#30:   0%|          | 0/201833 [00:00<?, ?ex/s]"
      ]
     },
     "metadata": {},
     "output_type": "display_data"
    }
   ],
   "source": [
    "def clean_wikipedia_formatting(ex, title_len_thresh=10):\n",
    "    return {\n",
    "        'text': ' '.join(filter(lambda text: len(text.split()) > title_len_thresh, ex['text'].split('\\n')))\n",
    "    }\n",
    "\n",
    "wiki_dataset = wiki_dataset.map(clean_wikipedia_formatting, num_proc=32)"
   ]
  },
  {
   "cell_type": "markdown",
   "id": "43019994-7b2f-4510-91b3-3bc29dec8fe0",
   "metadata": {},
   "source": [
    "Now we need to train a BPE tokenizer on this dataset. HuggingFace has a lot of options when it comes to tokenizers. Let's look at what's available and make some choices."
   ]
  },
  {
   "cell_type": "markdown",
   "id": "b16a3c9c-3a3c-4a4b-bd0c-b0fe0ca08bf8",
   "metadata": {},
   "source": [
    "First we need to decide on our core algorithm. Let's go with BPE since that's what all transformer implementations use. Here is a list of the available init args\n",
    "\n",
    " - vocab (Dict[str, int], optional) — A dictionnary of string keys and their ids {\"am\": 0,...}\n",
    " - merges (List[Tuple[str, str]], optional) — A list of pairs of tokens (Tuple[str, str]) [(\"a\", \"b\"),...]\n",
    " - cache_capacity (int, optional) — The number of words that the BPE cache can contain. The cache allows to speed-up the process by keeping the result of the merge operations for a number of words.\n",
    " - dropout (float, optional) — A float between 0 and 1 that represents the BPE dropout to use.\n",
    " - unk_token (str, optional) — The unknown token to be used by the model.\n",
    " - continuing_subword_prefix (str, optional) — The prefix to attach to subword units that don’t represent a beginning of word.\n",
    " - end_of_word_suffix (str, optional) — The suffix to attach to subword units that represent an end of word.\n",
    " - fuse_unk (bool, optional) — Whether to fuse any subsequent unknown tokens into a single one\n",
    " \n",
    "These all look interesting but let's only define the unk token for now"
   ]
  },
  {
   "cell_type": "code",
   "execution_count": 38,
   "id": "290f99b3-30f5-408a-80ba-717413900a5f",
   "metadata": {},
   "outputs": [],
   "source": [
    "from tokenizers import Tokenizer\n",
    "from tokenizers.models import BPE\n",
    "\n",
    "tokenizer = Tokenizer(BPE(continuing_subword_prefix='##', end_of_word_suffix='##'))"
   ]
  },
  {
   "cell_type": "markdown",
   "id": "47bef308-f73e-44ba-a464-ed850190b20d",
   "metadata": {},
   "source": [
    "There are several other components we can choose to add to our model. We can add Normalizers, Pre-tokenizers, Post-Processors, and Decoders. \n",
    "\n",
    "Let's have a look at normalizers first. This is the description huggingface gives for normalizers:\n",
    "\n",
    "\"A Normalizer is in charge of pre-processing the input string in order to normalize it as relevant for a given use case. Some common examples of normalization are the Unicode normalization algorithms (NFD, NFKD, NFC & NFKC), lowercasing etc… The specificity of tokenizers is that we keep track of the alignment while normalizing. This is essential to allow mapping from the generated tokens back to the input text.\"\n",
    "\n",
    "A lot of the normalization options look quite complicated (NFD, NFKD, NFC & NFKC). These seem to deal with weird fonts and text from other languages. Hopefully the en wikipedia dataset does not have any of these and we can skip this step. Let's just do lowercase, strip, and strip_accents."
   ]
  },
  {
   "cell_type": "code",
   "execution_count": 39,
   "id": "e05a6885-fe53-40de-b137-a02169e417d5",
   "metadata": {},
   "outputs": [],
   "source": [
    "from tokenizers import normalizers\n",
    "\n",
    "normalizer = normalizers.Sequence([normalizers.Strip(), normalizers.StripAccents(), normalizers.Lowercase()])\n",
    "tokenizer.normalizer = normalizer"
   ]
  },
  {
   "cell_type": "code",
   "execution_count": 40,
   "id": "91cedfd3-c93a-45d4-80a5-98d83830dedc",
   "metadata": {
    "collapsed": true,
    "jupyter": {
     "outputs_hidden": true
    },
    "tags": []
   },
   "outputs": [
    {
     "data": {
      "text/plain": [
       "'anarchism is a political philosophy and movement that is sceptical of authority and rejects all involuntary, coercive forms of hierarchy. anarchism calls for the abolition of the state, which it holds to be unnecessary, undesirable, and harmful. as a historically left-wing movement, placed on the farthest left of the political spectrum, it is usually described alongside communalism and libertarian marxism as the libertarian wing (libertarian socialism) of the socialist movement, and has a strong historical association with anti-capitalism and socialism. humans lived in societies without formal hierarchies long before the establishment of formal states, realms, or empires. with the rise of organised hierarchical bodies, scepticism toward authority also rose. although traces of anarchist thought are found throughout history, modern anarchism emerged from the enlightenment. during the latter half of the 19th and the first decades of the 20th century, the anarchist movement flourished in most parts of the world and had a significant role in workers\\' struggles for emancipation. various anarchist schools of thought formed during this period. anarchists have taken part in several revolutions, most notably in the paris commune, the russian civil war and the spanish civil war, whose end marked the end of the classical era of anarchism. in the last decades of the 20th and into the 21st century, the anarchist movement has been resurgent once more. anarchism employs a diversity of tactics in order to meet its ideal ends which can be broadly separated into revolutionary and evolutionary tactics; there is significant overlap between the two, which are merely descriptive. revolutionary tactics aim to bring down authority and state, having taken a violent turn in the past, while evolutionary tactics aim to prefigure what an anarchist society would be like. anarchist thought, criticism, and praxis have played a part in diverse areas of human society. criticism of anarchism include claims that it is internally inconsistent, violent, or utopian. the etymological origin of anarchism is from the ancient greek anarkhia, meaning \"without a ruler\", composed of the prefix an- (\"without\") and the word arkhos (\"leader\" or \"ruler\"). the suffix -ism denotes the ideological current that favours anarchy. anarchism appears in english from 1642 as anarchisme and anarchy from 1539; early english usages emphasised a sense of disorder. various factions within the french revolution labelled their opponents as anarchists, although few such accused shared many views with later anarchists. many revolutionaries of the 19th century such as william godwin (1756–1836) and wilhelm weitling (1808–1871) would contribute to the anarchist doctrines of the next generation but did not use anarchist or anarchism in describing themselves or their beliefs. the first political philosopher to call himself an anarchist () was pierre-joseph proudhon (1809–1865), marking the formal birth of anarchism in the mid-19th century. since the 1890s and beginning in france, libertarianism has often been used as a synonym for anarchism and its use as a synonym is still common outside the united states. some usages of libertarianism refer to individualistic free-market philosophy only, and free-market anarchism in particular is termed libertarian anarchism. while the term libertarian has been largely synonymous with anarchism, its meaning has more recently diluted with wider adoption from ideologically disparate groups, including both the new left and libertarian marxists, who do not associate themselves with authoritarian socialists or a vanguard party, and extreme cultural liberals, who are primarily concerned with civil liberties. additionally, some anarchists use libertarian socialist to avoid anarchism\\'s negative connotations and emphasise its connections with socialism. anarchism is broadly used to describe the anti-authoritarian wing of the socialist movement. anarchism is contrasted to socialist forms which are state-oriented or from above. scholars of anarchism generally highlight anarchism\\'s socialist credentials and criticise attempts at creating dichotomies between the two. some scholars describe anarchism as having many influences from liberalism, and being both liberals and socialists but more so, while most scholars reject anarcho-capitalism as a misunderstanding of anarchist principles. while opposition to the state is central to anarchist thought, defining anarchism is not an easy task for scholars, as there is a lot of discussion among scholars and anarchists on the matter, and various currents perceive anarchism slightly differently. major definitional elements include the will for a non-coercive society, the rejection of the state apparatus, the belief that human nature allows humans to exist in or progress toward such a non-coercive society, and a suggestion on how to act to pursue the ideal of anarchy. before the establishment of towns and cities, an established authority did not exist. it was after the creation of institutions of authority that anarchistic ideas espoused as a reaction. the most notable precursors to anarchism in the ancient world were in china and greece. in china, philosophical anarchism (the discussion on the legitimacy of the state) was delineated by taoist philosophers zhuang zhou and laozi. alongside stoicism, taoism has been said to have had \"significant anticipations\" of anarchism. anarchic attitudes were also articulated by tragedians and philosophers in greece. aeschylus and sophocles used the myth of antigone to illustrate the conflict between rules set by the state and personal autonomy. socrates questioned athenian authorities constantly and insisted on the right of individual freedom of conscience. cynics dismissed human law (nomos) and associated authorities while trying to live according to nature (physis). stoics were supportive of a society based on unofficial and friendly relations among its citizens without the presence of a state. in medieval europe, there was no anarchistic activity except some ascetic religious movements. these, and other muslim movements, later gave birth to religious anarchism. in the sasanian empire, mazdak called for an egalitarian society and the abolition of monarchy, only to be soon executed by emperor kavad i. in basra, religious sects preached against the state. in europe, various sects developed anti-state and libertarian tendencies. renewed interest in antiquity during the renaissance and in private judgment during the reformation restored elements of anti-authoritarian secularism, particularly in france. enlightenment challenges to intellectual authority (secular and religious) and the revolutions of the 1790s and 1848 all spurred the ideological development of what became the era of classical anarchism. during the french revolution, partisan groups such as the enragés and the  saw a turning point in the fermentation of anti-state and federalist sentiments. the first anarchist currents developed throughout the 18th century as william godwin espoused philosophical anarchism in england, morally delegitimising the state, max stirner\\'s thinking paved the way to individualism and pierre-joseph proudhon\\'s theory of mutualism found fertile soil in france. by the late 1870s, various anarchist schools of thought had become well-defined and a wave of then unprecedented globalisation occurred from 1880 to 1914. this era of classical anarchism lasted until the end of the spanish civil war and is considered the golden age of anarchism. drawing from mutualism, mikhail bakunin founded collectivist anarchism and entered the international workingmen\\'s association, a class worker union later known as the first international that formed in 1864 to unite diverse revolutionary currents. the international became a significant political force, with karl marx being a leading figure and a member of its general council. bakunin\\'s faction (the jura federation) and proudhon\\'s followers (the mutualists) opposed state socialism, advocating political abstentionism and small property holdings. after bitter disputes, the bakuninists were expelled from the international by the marxists at the 1872 hague congress. anarchists were treated similarly in the second international, being ultimately expelled in 1896. bakunin famously predicted that if revolutionaries gained power by marx\\'s terms, they would end up the new tyrants of workers. in response to their expulsion from the first international, anarchists formed the st. imier international. under the influence of peter kropotkin, a russian philosopher and scientist, anarcho-communism overlapped with collectivism. anarcho-communists, who drew inspiration from the 1871 paris commune, advocated for free federation and for the distribution of goods according to one\\'s needs. at the turn of the century, anarchism had spread all over the world. it was a notable feature of the international syndicalism movement. in china, small groups of students imported the humanistic pro-science version of anarcho-communism. tokyo was a hotspot for rebellious youth from countries of the far east, travelling to the japanese capital to study. in latin america, argentina was a stronghold for anarcho-syndicalism, where it became the most prominent left-wing ideology. during this time, a minority of anarchists adopted tactics of revolutionary political violence. this strategy became known as propaganda of the deed. the dismemberment of the french socialist movement into many groups and the execution and exile of many communards to penal colonies following the suppression of the paris commune favoured individualist political expression and acts. even though many anarchists distanced themselves from these terrorist acts, infamy came upon the movement and attempts were made to exclude them from american immigration, including the immigration act of 1903, also called the anarchist exclusion act. illegalism was another strategy which some anarchists adopted during this period. despite concerns, anarchists enthusiastically participated in the russian revolution in opposition to the white movement; however, they met harsh suppression after the bolshevik government was stabilised. several anarchists from petrograd and moscow fled to ukraine, notably leading to the kronstadt rebellion and nestor makhno\\'s struggle in the free territory. with the anarchists being crushed in russia, two new antithetical currents emerged, namely platformism and synthesis anarchism. the former sought to create a coherent group that would push for revolution while the latter were against anything that would resemble a political party. seeing the victories of the bolsheviks in the october revolution and the resulting russian civil war, many workers and activists turned to communist parties which grew at the expense of anarchism and other socialist movements. in france and the united states, members of major syndicalist movements such as the general confederation of labour and the industrial workers of the world left their organisations and joined the communist international. in the spanish civil war of 1936, anarchists and syndicalists (cnt and fai) once again allied themselves with various currents of leftists. a long tradition of spanish anarchism led to anarchists playing a pivotal role in the war. in response to the army rebellion, an anarchist-inspired movement of peasants and workers, supported by armed militias, took control of barcelona and of large areas of rural spain, where they collectivised the land. the soviet union provided some limited assistance at the beginning of the war, but the result was a bitter fight among communists and anarchists at a series of events named may days as joseph stalin tried to seize control of the republicans. at the end of world war ii, the anarchist movement was severely weakened. the 1960s witnessed a revival of anarchism, likely caused by a perceived failure of marxism–leninism and tensions built by the cold war. during this time, anarchism found a presence in other movements critical towards both capitalism and the state such as the anti-nuclear, environmental, and peace movements, the counterculture of the 1960s, and the new left. it also saw a transition from its previous revolutionary nature to provocative anti-capitalist reformism. anarchism became associated with punk subculture as exemplified by bands such as crass and the sex pistols. the established feminist tendencies of anarcha-feminism returned with vigour during the second wave of feminism. black anarchism began to take form at this time and influenced anarchism\\'s move from a eurocentric demographic. this coincided with its failure to gain traction in northern europe and its unprecedented height in latin america. around the turn of the 21st century, anarchism grew in popularity and influence within anti-capitalist, anti-war and anti-globalisation movements. anarchists became known for their involvement in protests against the world trade organization (wto), the group of eight and the world economic forum. during the protests, ad hoc leaderless anonymous cadres known as black blocs engaged in rioting, property destruction and violent confrontations with the police. other organisational tactics pioneered in this time include affinity groups, security culture and the use of decentralised technologies such as the internet. a significant event of this period was the confrontations at the 1999 seattle wto conference. anarchist ideas have been influential in the development of the zapatistas in mexico and the democratic federation of northern syria, more commonly known as rojava, a de facto autonomous region in northern syria. anarchist schools of thought have been generally grouped into two main historical traditions, social anarchism and individualist anarchism, owing to their different origins, values and evolution. the individualist current emphasises negative liberty in opposing restraints upon the free individual, while the social current emphasises positive liberty in aiming to achieve the free potential of society through equality and social ownership. in a chronological sense, anarchism can be segmented by the classical currents of the late 19th century and the post-classical currents (anarcha-feminism, green anarchism, and post-anarchism) developed thereafter. beyond the specific factions of anarchist movements which constitute political anarchism lies philosophical anarchism which holds that the state lacks moral legitimacy, without necessarily accepting the imperative of revolution to eliminate it. a component especially of individualist anarchism, philosophical anarchism may tolerate the existence of a minimal state but claims that citizens have no moral obligation to obey government when it conflicts with individual autonomy. anarchism pays significant attention to moral arguments since ethics have a central role in anarchist philosophy. anarchism\\'s emphasis on anti-capitalism, egalitarianism, and for the extension of community and individuality sets it apart from anarcho-capitalism and other types of economic libertarianism. anarchism is usually placed on the far-left of the political spectrum. much of its economics and legal philosophy reflect anti-authoritarian, anti-statist, libertarian, and radical interpretations of left-wing and socialist politics such as collectivism, communism, individualism, mutualism, and syndicalism, among other libertarian socialist economic theories. as anarchism does not offer a fixed body of doctrine from a single particular worldview, many anarchist types and traditions exist and varieties of anarchy diverge widely. one reaction against sectarianism within the anarchist milieu was anarchism without adjectives, a call for toleration and unity among anarchists first adopted by fernando tarrida del mármol in 1889 in response to the bitter debates of anarchist theory at the time. belief in political nihilism has been espoused by anarchists. despite separation, the various anarchist schools of thought are not seen as distinct entities but rather as tendencies that intermingle and are connected through a set of uniform principles such as individual and local autonomy, mutual aid, network organisation, communal democracy, justified authority and decentralisation. inceptive currents among classical anarchist currents were mutualism and individualism. they were followed by the major currents of social anarchism (collectivist, communist and syndicalist). they differ on organisational and economic aspects of their ideal society. mutualism is an 18th-century economic theory that was developed into anarchist theory by pierre-joseph proudhon. its aims include reciprocity, free association, voluntary contract, federation and monetary reform of both credit and currency that would be regulated by a bank of the people. mutualism has been retrospectively characterised as ideologically situated between individualist and collectivist forms of anarchism. in what is property? (1840), proudhon first characterised his goal as a \"third form of society, the synthesis of communism and property.\" collectivist anarchism is a revolutionary socialist form of anarchism commonly associated with mikhail bakunin. collectivist anarchists advocate collective ownership of the means of production which is theorised to be achieved through violent revolution and that workers be paid according to time worked, rather than goods being distributed according to need as in communism. collectivist anarchism arose alongside marxism but rejected the dictatorship of the proletariat despite the stated marxist goal of a collectivist stateless society. anarcho-communism is a theory of anarchism that advocates a communist society with common ownership of the means of production, direct democracy and a horizontal network of voluntary associations, workers\\' councils and worker cooperatives, with production and consumption based on the guiding principle \"from each according to his ability, to each according to his need.\" anarcho-communism developed from radical socialist currents after the french revolution but was first formulated as such in the italian section of the first international. it was later expanded upon in the theoretical work of peter kropotkin, whose specific style would go onto become the dominating view of anarchists by the late 19th century. anarcho-syndicalism is a branch of anarchism that views labour syndicates as a potential force for revolutionary social change, replacing capitalism and the state with a new society democratically self-managed by workers. the basic principles of anarcho-syndicalism are direct action, workers\\' solidarity and workers\\' self-management. individualist anarchism is a set of several traditions of thought within the anarchist movement that emphasise the individual and their will over any kinds of external determinants. early influences on individualist forms of anarchism include william godwin, max stirner, and henry david thoreau. through many countries, individualist anarchism attracted a small yet diverse following of bohemian artists and intellectuals as well as young anarchist outlaws in what became known as illegalism and individual reclamation. anarchist principles undergird contemporary radical social movements of the left. interest in the anarchist movement developed alongside momentum in the anti-globalisation movement, whose leading activist networks were anarchist in orientation. as the movement shaped 21st century radicalism, wider embrace of anarchist principles signaled a revival of interest. anarchism has continued to generate many philosophies and movements, at times eclectic, drawing upon various sources and combining disparate concepts to create new philosophical approaches. the anti-capitalist tradition of classical anarchism has remained prominent within contemporary currents. contemporary news coverage which emphasizes black bloc demonstrations has reinforced anarchism\\'s historical association with chaos and violence. its publicity has also led more scholars in fields such as anthropology and history to engage with the anarchist movement, although contemporary anarchism favours actions over academic theory. various anarchist groups, tendencies, and schools of thought exist today, making it difficult to describe the contemporary anarchist movement. while theorists and activists have established \"relatively stable constellations of anarchist principles\", there is no consensus on which principles are core and commentators describe multiple anarchisms, rather than a singular anarchism, in which common principles are shared between schools of anarchism while each group prioritizes those principles differently. gender equality can be a common principle, although it ranks as a higher priority to anarcha-feminists than anarcho-communists. anarchists are generally committed against coercive authority in all forms, namely \"all centralized and hierarchical forms of government (e.g., monarchy, representative democracy, state socialism, etc.), economic class systems (e.g., capitalism, bolshevism, feudalism, slavery, etc.), autocratic religions (e.g., fundamentalist islam, roman catholicism, etc.), patriarchy, heterosexism, white supremacy, and imperialism.\" anarchist schools disagree on the methods by which these forms should be opposed. the principle of equal liberty is closer to anarchist political ethics in that it transcends both the liberal and socialist traditions. this entails that liberty and equality cannot be implemented within the state, resulting in the questioning of all forms of domination and hierarchy. anarchists\\' tactics take various forms but in general serve two major goals, namely to first oppose the establishment and secondly to promote anarchist ethics and reflect an anarchist vision of society, illustrating the unity of means and ends. a broad categorisation can be made between aims to destroy oppressive states and institutions by revolutionary means on one hand and aims to change society through evolutionary means on the other. evolutionary tactics embrace nonviolence, reject violence and take a gradual approach to anarchist aims, although there is significant overlap between the two. anarchist tactics have shifted during the course of the last century. anarchists during the early 20th century focused more on strikes and militancy while contemporary anarchists use a broader array of approaches. during the classical era, anarchists had a militant tendency. not only did they confront state armed forces, as in spain and ukraine, but some of them also employed terrorism as propaganda of the deed. assassination attempts were carried out against heads of state, some of which were successful. anarchists also took part in revolutions. many anarchists, especially the galleanists, believed that these attempts would be the impetus for a revolution against capitalism and the state. many of these attacks were done by individual assailants and the majority took place in the late 1870s, the early 1880s and the 1890s, with some still occurring in the early 1900s. their decrease in prevalence was the result of further judicial power and targeting and cataloging by state institutions. anarchist perspectives towards violence have always been controversial. anarcho-pacifists advocate for non-violence means to achieve their stateless, nonviolent ends. other anarchist groups advocate direct action, a tactic which can include acts of sabotage or terrorism. this attitude was quite prominent a century ago when seeing the state as a tyrant and some anarchists believing that they had every right to oppose its oppression by any means possible. emma goldman and errico malatesta, who were proponents of limited use of violence, stated that violence is merely a reaction to state violence as a necessary evil. anarchists took an active role in strike actions, although they tended to be antipathetic to formal syndicalism, seeing it as reformist. they saw it as a part of the movement which sought to overthrow the state and capitalism. anarchists also reinforced their propaganda within the arts, some of whom practiced naturism and nudism. those anarchists also built communities which were based on friendship and were involved in the news media. in the current era, italian anarchist alfredo bonanno, a proponent of insurrectionary anarchism, has reinstated the debate on violence by rejecting the nonviolence tactic adopted since the late 19th century by kropotkin and other prominent anarchists afterwards. both bonanno and the french group the invisible committee advocate for small, informal affiliation groups, where each member is responsible for their own actions but works together to bring down oppression utilizing sabotage and other violent means against state, capitalism, and other enemies. members of the invisible committee were arrested in 2008 on various charges, terrorism included. overall, contemporary anarchists are much less violent and militant than their ideological ancestors. they mostly engage in confronting the police during demonstrations and riots, especially in countries such as canada, greece, and mexico. militant black bloc protest groups are known for clashing with the police; however, anarchists not only clash with state operators, they also engage in the struggle against fascists and racists, taking anti-fascist action and mobilizing to prevent hate rallies from happening. anarchists commonly employ direct action. this can take the form of disrupting and protesting against unjust hierarchy, or the form of self-managing their lives through the creation of counter-institutions such as communes and non-hierarchical collectives. decision-making is often handled in an anti-authoritarian way, with everyone having equal say in each decision, an approach known as horizontalism. contemporary-era anarchists have been engaging with various grassroots movements that are more or less based on horizontalism, although not explicitly anarchist, respecting personal autonomy and participating in mass activism such as strikes and demonstrations. in contrast with the big-a anarchism of the classical era, the newly coined term small-a anarchism signals their tendency not to base their thoughts and actions on classical-era anarchism or to refer to classical anarchists such as peter kropotkin and pierre-joseph proudhon to justify their opinions. those anarchists would rather base their thought and praxis on their own experience which they will later theorize. the decision-making process of small anarchist affinity groups plays a significant tactical role. anarchists have employed various methods in order to build a rough consensus among members of their group without the need of a leader or a leading group. one way is for an individual from the group to play the role of facilitator to help achieve a consensus without taking part in the discussion themselves or promoting a specific point. minorities usually accept rough consensus, except when they feel the proposal contradicts anarchist ethics, goals and values. anarchists usually form small groups (5–20 individuals) to enhance autonomy and friendships among their members. these kinds of groups more often than not interconnect with each other, forming larger networks. anarchists still support and participate in strikes, especially wildcat strikes as these are leaderless strikes not organised centrally by a syndicate. as in the past, newspapers and journals are used, and anarchists have gone online in the world wide web to spread their message. anarchists have found it easier to create websites because of distributional and other difficulties, hosting electronic libraries and other portals. anarchists were also involved in developing various software that are available for free. the way these hacktivists work to develop and distribute resembles the anarchist ideals, especially when it comes to preserving users\\' privacy from state surveillance. anarchists organize themselves to squat and reclaim public spaces. during important events such as protests and when spaces are being occupied, they are often called temporary autonomous zones (taz), spaces where art, poetry, and surrealism are blended to display the anarchist ideal. as seen by anarchists, squatting is a way to regain urban space from the capitalist market, serving pragmatical needs and also being an exemplary direct action. acquiring space enables anarchists to experiment with their ideas and build social bonds. adding up these tactics while having in mind that not all anarchists share the same attitudes towards them, along with various forms of protesting at highly symbolic events, make up a carnivalesque atmosphere that is part of contemporary anarchist vividity. as anarchism is a philosophy that embodies many diverse attitudes, tendencies, and schools of thought; disagreement over questions of values, ideology, and tactics is common. its diversity has led to widely different uses of identical terms among different anarchist traditions which has created a number of definitional concerns in anarchist theory. the compatibility of capitalism, nationalism, and religion with anarchism is widely disputed, and anarchism enjoys complex relationships with ideologies such as communism, collectivism, marxism, and trade unionism. anarchists may be motivated by humanism, divine authority, enlightened self-interest, veganism, or any number of alternative ethical doctrines. phenomena such as civilisation, technology (e.g. within anarcho-primitivism), and the democratic process may be sharply criticised within some anarchist tendencies and simultaneously lauded in others. as gender and sexuality carry along them dynamics of hierarchy, many anarchists address, analyse, and oppose the suppression of one\\'s autonomy imposed by gender roles. sexuality was not often discussed by classical anarchists but the few that did felt that an anarchist society would lead to sexuality naturally developing. sexual violence was a concern for anarchists such as benjamin tucker, who opposed age of consent laws, believing they would benefit predatory men. a historical current that arose and flourished during 1890 and 1920 within anarchism was free love. in contemporary anarchism, this current survives as a tendency to support polyamory and queer anarchism. free love advocates were against marriage, which they saw as a way of men imposing authority over women, largely because marriage law greatly favoured the power of men. the notion of free love was much broader and included a critique of the established order that limited women\\'s sexual freedom and pleasure. those free love movements contributed to the establishment of communal houses, where large groups of travelers, anarchists and other activists slept in beds together. free love had roots both in europe and the united states; however, some anarchists struggled with the jealousy that arose from free love. anarchist feminists were advocates of free love, against marriage, and pro-choice (utilising a contemporary term), and had a similar agenda. anarchist and non-anarchist feminists differed on suffrage but were supportive of one another. during the second half of the 20th century, anarchism intermingled with the second wave of feminism, radicalising some currents of the feminist movement and being influenced as well. by the latest decades of the 20th century, anarchists and feminists were advocating for the rights and autonomy of women, gays, queers and other marginalised groups, with some feminist thinkers suggesting a fusion of the two currents. with the third wave of feminism, sexual identity and compulsory heterosexuality became a subject of study for anarchists, yielding a post-structuralist critique of sexual normality. some anarchists distanced themselves from this line of thinking, suggesting that it leaned towards an individualism that was dropping the cause of social liberation. the interest of anarchists in education stretches back to the first emergence of classical anarchism. anarchists consider proper education, one which sets the foundations of the future autonomy of the individual and the society, to be an act of mutual aid. anarchist writers such as william godwin (political justice) and max stirner (\"the false principle of our education\") attacked both state education and private education as another means by which the ruling class replicate their privileges. in 1901, catalan anarchist and free thinker francisco ferrer established the escuela moderna in barcelona as an opposition to the established education system which was dictated largely by the catholic church. ferrer\\'s approach was secular, rejecting both state and church involvement in the educational process whilst giving pupils large amounts of autonomy in planning their work and attendance. ferrer aimed to educate the working class and explicitly sought to foster class consciousness among students. the school closed after constant harassment by the state and ferrer was later arrested. nonetheless, his ideas formed the inspiration for a series of modern schools around the world. christian anarchist leo tolstoy, who published the essay education and culture, also established a similar school with its founding principle being that \"for education to be effective it had to be free.\" in a similar token, a. s. neill founded what became the summerhill school in 1921, also declaring being free from coercion. anarchist education is based largely on the idea that a child\\'s right to develop freely and without manipulation ought to be respected and that rationality would lead children to morally good conclusions; however, there has been little consensus among anarchist figures as to what constitutes manipulation. ferrer believed that moral indoctrination was necessary and explicitly taught pupils that equality, liberty and social justice were not possible under capitalism, along with other critiques of government and nationalism. late 20th century and contemporary anarchist writers (paul goodman, herbert read, and colin ward) intensified and expanded the anarchist critique of state education, largely focusing on the need for a system that focuses on children\\'s creativity rather than on their ability to attain a career or participate in consumerism as part of a consumer society. contemporary anarchists such as ward claim that state education serves to perpetuate socioeconomic inequality. while few anarchist education institutions have survived to the modern-day, major tenets of anarchist schools, among them respect for child autonomy and relying on reasoning rather than indoctrination as a teaching method, have spread among mainstream educational institutions. judith suissa names three schools as explicitly anarchists schools, namely the free skool santa cruz in the united states which is part of a wider american-canadian network of schools, the self-managed learning college in brighton, england, and the paideia school in spain. objection to the state and its institutions is a sine qua non of anarchism. anarchists consider the state as a tool of domination and believe it to be illegitimate regardless of its political tendencies. instead of people being able to control the aspects of their life, major decisions are taken by a small elite. authority ultimately rests solely on power, regardless of whether that power is open or transparent, as it still has the ability to coerce people. another anarchist argument against states is that the people constituting a government, even the most altruistic among officials, will unavoidably seek to gain more power, leading to corruption. anarchists consider the idea that the state is the collective will of the people to be an unachievable fiction due to the fact that the ruling class is distinct from the rest of society. specific anarchist attitudes towards the state vary. robert paul wolff believed that the tension between authority and autonomy would mean the state could never be legitimate. bakunin saw the state as meaning \"coercion, domination by means of coercion, camouflaged if possible but unceremonious and overt if need be.\" a. john simmons and leslie green, who leaned toward philosophical anarchism, believed that the state could be legitimate if it is governed by consensus, although they saw this as highly unlikely. beliefs on how to abolish the state also differ. the connection between anarchism and art was quite profound during the classical era of anarchism, especially among artistic currents that were developing during that era such as futurists, surrealists and others. in literature, anarchism was mostly associated with the new apocalyptics and the neo-romanticism movement. in music, anarchism has been associated with music scenes such as punk. anarchists such as leo tolstoy and herbert read stated that the border between the artist and the non-artist, what separates art from a daily act, is a construct produced by the alienation caused by capitalism and it prevents humans from living a joyful life. other anarchists advocated for or used art as a means to achieve anarchist ends. in his book breaking the spell: a history of anarchist filmmakers, videotape guerrillas, and digital ninjas, chris robé claims that \"anarchist-inflected practices have increasingly structured movement-based video activism.\" throughout the 20th century, many prominent anarchists (peter kropotkin, emma goldman, gustav landauer and camillo berneri) and publications such as anarchy wrote about matters pertaining to the arts. three overlapping properties made art useful to anarchists. it could depict a critique of existing society and hierarchies, serve as a prefigurative tool to reflect the anarchist ideal society and even turn into a means of direct action such as in protests. as it appeals to both emotion and reason, art could appeal to the whole human and have a powerful effect. the 19th-century neo-impressionist movement had an ecological aesthetic and offered an example of an anarchist perception of the road towards socialism. in les chataigniers a osny by anarchist painter camille pissarro, the blending of aesthetic and social harmony is prefiguring an ideal anarchistic agrarian community. the most common critique of anarchism is that humans cannot self-govern and so a state is necessary for human survival. philosopher bertrand russell supported this critique, stating that \"[p]eace and war, tariffs, regulations of sanitary conditions and the sale of noxious drugs, the preservation of a just system of distribution: these, among others, are functions which could hardly be performed in a community in which there was no central government.\" another common criticism of anarchism is that it fits a world of isolation in which only the small enough entities can be self-governing; a response would be that major anarchist thinkers advocated anarchist federalism. philosophy lecturer andrew g. fiala composed a list of common arguments against anarchism which includes critiques such as that anarchism is innately related to violence and destruction, not only in the pragmatic world, such as at protests, but in the world of ethics as well. secondly, anarchism is evaluated as unfeasible or utopian since the state cannot be defeated practically. this line of arguments most often calls for political action within the system to reform it. the third argument is that anarchism is self-contradictory. while it advocates for no-one to archiei, if accepted by the many, then anarchism would turn into the ruling political theory. in this line of criticism also comes the self-contradiction that anarchism calls for collective action whilst endorsing the autonomy of the individual, hence no collective action can be taken. lastly, fiala mentions a critique towards philosophical anarchism of being ineffective (all talk and thoughts) and in the meantime capitalism and bourgeois class remains strong. philosophical anarchism has met the criticism of members of academia following the release of pro-anarchist books such as a. john simmons\\' moral principles and political obligations. law professor william a. edmundson authored an essay to argue against three major philosophical anarchist principles which he finds fallacious. edmundson says that while the individual does not owe the state a duty of obedience, this does not imply that anarchism is the inevitable conclusion and the state is still morally legitimate. in the problem of political authority, michael huemer defends philosophical anarchism, claiming that \"political authority is a moral illusion.\" one of the earliest criticisms is that anarchism defies and fails to understand the biological inclination to authority. joseph raz states that the acceptance of authority implies the belief that following their instructions will afford more success. raz believes that this argument is true in following both authorities\\' successful and mistaken instruction. anarchists reject this criticism because challenging or disobeying authority does not entail the disappearance of its advantages by acknowledging authority such as doctors or lawyers as reliable, nor does it involve a complete surrender of independent judgment. anarchist perception of human nature, rejection of the state, and commitment to social revolution has been criticised by academics as naive, overly simplistic, and unrealistic, respectively. classical anarchism has been criticised for relying too heavily on the belief that the abolition of the state will lead to human cooperation prospering. friedrich engels, considered to be one of the principal founders of marxism, criticised anarchism\\'s anti-authoritarianism as inherently counter-revolutionary because in his view a revolution is by itself authoritarian. academic john molyneux writes in his book anarchism: a marxist criticism that \"anarchism cannot win\", believing that it lacks the ability to properly implement its ideas. the marxist criticism of anarchism is that it has a utopian character because all individuals should have anarchist views and values. according to the marxist view, that a social idea would follow directly from this human ideal and out of the free will of every individual formed its essence. marxists state that this contradiction was responsible for their inability to act. in the anarchist vision, the conflict between liberty and equality was resolved through coexistence and intertwining.   a defence of philosophical anarchism, stating that \"both kinds of \\'anarchism\\' [i.e. philosophical and political anarchism] are philosophical and political claims.\" (p.\\xa0137)  anarchy archives. anarchy archives is an online research center on the history and theory of anarchism.'"
      ]
     },
     "execution_count": 40,
     "metadata": {},
     "output_type": "execute_result"
    }
   ],
   "source": [
    "tokenizer.normalizer.normalize_str(wiki_dataset[0]['text'])"
   ]
  },
  {
   "cell_type": "markdown",
   "id": "0d8c3d56-1ac2-48d7-b43c-66dbfcf27a77",
   "metadata": {},
   "source": [
    "Now comes pre-tokenization. This is what huggingface has to say about pre-tokenization:\n",
    "\n",
    "\"The PreTokenizer takes care of splitting the input according to a set of rules. This pre-processing lets you ensure that the underlying Model does not build tokens across multiple “splits”. For example if you don’t want to have whitespaces inside a token, then you can have a PreTokenizer that splits on these whitespaces.\n",
    "\n",
    "You can easily combine multiple PreTokenizer together using a Sequence (see below). The PreTokenizer is also allowed to modify the string, just like a Normalizer does. This is necessary to allow some complicated algorithms that require to split before normalizing (e.g. the ByteLevel)\"\n",
    "\n",
    "Let's go for GPT's ByteLevel pretokenizer since it seems to have some nice properties."
   ]
  },
  {
   "cell_type": "code",
   "execution_count": 41,
   "id": "6a6c8f0d-75b2-4f6a-b73b-ea97e4f085ef",
   "metadata": {},
   "outputs": [],
   "source": [
    "from tokenizers import pre_tokenizers\n",
    "\n",
    "tokenizer.pre_tokenizer = pre_tokenizers.Sequence([pre_tokenizers.WhitespaceSplit(), pre_tokenizers.ByteLevel(use_regex=False)])"
   ]
  },
  {
   "cell_type": "code",
   "execution_count": 33,
   "id": "51ca432f-390b-4bd3-bae1-5fefd6824e8d",
   "metadata": {
    "collapsed": true,
    "jupyter": {
     "outputs_hidden": true
    },
    "tags": []
   },
   "outputs": [
    {
     "data": {
      "text/plain": [
       "[('ĠAnarchism', (0, 9)),\n",
       " ('Ġis', (10, 12)),\n",
       " ('Ġa', (13, 14)),\n",
       " ('Ġpolitical', (15, 24)),\n",
       " ('Ġphilosophy', (25, 35)),\n",
       " ('Ġand', (36, 39)),\n",
       " ('Ġmovement', (40, 48)),\n",
       " ('Ġthat', (49, 53)),\n",
       " ('Ġis', (54, 56)),\n",
       " ('Ġsceptical', (57, 66)),\n",
       " ('Ġof', (67, 69)),\n",
       " ('Ġauthority', (70, 79)),\n",
       " ('Ġand', (80, 83)),\n",
       " ('Ġrejects', (84, 91)),\n",
       " ('Ġall', (92, 95)),\n",
       " ('Ġinvoluntary,', (96, 108)),\n",
       " ('Ġcoercive', (109, 117)),\n",
       " ('Ġforms', (118, 123)),\n",
       " ('Ġof', (124, 126)),\n",
       " ('Ġhierarchy.', (127, 137)),\n",
       " ('ĠAnarchism', (138, 147)),\n",
       " ('Ġcalls', (148, 153)),\n",
       " ('Ġfor', (154, 157)),\n",
       " ('Ġthe', (158, 161)),\n",
       " ('Ġabolition', (162, 171)),\n",
       " ('Ġof', (172, 174)),\n",
       " ('Ġthe', (175, 178)),\n",
       " ('Ġstate,', (179, 185)),\n",
       " ('Ġwhich', (186, 191)),\n",
       " ('Ġit', (192, 194)),\n",
       " ('Ġholds', (195, 200)),\n",
       " ('Ġto', (201, 203)),\n",
       " ('Ġbe', (204, 206)),\n",
       " ('Ġunnecessary,', (207, 219)),\n",
       " ('Ġundesirable,', (220, 232)),\n",
       " ('Ġand', (233, 236)),\n",
       " ('Ġharmful.', (237, 245)),\n",
       " ('ĠAs', (246, 248)),\n",
       " ('Ġa', (249, 250)),\n",
       " ('Ġhistorically', (251, 263)),\n",
       " ('Ġleft-wing', (264, 273)),\n",
       " ('Ġmovement,', (274, 283)),\n",
       " ('Ġplaced', (284, 290)),\n",
       " ('Ġon', (291, 293)),\n",
       " ('Ġthe', (294, 297)),\n",
       " ('Ġfarthest', (298, 306)),\n",
       " ('Ġleft', (307, 311)),\n",
       " ('Ġof', (312, 314)),\n",
       " ('Ġthe', (315, 318)),\n",
       " ('Ġpolitical', (319, 328)),\n",
       " ('Ġspectrum,', (329, 338)),\n",
       " ('Ġit', (339, 341)),\n",
       " ('Ġis', (342, 344)),\n",
       " ('Ġusually', (345, 352)),\n",
       " ('Ġdescribed', (353, 362)),\n",
       " ('Ġalongside', (363, 372)),\n",
       " ('Ġcommunalism', (373, 384)),\n",
       " ('Ġand', (385, 388)),\n",
       " ('Ġlibertarian', (389, 400)),\n",
       " ('ĠMarxism', (401, 408)),\n",
       " ('Ġas', (409, 411)),\n",
       " ('Ġthe', (412, 415)),\n",
       " ('Ġlibertarian', (416, 427)),\n",
       " ('Ġwing', (428, 432)),\n",
       " ('Ġ(libertarian', (433, 445)),\n",
       " ('Ġsocialism)', (446, 456)),\n",
       " ('Ġof', (457, 459)),\n",
       " ('Ġthe', (460, 463)),\n",
       " ('Ġsocialist', (464, 473)),\n",
       " ('Ġmovement,', (474, 483)),\n",
       " ('Ġand', (484, 487)),\n",
       " ('Ġhas', (488, 491)),\n",
       " ('Ġa', (492, 493)),\n",
       " ('Ġstrong', (494, 500)),\n",
       " ('Ġhistorical', (501, 511)),\n",
       " ('Ġassociation', (512, 523)),\n",
       " ('Ġwith', (524, 528)),\n",
       " ('Ġanti-capitalism', (529, 544)),\n",
       " ('Ġand', (545, 548)),\n",
       " ('Ġsocialism.', (549, 559)),\n",
       " ('ĠHumans', (560, 566)),\n",
       " ('Ġlived', (567, 572)),\n",
       " ('Ġin', (573, 575)),\n",
       " ('Ġsocieties', (576, 585)),\n",
       " ('Ġwithout', (586, 593)),\n",
       " ('Ġformal', (594, 600)),\n",
       " ('Ġhierarchies', (601, 612)),\n",
       " ('Ġlong', (613, 617)),\n",
       " ('Ġbefore', (618, 624)),\n",
       " ('Ġthe', (625, 628)),\n",
       " ('Ġestablishment', (629, 642)),\n",
       " ('Ġof', (643, 645)),\n",
       " ('Ġformal', (646, 652)),\n",
       " ('Ġstates,', (653, 660)),\n",
       " ('Ġrealms,', (661, 668)),\n",
       " ('Ġor', (669, 671)),\n",
       " ('Ġempires.', (672, 680)),\n",
       " ('ĠWith', (681, 685)),\n",
       " ('Ġthe', (686, 689)),\n",
       " ('Ġrise', (690, 694)),\n",
       " ('Ġof', (695, 697)),\n",
       " ('Ġorganised', (698, 707)),\n",
       " ('Ġhierarchical', (708, 720)),\n",
       " ('Ġbodies,', (721, 728)),\n",
       " ('Ġscepticism', (729, 739)),\n",
       " ('Ġtoward', (740, 746)),\n",
       " ('Ġauthority', (747, 756)),\n",
       " ('Ġalso', (757, 761)),\n",
       " ('Ġrose.', (762, 767)),\n",
       " ('ĠAlthough', (768, 776)),\n",
       " ('Ġtraces', (777, 783)),\n",
       " ('Ġof', (784, 786)),\n",
       " ('Ġanarchist', (787, 796)),\n",
       " ('Ġthought', (797, 804)),\n",
       " ('Ġare', (805, 808)),\n",
       " ('Ġfound', (809, 814)),\n",
       " ('Ġthroughout', (815, 825)),\n",
       " ('Ġhistory,', (826, 834)),\n",
       " ('Ġmodern', (835, 841)),\n",
       " ('Ġanarchism', (842, 851)),\n",
       " ('Ġemerged', (852, 859)),\n",
       " ('Ġfrom', (860, 864)),\n",
       " ('Ġthe', (865, 868)),\n",
       " ('ĠEnlightenment.', (869, 883)),\n",
       " ('ĠDuring', (884, 890)),\n",
       " ('Ġthe', (891, 894)),\n",
       " ('Ġlatter', (895, 901)),\n",
       " ('Ġhalf', (902, 906)),\n",
       " ('Ġof', (907, 909)),\n",
       " ('Ġthe', (910, 913)),\n",
       " ('Ġ19th', (914, 918)),\n",
       " ('Ġand', (919, 922)),\n",
       " ('Ġthe', (923, 926)),\n",
       " ('Ġfirst', (927, 932)),\n",
       " ('Ġdecades', (933, 940)),\n",
       " ('Ġof', (941, 943)),\n",
       " ('Ġthe', (944, 947)),\n",
       " ('Ġ20th', (948, 952)),\n",
       " ('Ġcentury,', (953, 961)),\n",
       " ('Ġthe', (962, 965)),\n",
       " ('Ġanarchist', (966, 975)),\n",
       " ('Ġmovement', (976, 984)),\n",
       " ('Ġflourished', (985, 995)),\n",
       " ('Ġin', (996, 998)),\n",
       " ('Ġmost', (999, 1003)),\n",
       " ('Ġparts', (1004, 1009)),\n",
       " ('Ġof', (1010, 1012)),\n",
       " ('Ġthe', (1013, 1016)),\n",
       " ('Ġworld', (1017, 1022)),\n",
       " ('Ġand', (1023, 1026)),\n",
       " ('Ġhad', (1027, 1030)),\n",
       " ('Ġa', (1031, 1032)),\n",
       " ('Ġsignificant', (1033, 1044)),\n",
       " ('Ġrole', (1045, 1049)),\n",
       " ('Ġin', (1050, 1052)),\n",
       " (\"Ġworkers'\", (1053, 1061)),\n",
       " ('Ġstruggles', (1062, 1071)),\n",
       " ('Ġfor', (1072, 1075)),\n",
       " ('Ġemancipation.', (1076, 1089)),\n",
       " ('ĠVarious', (1090, 1097)),\n",
       " ('Ġanarchist', (1098, 1107)),\n",
       " ('Ġschools', (1108, 1115)),\n",
       " ('Ġof', (1116, 1118)),\n",
       " ('Ġthought', (1119, 1126)),\n",
       " ('Ġformed', (1127, 1133)),\n",
       " ('Ġduring', (1134, 1140)),\n",
       " ('Ġthis', (1141, 1145)),\n",
       " ('Ġperiod.', (1146, 1153)),\n",
       " ('ĠAnarchists', (1154, 1164)),\n",
       " ('Ġhave', (1165, 1169)),\n",
       " ('Ġtaken', (1170, 1175)),\n",
       " ('Ġpart', (1176, 1180)),\n",
       " ('Ġin', (1181, 1183)),\n",
       " ('Ġseveral', (1184, 1191)),\n",
       " ('Ġrevolutions,', (1192, 1204)),\n",
       " ('Ġmost', (1205, 1209)),\n",
       " ('Ġnotably', (1210, 1217)),\n",
       " ('Ġin', (1218, 1220)),\n",
       " ('Ġthe', (1221, 1224)),\n",
       " ('ĠParis', (1225, 1230)),\n",
       " ('ĠCommune,', (1231, 1239)),\n",
       " ('Ġthe', (1240, 1243)),\n",
       " ('ĠRussian', (1244, 1251)),\n",
       " ('ĠCivil', (1252, 1257)),\n",
       " ('ĠWar', (1258, 1261)),\n",
       " ('Ġand', (1262, 1265)),\n",
       " ('Ġthe', (1266, 1269)),\n",
       " ('ĠSpanish', (1270, 1277)),\n",
       " ('ĠCivil', (1278, 1283)),\n",
       " ('ĠWar,', (1284, 1288)),\n",
       " ('Ġwhose', (1289, 1294)),\n",
       " ('Ġend', (1295, 1298)),\n",
       " ('Ġmarked', (1299, 1305)),\n",
       " ('Ġthe', (1306, 1309)),\n",
       " ('Ġend', (1310, 1313)),\n",
       " ('Ġof', (1314, 1316)),\n",
       " ('Ġthe', (1317, 1320)),\n",
       " ('Ġclassical', (1321, 1330)),\n",
       " ('Ġera', (1331, 1334)),\n",
       " ('Ġof', (1335, 1337)),\n",
       " ('Ġanarchism.', (1338, 1348)),\n",
       " ('ĠIn', (1349, 1351)),\n",
       " ('Ġthe', (1352, 1355)),\n",
       " ('Ġlast', (1356, 1360)),\n",
       " ('Ġdecades', (1361, 1368)),\n",
       " ('Ġof', (1369, 1371)),\n",
       " ('Ġthe', (1372, 1375)),\n",
       " ('Ġ20th', (1376, 1380)),\n",
       " ('Ġand', (1381, 1384)),\n",
       " ('Ġinto', (1385, 1389)),\n",
       " ('Ġthe', (1390, 1393)),\n",
       " ('Ġ21st', (1394, 1398)),\n",
       " ('Ġcentury,', (1399, 1407)),\n",
       " ('Ġthe', (1408, 1411)),\n",
       " ('Ġanarchist', (1412, 1421)),\n",
       " ('Ġmovement', (1422, 1430)),\n",
       " ('Ġhas', (1431, 1434)),\n",
       " ('Ġbeen', (1435, 1439)),\n",
       " ('Ġresurgent', (1440, 1449)),\n",
       " ('Ġonce', (1450, 1454)),\n",
       " ('Ġmore.', (1455, 1460)),\n",
       " ('ĠAnarchism', (1461, 1470)),\n",
       " ('Ġemploys', (1471, 1478)),\n",
       " ('Ġa', (1479, 1480)),\n",
       " ('Ġdiversity', (1481, 1490)),\n",
       " ('Ġof', (1491, 1493)),\n",
       " ('Ġtactics', (1494, 1501)),\n",
       " ('Ġin', (1502, 1504)),\n",
       " ('Ġorder', (1505, 1510)),\n",
       " ('Ġto', (1511, 1513)),\n",
       " ('Ġmeet', (1514, 1518)),\n",
       " ('Ġits', (1519, 1522)),\n",
       " ('Ġideal', (1523, 1528)),\n",
       " ('Ġends', (1529, 1533)),\n",
       " ('Ġwhich', (1534, 1539)),\n",
       " ('Ġcan', (1540, 1543)),\n",
       " ('Ġbe', (1544, 1546)),\n",
       " ('Ġbroadly', (1547, 1554)),\n",
       " ('Ġseparated', (1555, 1564)),\n",
       " ('Ġinto', (1565, 1569)),\n",
       " ('Ġrevolutionary', (1570, 1583)),\n",
       " ('Ġand', (1584, 1587)),\n",
       " ('Ġevolutionary', (1588, 1600)),\n",
       " ('Ġtactics;', (1601, 1609)),\n",
       " ('Ġthere', (1610, 1615)),\n",
       " ('Ġis', (1616, 1618)),\n",
       " ('Ġsignificant', (1619, 1630)),\n",
       " ('Ġoverlap', (1631, 1638)),\n",
       " ('Ġbetween', (1639, 1646)),\n",
       " ('Ġthe', (1647, 1650)),\n",
       " ('Ġtwo,', (1651, 1655)),\n",
       " ('Ġwhich', (1656, 1661)),\n",
       " ('Ġare', (1662, 1665)),\n",
       " ('Ġmerely', (1666, 1672)),\n",
       " ('Ġdescriptive.', (1673, 1685)),\n",
       " ('ĠRevolutionary', (1686, 1699)),\n",
       " ('Ġtactics', (1700, 1707)),\n",
       " ('Ġaim', (1708, 1711)),\n",
       " ('Ġto', (1712, 1714)),\n",
       " ('Ġbring', (1715, 1720)),\n",
       " ('Ġdown', (1721, 1725)),\n",
       " ('Ġauthority', (1726, 1735)),\n",
       " ('Ġand', (1736, 1739)),\n",
       " ('Ġstate,', (1740, 1746)),\n",
       " ('Ġhaving', (1747, 1753)),\n",
       " ('Ġtaken', (1754, 1759)),\n",
       " ('Ġa', (1760, 1761)),\n",
       " ('Ġviolent', (1762, 1769)),\n",
       " ('Ġturn', (1770, 1774)),\n",
       " ('Ġin', (1775, 1777)),\n",
       " ('Ġthe', (1778, 1781)),\n",
       " ('Ġpast,', (1782, 1787)),\n",
       " ('Ġwhile', (1788, 1793)),\n",
       " ('Ġevolutionary', (1794, 1806)),\n",
       " ('Ġtactics', (1807, 1814)),\n",
       " ('Ġaim', (1815, 1818)),\n",
       " ('Ġto', (1819, 1821)),\n",
       " ('Ġprefigure', (1822, 1831)),\n",
       " ('Ġwhat', (1832, 1836)),\n",
       " ('Ġan', (1837, 1839)),\n",
       " ('Ġanarchist', (1840, 1849)),\n",
       " ('Ġsociety', (1850, 1857)),\n",
       " ('Ġwould', (1858, 1863)),\n",
       " ('Ġbe', (1864, 1866)),\n",
       " ('Ġlike.', (1867, 1872)),\n",
       " ('ĠAnarchist', (1873, 1882)),\n",
       " ('Ġthought,', (1883, 1891)),\n",
       " ('Ġcriticism,', (1892, 1902)),\n",
       " ('Ġand', (1903, 1906)),\n",
       " ('Ġpraxis', (1907, 1913)),\n",
       " ('Ġhave', (1914, 1918)),\n",
       " ('Ġplayed', (1919, 1925)),\n",
       " ('Ġa', (1926, 1927)),\n",
       " ('Ġpart', (1928, 1932)),\n",
       " ('Ġin', (1933, 1935)),\n",
       " ('Ġdiverse', (1936, 1943)),\n",
       " ('Ġareas', (1944, 1949)),\n",
       " ('Ġof', (1950, 1952)),\n",
       " ('Ġhuman', (1953, 1958)),\n",
       " ('Ġsociety.', (1959, 1967)),\n",
       " ('ĠCriticism', (1968, 1977)),\n",
       " ('Ġof', (1978, 1980)),\n",
       " ('Ġanarchism', (1981, 1990)),\n",
       " ('Ġinclude', (1991, 1998)),\n",
       " ('Ġclaims', (1999, 2005)),\n",
       " ('Ġthat', (2006, 2010)),\n",
       " ('Ġit', (2011, 2013)),\n",
       " ('Ġis', (2014, 2016)),\n",
       " ('Ġinternally', (2017, 2027)),\n",
       " ('Ġinconsistent,', (2028, 2041)),\n",
       " ('Ġviolent,', (2042, 2050)),\n",
       " ('Ġor', (2051, 2053)),\n",
       " ('Ġutopian.', (2054, 2062)),\n",
       " ('ĠThe', (2063, 2066)),\n",
       " ('Ġetymological', (2067, 2079)),\n",
       " ('Ġorigin', (2080, 2086)),\n",
       " ('Ġof', (2087, 2089)),\n",
       " ('Ġanarchism', (2090, 2099)),\n",
       " ('Ġis', (2100, 2102)),\n",
       " ('Ġfrom', (2103, 2107)),\n",
       " ('Ġthe', (2108, 2111)),\n",
       " ('ĠAncient', (2112, 2119)),\n",
       " ('ĠGreek', (2120, 2125)),\n",
       " ('Ġanarkhia,', (2126, 2135)),\n",
       " ('Ġmeaning', (2136, 2143)),\n",
       " ('Ġ\"without', (2144, 2152)),\n",
       " ('Ġa', (2153, 2154)),\n",
       " ('Ġruler\",', (2155, 2162)),\n",
       " ('Ġcomposed', (2163, 2171)),\n",
       " ('Ġof', (2172, 2174)),\n",
       " ('Ġthe', (2175, 2178)),\n",
       " ('Ġprefix', (2179, 2185)),\n",
       " ('Ġan-', (2186, 2189)),\n",
       " ('Ġ(\"without\")', (2190, 2201)),\n",
       " ('Ġand', (2202, 2205)),\n",
       " ('Ġthe', (2206, 2209)),\n",
       " ('Ġword', (2210, 2214)),\n",
       " ('Ġarkhos', (2215, 2221)),\n",
       " ('Ġ(\"leader\"', (2222, 2231)),\n",
       " ('Ġor', (2232, 2234)),\n",
       " ('Ġ\"ruler\").', (2235, 2244)),\n",
       " ('ĠThe', (2245, 2248)),\n",
       " ('Ġsuffix', (2249, 2255)),\n",
       " ('Ġ-ism', (2256, 2260)),\n",
       " ('Ġdenotes', (2261, 2268)),\n",
       " ('Ġthe', (2269, 2272)),\n",
       " ('Ġideological', (2273, 2284)),\n",
       " ('Ġcurrent', (2285, 2292)),\n",
       " ('Ġthat', (2293, 2297)),\n",
       " ('Ġfavours', (2298, 2305)),\n",
       " ('Ġanarchy.', (2306, 2314)),\n",
       " ('ĠAnarchism', (2315, 2324)),\n",
       " ('Ġappears', (2325, 2332)),\n",
       " ('Ġin', (2333, 2335)),\n",
       " ('ĠEnglish', (2336, 2343)),\n",
       " ('Ġfrom', (2344, 2348)),\n",
       " ('Ġ1642', (2349, 2353)),\n",
       " ('Ġas', (2354, 2356)),\n",
       " ('Ġanarchisme', (2357, 2367)),\n",
       " ('Ġand', (2368, 2371)),\n",
       " ('Ġanarchy', (2372, 2379)),\n",
       " ('Ġfrom', (2380, 2384)),\n",
       " ('Ġ1539;', (2385, 2390)),\n",
       " ('Ġearly', (2391, 2396)),\n",
       " ('ĠEnglish', (2397, 2404)),\n",
       " ('Ġusages', (2405, 2411)),\n",
       " ('Ġemphasised', (2412, 2422)),\n",
       " ('Ġa', (2423, 2424)),\n",
       " ('Ġsense', (2425, 2430)),\n",
       " ('Ġof', (2431, 2433)),\n",
       " ('Ġdisorder.', (2434, 2443)),\n",
       " ('ĠVarious', (2444, 2451)),\n",
       " ('Ġfactions', (2452, 2460)),\n",
       " ('Ġwithin', (2461, 2467)),\n",
       " ('Ġthe', (2468, 2471)),\n",
       " ('ĠFrench', (2472, 2478)),\n",
       " ('ĠRevolution', (2479, 2489)),\n",
       " ('Ġlabelled', (2490, 2498)),\n",
       " ('Ġtheir', (2499, 2504)),\n",
       " ('Ġopponents', (2505, 2514)),\n",
       " ('Ġas', (2515, 2517)),\n",
       " ('Ġanarchists,', (2518, 2529)),\n",
       " ('Ġalthough', (2530, 2538)),\n",
       " ('Ġfew', (2539, 2542)),\n",
       " ('Ġsuch', (2543, 2547)),\n",
       " ('Ġaccused', (2548, 2555)),\n",
       " ('Ġshared', (2556, 2562)),\n",
       " ('Ġmany', (2563, 2567)),\n",
       " ('Ġviews', (2568, 2573)),\n",
       " ('Ġwith', (2574, 2578)),\n",
       " ('Ġlater', (2579, 2584)),\n",
       " ('Ġanarchists.', (2585, 2596)),\n",
       " ('ĠMany', (2597, 2601)),\n",
       " ('Ġrevolutionaries', (2602, 2617)),\n",
       " ('Ġof', (2618, 2620)),\n",
       " ('Ġthe', (2621, 2624)),\n",
       " ('Ġ19th', (2625, 2629)),\n",
       " ('Ġcentury', (2630, 2637)),\n",
       " ('Ġsuch', (2638, 2642)),\n",
       " ('Ġas', (2643, 2645)),\n",
       " ('ĠWilliam', (2646, 2653)),\n",
       " ('ĠGodwin', (2654, 2660)),\n",
       " ('Ġ(1756âĢĵ1836)', (2661, 2672)),\n",
       " ('Ġand', (2673, 2676)),\n",
       " ('ĠWilhelm', (2677, 2684)),\n",
       " ('ĠWeitling', (2685, 2693)),\n",
       " ('Ġ(1808âĢĵ1871)', (2694, 2705)),\n",
       " ('Ġwould', (2706, 2711)),\n",
       " ('Ġcontribute', (2712, 2722)),\n",
       " ('Ġto', (2723, 2725)),\n",
       " ('Ġthe', (2726, 2729)),\n",
       " ('Ġanarchist', (2730, 2739)),\n",
       " ('Ġdoctrines', (2740, 2749)),\n",
       " ('Ġof', (2750, 2752)),\n",
       " ('Ġthe', (2753, 2756)),\n",
       " ('Ġnext', (2757, 2761)),\n",
       " ('Ġgeneration', (2762, 2772)),\n",
       " ('Ġbut', (2773, 2776)),\n",
       " ('Ġdid', (2777, 2780)),\n",
       " ('Ġnot', (2781, 2784)),\n",
       " ('Ġuse', (2785, 2788)),\n",
       " ('Ġanarchist', (2789, 2798)),\n",
       " ('Ġor', (2799, 2801)),\n",
       " ('Ġanarchism', (2802, 2811)),\n",
       " ('Ġin', (2812, 2814)),\n",
       " ('Ġdescribing', (2815, 2825)),\n",
       " ('Ġthemselves', (2826, 2836)),\n",
       " ('Ġor', (2837, 2839)),\n",
       " ('Ġtheir', (2840, 2845)),\n",
       " ('Ġbeliefs.', (2846, 2854)),\n",
       " ('ĠThe', (2855, 2858)),\n",
       " ('Ġfirst', (2859, 2864)),\n",
       " ('Ġpolitical', (2865, 2874)),\n",
       " ('Ġphilosopher', (2875, 2886)),\n",
       " ('Ġto', (2887, 2889)),\n",
       " ('Ġcall', (2890, 2894)),\n",
       " ('Ġhimself', (2895, 2902)),\n",
       " ('Ġan', (2903, 2905)),\n",
       " ('Ġanarchist', (2906, 2915)),\n",
       " ('Ġ()', (2916, 2918)),\n",
       " ('Ġwas', (2919, 2922)),\n",
       " ('ĠPierre-Joseph', (2923, 2936)),\n",
       " ('ĠProudhon', (2937, 2945)),\n",
       " ('Ġ(1809âĢĵ1865),', (2946, 2958)),\n",
       " ('Ġmarking', (2959, 2966)),\n",
       " ('Ġthe', (2967, 2970)),\n",
       " ('Ġformal', (2971, 2977)),\n",
       " ('Ġbirth', (2978, 2983)),\n",
       " ('Ġof', (2984, 2986)),\n",
       " ('Ġanarchism', (2987, 2996)),\n",
       " ('Ġin', (2997, 2999)),\n",
       " ('Ġthe', (3000, 3003)),\n",
       " ('Ġmid-19th', (3004, 3012)),\n",
       " ('Ġcentury.', (3013, 3021)),\n",
       " ('ĠSince', (3022, 3027)),\n",
       " ('Ġthe', (3028, 3031)),\n",
       " ('Ġ1890s', (3032, 3037)),\n",
       " ('Ġand', (3038, 3041)),\n",
       " ('Ġbeginning', (3042, 3051)),\n",
       " ('Ġin', (3052, 3054)),\n",
       " ('ĠFrance,', (3055, 3062)),\n",
       " ('Ġlibertarianism', (3063, 3077)),\n",
       " ('Ġhas', (3078, 3081)),\n",
       " ('Ġoften', (3082, 3087)),\n",
       " ('Ġbeen', (3088, 3092)),\n",
       " ('Ġused', (3093, 3097)),\n",
       " ('Ġas', (3098, 3100)),\n",
       " ('Ġa', (3101, 3102)),\n",
       " ('Ġsynonym', (3103, 3110)),\n",
       " ('Ġfor', (3111, 3114)),\n",
       " ('Ġanarchism', (3115, 3124)),\n",
       " ('Ġand', (3125, 3128)),\n",
       " ('Ġits', (3129, 3132)),\n",
       " ('Ġuse', (3133, 3136)),\n",
       " ('Ġas', (3137, 3139)),\n",
       " ('Ġa', (3140, 3141)),\n",
       " ('Ġsynonym', (3142, 3149)),\n",
       " ('Ġis', (3150, 3152)),\n",
       " ('Ġstill', (3153, 3158)),\n",
       " ('Ġcommon', (3159, 3165)),\n",
       " ('Ġoutside', (3166, 3173)),\n",
       " ('Ġthe', (3174, 3177)),\n",
       " ('ĠUnited', (3178, 3184)),\n",
       " ('ĠStates.', (3185, 3192)),\n",
       " ('ĠSome', (3193, 3197)),\n",
       " ('Ġusages', (3198, 3204)),\n",
       " ('Ġof', (3205, 3207)),\n",
       " ('Ġlibertarianism', (3208, 3222)),\n",
       " ('Ġrefer', (3223, 3228)),\n",
       " ('Ġto', (3229, 3231)),\n",
       " ('Ġindividualistic', (3232, 3247)),\n",
       " ('Ġfree-market', (3248, 3259)),\n",
       " ('Ġphilosophy', (3260, 3270)),\n",
       " ('Ġonly,', (3271, 3276)),\n",
       " ('Ġand', (3277, 3280)),\n",
       " ('Ġfree-market', (3281, 3292)),\n",
       " ('Ġanarchism', (3293, 3302)),\n",
       " ('Ġin', (3303, 3305)),\n",
       " ('Ġparticular', (3306, 3316)),\n",
       " ('Ġis', (3317, 3319)),\n",
       " ('Ġtermed', (3320, 3326)),\n",
       " ('Ġlibertarian', (3327, 3338)),\n",
       " ('Ġanarchism.', (3339, 3349)),\n",
       " ('ĠWhile', (3350, 3355)),\n",
       " ('Ġthe', (3356, 3359)),\n",
       " ('Ġterm', (3360, 3364)),\n",
       " ('Ġlibertarian', (3365, 3376)),\n",
       " ('Ġhas', (3377, 3380)),\n",
       " ('Ġbeen', (3381, 3385)),\n",
       " ('Ġlargely', (3386, 3393)),\n",
       " ('Ġsynonymous', (3394, 3404)),\n",
       " ('Ġwith', (3405, 3409)),\n",
       " ('Ġanarchism,', (3410, 3420)),\n",
       " ('Ġits', (3421, 3424)),\n",
       " ('Ġmeaning', (3425, 3432)),\n",
       " ('Ġhas', (3433, 3436)),\n",
       " ('Ġmore', (3437, 3441)),\n",
       " ('Ġrecently', (3442, 3450)),\n",
       " ('Ġdiluted', (3451, 3458)),\n",
       " ('Ġwith', (3459, 3463)),\n",
       " ('Ġwider', (3464, 3469)),\n",
       " ('Ġadoption', (3470, 3478)),\n",
       " ('Ġfrom', (3479, 3483)),\n",
       " ('Ġideologically', (3484, 3497)),\n",
       " ('Ġdisparate', (3498, 3507)),\n",
       " ('Ġgroups,', (3508, 3515)),\n",
       " ('Ġincluding', (3516, 3525)),\n",
       " ('Ġboth', (3526, 3530)),\n",
       " ('Ġthe', (3531, 3534)),\n",
       " ('ĠNew', (3535, 3538)),\n",
       " ('ĠLeft', (3539, 3543)),\n",
       " ('Ġand', (3544, 3547)),\n",
       " ('Ġlibertarian', (3548, 3559)),\n",
       " ('ĠMarxists,', (3560, 3569)),\n",
       " ('Ġwho', (3570, 3573)),\n",
       " ('Ġdo', (3574, 3576)),\n",
       " ('Ġnot', (3577, 3580)),\n",
       " ('Ġassociate', (3581, 3590)),\n",
       " ('Ġthemselves', (3591, 3601)),\n",
       " ('Ġwith', (3602, 3606)),\n",
       " ('Ġauthoritarian', (3607, 3620)),\n",
       " ('Ġsocialists', (3621, 3631)),\n",
       " ('Ġor', (3632, 3634)),\n",
       " ('Ġa', (3635, 3636)),\n",
       " ('Ġvanguard', (3637, 3645)),\n",
       " ('Ġparty,', (3646, 3652)),\n",
       " ('Ġand', (3653, 3656)),\n",
       " ('Ġextreme', (3657, 3664)),\n",
       " ('Ġcultural', (3665, 3673)),\n",
       " ('Ġliberals,', (3674, 3683)),\n",
       " ('Ġwho', (3684, 3687)),\n",
       " ('Ġare', (3688, 3691)),\n",
       " ('Ġprimarily', (3692, 3701)),\n",
       " ('Ġconcerned', (3702, 3711)),\n",
       " ('Ġwith', (3712, 3716)),\n",
       " ('Ġcivil', (3717, 3722)),\n",
       " ('Ġliberties.', (3723, 3733)),\n",
       " ('ĠAdditionally,', (3734, 3747)),\n",
       " ('Ġsome', (3748, 3752)),\n",
       " ('Ġanarchists', (3753, 3763)),\n",
       " ('Ġuse', (3764, 3767)),\n",
       " ('Ġlibertarian', (3768, 3779)),\n",
       " ('Ġsocialist', (3780, 3789)),\n",
       " ('Ġto', (3790, 3792)),\n",
       " ('Ġavoid', (3793, 3798)),\n",
       " (\"Ġanarchism's\", (3799, 3810)),\n",
       " ('Ġnegative', (3811, 3819)),\n",
       " ('Ġconnotations', (3820, 3832)),\n",
       " ('Ġand', (3833, 3836)),\n",
       " ('Ġemphasise', (3837, 3846)),\n",
       " ('Ġits', (3847, 3850)),\n",
       " ('Ġconnections', (3851, 3862)),\n",
       " ('Ġwith', (3863, 3867)),\n",
       " ('Ġsocialism.', (3868, 3878)),\n",
       " ('ĠAnarchism', (3879, 3888)),\n",
       " ('Ġis', (3889, 3891)),\n",
       " ('Ġbroadly', (3892, 3899)),\n",
       " ('Ġused', (3900, 3904)),\n",
       " ('Ġto', (3905, 3907)),\n",
       " ('Ġdescribe', (3908, 3916)),\n",
       " ('Ġthe', (3917, 3920)),\n",
       " ('Ġanti-authoritarian', (3921, 3939)),\n",
       " ('Ġwing', (3940, 3944)),\n",
       " ('Ġof', (3945, 3947)),\n",
       " ('Ġthe', (3948, 3951)),\n",
       " ('Ġsocialist', (3952, 3961)),\n",
       " ('Ġmovement.', (3962, 3971)),\n",
       " ('ĠAnarchism', (3972, 3981)),\n",
       " ('Ġis', (3982, 3984)),\n",
       " ('Ġcontrasted', (3985, 3995)),\n",
       " ('Ġto', (3996, 3998)),\n",
       " ('Ġsocialist', (3999, 4008)),\n",
       " ('Ġforms', (4009, 4014)),\n",
       " ('Ġwhich', (4015, 4020)),\n",
       " ('Ġare', (4021, 4024)),\n",
       " ('Ġstate-oriented', (4025, 4039)),\n",
       " ('Ġor', (4040, 4042)),\n",
       " ('Ġfrom', (4043, 4047)),\n",
       " ('Ġabove.', (4048, 4054)),\n",
       " ('ĠScholars', (4055, 4063)),\n",
       " ('Ġof', (4064, 4066)),\n",
       " ('Ġanarchism', (4067, 4076)),\n",
       " ('Ġgenerally', (4077, 4086)),\n",
       " ('Ġhighlight', (4087, 4096)),\n",
       " (\"Ġanarchism's\", (4097, 4108)),\n",
       " ('Ġsocialist', (4109, 4118)),\n",
       " ('Ġcredentials', (4119, 4130)),\n",
       " ('Ġand', (4131, 4134)),\n",
       " ('Ġcriticise', (4135, 4144)),\n",
       " ('Ġattempts', (4145, 4153)),\n",
       " ('Ġat', (4154, 4156)),\n",
       " ('Ġcreating', (4157, 4165)),\n",
       " ('Ġdichotomies', (4166, 4177)),\n",
       " ('Ġbetween', (4178, 4185)),\n",
       " ('Ġthe', (4186, 4189)),\n",
       " ('Ġtwo.', (4190, 4194)),\n",
       " ('ĠSome', (4195, 4199)),\n",
       " ('Ġscholars', (4200, 4208)),\n",
       " ('Ġdescribe', (4209, 4217)),\n",
       " ('Ġanarchism', (4218, 4227)),\n",
       " ('Ġas', (4228, 4230)),\n",
       " ('Ġhaving', (4231, 4237)),\n",
       " ('Ġmany', (4238, 4242)),\n",
       " ('Ġinfluences', (4243, 4253)),\n",
       " ('Ġfrom', (4254, 4258)),\n",
       " ('Ġliberalism,', (4259, 4270)),\n",
       " ('Ġand', (4271, 4274)),\n",
       " ('Ġbeing', (4275, 4280)),\n",
       " ('Ġboth', (4281, 4285)),\n",
       " ('Ġliberals', (4286, 4294)),\n",
       " ('Ġand', (4295, 4298)),\n",
       " ('Ġsocialists', (4299, 4309)),\n",
       " ('Ġbut', (4310, 4313)),\n",
       " ('Ġmore', (4314, 4318)),\n",
       " ('Ġso,', (4319, 4322)),\n",
       " ('Ġwhile', (4323, 4328)),\n",
       " ('Ġmost', (4329, 4333)),\n",
       " ('Ġscholars', (4334, 4342)),\n",
       " ('Ġreject', (4343, 4349)),\n",
       " ('Ġanarcho-capitalism', (4350, 4368)),\n",
       " ('Ġas', (4369, 4371)),\n",
       " ('Ġa', (4372, 4373)),\n",
       " ('Ġmisunderstanding', (4374, 4390)),\n",
       " ('Ġof', (4391, 4393)),\n",
       " ('Ġanarchist', (4394, 4403)),\n",
       " ('Ġprinciples.', (4404, 4415)),\n",
       " ('ĠWhile', (4416, 4421)),\n",
       " ('Ġopposition', (4422, 4432)),\n",
       " ('Ġto', (4433, 4435)),\n",
       " ('Ġthe', (4436, 4439)),\n",
       " ('Ġstate', (4440, 4445)),\n",
       " ('Ġis', (4446, 4448)),\n",
       " ('Ġcentral', (4449, 4456)),\n",
       " ('Ġto', (4457, 4459)),\n",
       " ('Ġanarchist', (4460, 4469)),\n",
       " ('Ġthought,', (4470, 4478)),\n",
       " ('Ġdefining', (4479, 4487)),\n",
       " ('Ġanarchism', (4488, 4497)),\n",
       " ('Ġis', (4498, 4500)),\n",
       " ('Ġnot', (4501, 4504)),\n",
       " ('Ġan', (4505, 4507)),\n",
       " ('Ġeasy', (4508, 4512)),\n",
       " ('Ġtask', (4513, 4517)),\n",
       " ('Ġfor', (4518, 4521)),\n",
       " ('Ġscholars,', (4522, 4531)),\n",
       " ('Ġas', (4532, 4534)),\n",
       " ('Ġthere', (4535, 4540)),\n",
       " ('Ġis', (4541, 4543)),\n",
       " ('Ġa', (4544, 4545)),\n",
       " ('Ġlot', (4546, 4549)),\n",
       " ('Ġof', (4550, 4552)),\n",
       " ('Ġdiscussion', (4553, 4563)),\n",
       " ('Ġamong', (4564, 4569)),\n",
       " ('Ġscholars', (4570, 4578)),\n",
       " ('Ġand', (4579, 4582)),\n",
       " ('Ġanarchists', (4583, 4593)),\n",
       " ('Ġon', (4594, 4596)),\n",
       " ('Ġthe', (4597, 4600)),\n",
       " ('Ġmatter,', (4601, 4608)),\n",
       " ('Ġand', (4609, 4612)),\n",
       " ('Ġvarious', (4613, 4620)),\n",
       " ('Ġcurrents', (4621, 4629)),\n",
       " ('Ġperceive', (4630, 4638)),\n",
       " ('Ġanarchism', (4639, 4648)),\n",
       " ('Ġslightly', (4649, 4657)),\n",
       " ('Ġdifferently.', (4658, 4670)),\n",
       " ('ĠMajor', (4671, 4676)),\n",
       " ('Ġdefinitional', (4677, 4689)),\n",
       " ('Ġelements', (4690, 4698)),\n",
       " ('Ġinclude', (4699, 4706)),\n",
       " ('Ġthe', (4707, 4710)),\n",
       " ('Ġwill', (4711, 4715)),\n",
       " ('Ġfor', (4716, 4719)),\n",
       " ('Ġa', (4720, 4721)),\n",
       " ('Ġnon-coercive', (4722, 4734)),\n",
       " ('Ġsociety,', (4735, 4743)),\n",
       " ('Ġthe', (4744, 4747)),\n",
       " ('Ġrejection', (4748, 4757)),\n",
       " ('Ġof', (4758, 4760)),\n",
       " ('Ġthe', (4761, 4764)),\n",
       " ('Ġstate', (4765, 4770)),\n",
       " ('Ġapparatus,', (4771, 4781)),\n",
       " ('Ġthe', (4782, 4785)),\n",
       " ('Ġbelief', (4786, 4792)),\n",
       " ('Ġthat', (4793, 4797)),\n",
       " ('Ġhuman', (4798, 4803)),\n",
       " ('Ġnature', (4804, 4810)),\n",
       " ('Ġallows', (4811, 4817)),\n",
       " ('Ġhumans', (4818, 4824)),\n",
       " ('Ġto', (4825, 4827)),\n",
       " ('Ġexist', (4828, 4833)),\n",
       " ('Ġin', (4834, 4836)),\n",
       " ('Ġor', (4837, 4839)),\n",
       " ('Ġprogress', (4840, 4848)),\n",
       " ('Ġtoward', (4849, 4855)),\n",
       " ('Ġsuch', (4856, 4860)),\n",
       " ('Ġa', (4861, 4862)),\n",
       " ('Ġnon-coercive', (4863, 4875)),\n",
       " ('Ġsociety,', (4876, 4884)),\n",
       " ('Ġand', (4885, 4888)),\n",
       " ('Ġa', (4889, 4890)),\n",
       " ('Ġsuggestion', (4891, 4901)),\n",
       " ('Ġon', (4902, 4904)),\n",
       " ('Ġhow', (4905, 4908)),\n",
       " ('Ġto', (4909, 4911)),\n",
       " ('Ġact', (4912, 4915)),\n",
       " ('Ġto', (4916, 4918)),\n",
       " ('Ġpursue', (4919, 4925)),\n",
       " ('Ġthe', (4926, 4929)),\n",
       " ('Ġideal', (4930, 4935)),\n",
       " ('Ġof', (4936, 4938)),\n",
       " ('Ġanarchy.', (4939, 4947)),\n",
       " ('ĠBefore', (4948, 4954)),\n",
       " ('Ġthe', (4955, 4958)),\n",
       " ('Ġestablishment', (4959, 4972)),\n",
       " ('Ġof', (4973, 4975)),\n",
       " ('Ġtowns', (4976, 4981)),\n",
       " ('Ġand', (4982, 4985)),\n",
       " ('Ġcities,', (4986, 4993)),\n",
       " ('Ġan', (4994, 4996)),\n",
       " ('Ġestablished', (4997, 5008)),\n",
       " ('Ġauthority', (5009, 5018)),\n",
       " ('Ġdid', (5019, 5022)),\n",
       " ('Ġnot', (5023, 5026)),\n",
       " ('Ġexist.', (5027, 5033)),\n",
       " ('ĠIt', (5034, 5036)),\n",
       " ('Ġwas', (5037, 5040)),\n",
       " ('Ġafter', (5041, 5046)),\n",
       " ('Ġthe', (5047, 5050)),\n",
       " ('Ġcreation', (5051, 5059)),\n",
       " ('Ġof', (5060, 5062)),\n",
       " ('Ġinstitutions', (5063, 5075)),\n",
       " ('Ġof', (5076, 5078)),\n",
       " ('Ġauthority', (5079, 5088)),\n",
       " ('Ġthat', (5089, 5093)),\n",
       " ('Ġanarchistic', (5094, 5105)),\n",
       " ('Ġideas', (5106, 5111)),\n",
       " ('Ġespoused', (5112, 5120)),\n",
       " ('Ġas', (5121, 5123)),\n",
       " ('Ġa', (5124, 5125)),\n",
       " ('Ġreaction.', (5126, 5135)),\n",
       " ('ĠThe', (5136, 5139)),\n",
       " ('Ġmost', (5140, 5144)),\n",
       " ('Ġnotable', (5145, 5152)),\n",
       " ('Ġprecursors', (5153, 5163)),\n",
       " ('Ġto', (5164, 5166)),\n",
       " ('Ġanarchism', (5167, 5176)),\n",
       " ('Ġin', (5177, 5179)),\n",
       " ('Ġthe', (5180, 5183)),\n",
       " ('Ġancient', (5184, 5191)),\n",
       " ('Ġworld', (5192, 5197)),\n",
       " ('Ġwere', (5198, 5202)),\n",
       " ('Ġin', (5203, 5205)),\n",
       " ('ĠChina', (5206, 5211)),\n",
       " ('Ġand', (5212, 5215)),\n",
       " ('ĠGreece.', (5216, 5223)),\n",
       " ('ĠIn', (5224, 5226)),\n",
       " ('ĠChina,', (5227, 5233)),\n",
       " ('Ġphilosophical', (5234, 5247)),\n",
       " ('Ġanarchism', (5248, 5257)),\n",
       " ('Ġ(the', (5258, 5262)),\n",
       " ('Ġdiscussion', (5263, 5273)),\n",
       " ('Ġon', (5274, 5276)),\n",
       " ('Ġthe', (5277, 5280)),\n",
       " ('Ġlegitimacy', (5281, 5291)),\n",
       " ('Ġof', (5292, 5294)),\n",
       " ('Ġthe', (5295, 5298)),\n",
       " ('Ġstate)', (5299, 5305)),\n",
       " ('Ġwas', (5306, 5309)),\n",
       " ('Ġdelineated', (5310, 5320)),\n",
       " ('Ġby', (5321, 5323)),\n",
       " ('ĠTaoist', (5324, 5330)),\n",
       " ('Ġphilosophers', (5331, 5343)),\n",
       " ('ĠZhuang', (5344, 5350)),\n",
       " ('ĠZhou', (5351, 5355)),\n",
       " ('Ġand', (5356, 5359)),\n",
       " ('ĠLaozi.', (5360, 5366)),\n",
       " ('ĠAlongside', (5367, 5376)),\n",
       " ('ĠStoicism,', (5377, 5386)),\n",
       " ('ĠTaoism', (5387, 5393)),\n",
       " ('Ġhas', (5394, 5397)),\n",
       " ('Ġbeen', (5398, 5402)),\n",
       " ('Ġsaid', (5403, 5407)),\n",
       " ('Ġto', (5408, 5410)),\n",
       " ('Ġhave', (5411, 5415)),\n",
       " ('Ġhad', (5416, 5419)),\n",
       " ('Ġ\"significant', (5420, 5432)),\n",
       " ('Ġanticipations\"', (5433, 5447)),\n",
       " ('Ġof', (5448, 5450)),\n",
       " ('Ġanarchism.', (5451, 5461)),\n",
       " ('ĠAnarchic', (5462, 5470)),\n",
       " ('Ġattitudes', (5471, 5480)),\n",
       " ('Ġwere', (5481, 5485)),\n",
       " ('Ġalso', (5486, 5490)),\n",
       " ('Ġarticulated', (5491, 5502)),\n",
       " ('Ġby', (5503, 5505)),\n",
       " ('Ġtragedians', (5506, 5516)),\n",
       " ('Ġand', (5517, 5520)),\n",
       " ('Ġphilosophers', (5521, 5533)),\n",
       " ('Ġin', (5534, 5536)),\n",
       " ('ĠGreece.', (5537, 5544)),\n",
       " ('ĠAeschylus', (5545, 5554)),\n",
       " ('Ġand', (5555, 5558)),\n",
       " ('ĠSophocles', (5559, 5568)),\n",
       " ('Ġused', (5569, 5573)),\n",
       " ('Ġthe', (5574, 5577)),\n",
       " ('Ġmyth', (5578, 5582)),\n",
       " ('Ġof', (5583, 5585)),\n",
       " ('ĠAntigone', (5586, 5594)),\n",
       " ('Ġto', (5595, 5597)),\n",
       " ('Ġillustrate', (5598, 5608)),\n",
       " ('Ġthe', (5609, 5612)),\n",
       " ('Ġconflict', (5613, 5621)),\n",
       " ('Ġbetween', (5622, 5629)),\n",
       " ('Ġrules', (5630, 5635)),\n",
       " ('Ġset', (5636, 5639)),\n",
       " ('Ġby', (5640, 5642)),\n",
       " ('Ġthe', (5643, 5646)),\n",
       " ('Ġstate', (5647, 5652)),\n",
       " ('Ġand', (5653, 5656)),\n",
       " ('Ġpersonal', (5657, 5665)),\n",
       " ('Ġautonomy.', (5666, 5675)),\n",
       " ('ĠSocrates', (5676, 5684)),\n",
       " ('Ġquestioned', (5685, 5695)),\n",
       " ('ĠAthenian', (5696, 5704)),\n",
       " ('Ġauthorities', (5705, 5716)),\n",
       " ('Ġconstantly', (5717, 5727)),\n",
       " ('Ġand', (5728, 5731)),\n",
       " ('Ġinsisted', (5732, 5740)),\n",
       " ('Ġon', (5741, 5743)),\n",
       " ('Ġthe', (5744, 5747)),\n",
       " ('Ġright', (5748, 5753)),\n",
       " ('Ġof', (5754, 5756)),\n",
       " ('Ġindividual', (5757, 5767)),\n",
       " ('Ġfreedom', (5768, 5775)),\n",
       " ('Ġof', (5776, 5778)),\n",
       " ('Ġconscience.', (5779, 5790)),\n",
       " ('ĠCynics', (5791, 5797)),\n",
       " ('Ġdismissed', (5798, 5807)),\n",
       " ('Ġhuman', (5808, 5813)),\n",
       " ('Ġlaw', (5814, 5817)),\n",
       " ('Ġ(nomos)', (5818, 5825)),\n",
       " ('Ġand', (5826, 5829)),\n",
       " ('Ġassociated', (5830, 5840)),\n",
       " ('Ġauthorities', (5841, 5852)),\n",
       " ('Ġwhile', (5853, 5858)),\n",
       " ('Ġtrying', (5859, 5865)),\n",
       " ('Ġto', (5866, 5868)),\n",
       " ('Ġlive', (5869, 5873)),\n",
       " ('Ġaccording', (5874, 5883)),\n",
       " ('Ġto', (5884, 5886)),\n",
       " ('Ġnature', (5887, 5893)),\n",
       " ('Ġ(physis).', (5894, 5903)),\n",
       " ('ĠStoics', (5904, 5910)),\n",
       " ('Ġwere', (5911, 5915)),\n",
       " ('Ġsupportive', (5916, 5926)),\n",
       " ('Ġof', (5927, 5929)),\n",
       " ('Ġa', (5930, 5931)),\n",
       " ('Ġsociety', (5932, 5939)),\n",
       " ('Ġbased', (5940, 5945)),\n",
       " ('Ġon', (5946, 5948)),\n",
       " ('Ġunofficial', (5949, 5959)),\n",
       " ('Ġand', (5960, 5963)),\n",
       " ('Ġfriendly', (5964, 5972)),\n",
       " ('Ġrelations', (5973, 5982)),\n",
       " ('Ġamong', (5983, 5988)),\n",
       " ('Ġits', (5989, 5992)),\n",
       " ('Ġcitizens', (5993, 6001)),\n",
       " ('Ġwithout', (6002, 6009)),\n",
       " ('Ġthe', (6010, 6013)),\n",
       " ('Ġpresence', (6014, 6022)),\n",
       " ('Ġof', (6023, 6025)),\n",
       " ('Ġa', (6026, 6027)),\n",
       " ('Ġstate.', (6028, 6034)),\n",
       " ('ĠIn', (6035, 6037)),\n",
       " ('Ġmedieval', (6038, 6046)),\n",
       " ('ĠEurope,', (6047, 6054)),\n",
       " ('Ġthere', (6055, 6060)),\n",
       " ('Ġwas', (6061, 6064)),\n",
       " ('Ġno', (6065, 6067)),\n",
       " ('Ġanarchistic', (6068, 6079)),\n",
       " ('Ġactivity', (6080, 6088)),\n",
       " ('Ġexcept', (6089, 6095)),\n",
       " ('Ġsome', (6096, 6100)),\n",
       " ('Ġascetic', (6101, 6108)),\n",
       " ('Ġreligious', (6109, 6118)),\n",
       " ('Ġmovements.', (6119, 6129)),\n",
       " ('ĠThese,', (6130, 6136)),\n",
       " ('Ġand', (6137, 6140)),\n",
       " ('Ġother', (6141, 6146)),\n",
       " ('ĠMuslim', (6147, 6153)),\n",
       " ('Ġmovements,', (6154, 6164)),\n",
       " ('Ġlater', (6165, 6170)),\n",
       " ('Ġgave', (6171, 6175)),\n",
       " ('Ġbirth', (6176, 6181)),\n",
       " ('Ġto', (6182, 6184)),\n",
       " ('Ġreligious', (6185, 6194)),\n",
       " ('Ġanarchism.', (6195, 6205)),\n",
       " ('ĠIn', (6206, 6208)),\n",
       " ('Ġthe', (6209, 6212)),\n",
       " ('ĠSasanian', (6213, 6221)),\n",
       " ('ĠEmpire,', (6222, 6229)),\n",
       " ('ĠMazdak', (6230, 6236)),\n",
       " ('Ġcalled', (6237, 6243)),\n",
       " ('Ġfor', (6244, 6247)),\n",
       " ('Ġan', (6248, 6250)),\n",
       " ('Ġegalitarian', (6251, 6262)),\n",
       " ('Ġsociety', (6263, 6270)),\n",
       " ('Ġand', (6271, 6274)),\n",
       " ('Ġthe', (6275, 6278)),\n",
       " ('Ġabolition', (6279, 6288)),\n",
       " ('Ġof', (6289, 6291)),\n",
       " ('Ġmonarchy,', (6292, 6301)),\n",
       " ('Ġonly', (6302, 6306)),\n",
       " ('Ġto', (6307, 6309)),\n",
       " ('Ġbe', (6310, 6312)),\n",
       " ('Ġsoon', (6313, 6317)),\n",
       " ('Ġexecuted', (6318, 6326)),\n",
       " ('Ġby', (6327, 6329)),\n",
       " ('ĠEmperor', (6330, 6337)),\n",
       " ('ĠKavad', (6338, 6343)),\n",
       " ('ĠI.', (6344, 6346)),\n",
       " ('ĠIn', (6347, 6349)),\n",
       " ('ĠBasra,', (6350, 6356)),\n",
       " ('Ġreligious', (6357, 6366)),\n",
       " ('Ġsects', (6367, 6372)),\n",
       " ('Ġpreached', (6373, 6381)),\n",
       " ('Ġagainst', (6382, 6389)),\n",
       " ('Ġthe', (6390, 6393)),\n",
       " ('Ġstate.', (6394, 6400)),\n",
       " ('ĠIn', (6401, 6403)),\n",
       " ('ĠEurope,', (6404, 6411)),\n",
       " ('Ġvarious', (6412, 6419)),\n",
       " ('Ġsects', (6420, 6425)),\n",
       " ('Ġdeveloped', (6426, 6435)),\n",
       " ('Ġanti-state', (6436, 6446)),\n",
       " ('Ġand', (6447, 6450)),\n",
       " ('Ġlibertarian', (6451, 6462)),\n",
       " ('Ġtendencies.', (6463, 6474)),\n",
       " ('ĠRenewed', (6475, 6482)),\n",
       " ('Ġinterest', (6483, 6491)),\n",
       " ('Ġin', (6492, 6494)),\n",
       " ('Ġantiquity', (6495, 6504)),\n",
       " ('Ġduring', (6505, 6511)),\n",
       " ('Ġthe', (6512, 6515)),\n",
       " ('ĠRenaissance', (6516, 6527)),\n",
       " ('Ġand', (6528, 6531)),\n",
       " ('Ġin', (6532, 6534)),\n",
       " ('Ġprivate', (6535, 6542)),\n",
       " ('Ġjudgment', (6543, 6551)),\n",
       " ('Ġduring', (6552, 6558)),\n",
       " ('Ġthe', (6559, 6562)),\n",
       " ('ĠReformation', (6563, 6574)),\n",
       " ('Ġrestored', (6575, 6583)),\n",
       " ('Ġelements', (6584, 6592)),\n",
       " ('Ġof', (6593, 6595)),\n",
       " ('Ġanti-authoritarian', (6596, 6614)),\n",
       " ('Ġsecularism,', (6615, 6626)),\n",
       " ('Ġparticularly', (6627, 6639)),\n",
       " ('Ġin', (6640, 6642)),\n",
       " ('ĠFrance.', (6643, 6650)),\n",
       " ('ĠEnlightenment', (6651, 6664)),\n",
       " ('Ġchallenges', (6665, 6675)),\n",
       " ('Ġto', (6676, 6678)),\n",
       " ('Ġintellectual', (6679, 6691)),\n",
       " ('Ġauthority', (6692, 6701)),\n",
       " ('Ġ(secular', (6702, 6710)),\n",
       " ('Ġand', (6711, 6714)),\n",
       " ('Ġreligious)', (6715, 6725)),\n",
       " ('Ġand', (6726, 6729)),\n",
       " ('Ġthe', (6730, 6733)),\n",
       " ('Ġrevolutions', (6734, 6745)),\n",
       " ('Ġof', (6746, 6748)),\n",
       " ('Ġthe', (6749, 6752)),\n",
       " ('Ġ1790s', (6753, 6758)),\n",
       " ('Ġand', (6759, 6762)),\n",
       " ('Ġ1848', (6763, 6767)),\n",
       " ('Ġall', (6768, 6771)),\n",
       " ('Ġspurred', (6772, 6779)),\n",
       " ('Ġthe', (6780, 6783)),\n",
       " ...]"
      ]
     },
     "execution_count": 33,
     "metadata": {},
     "output_type": "execute_result"
    }
   ],
   "source": [
    "tokenizer.pre_tokenizer.pre_tokenize_str(wiki_dataset[0]['text'])"
   ]
  },
  {
   "cell_type": "markdown",
   "id": "290ad91c-c072-490d-aa69-6047ac4fb3a8",
   "metadata": {},
   "source": [
    "After the pre_tokenizer, the tokenizer applies the model which we already set.\n",
    "\n",
    "Next comes the post-processor. Here is huggingface's description:\n",
    "\n",
    "\"After the whole pipeline, we sometimes want to insert some special tokens before feed a tokenized string into a model like ”[CLS] My horse is amazing [SEP]”. The PostProcessor is the component doing just that.\"\n",
    "\n",
    "For our purposes we don't need such a thing so we can skip this.\n",
    "\n",
    "Note that in the future a SOS or EOS might be interesting to this pipeline to see if it improves things."
   ]
  },
  {
   "cell_type": "markdown",
   "id": "ca0bedfc-4497-4174-a2ab-ef7c1242c314",
   "metadata": {},
   "source": [
    "Finally there is the decoder. The huggingface description is:\n",
    "\n",
    "\"The Decoder knows how to go from the IDs used by the Tokenizer, back to a readable piece of text. Some Normalizer and PreTokenizer use special characters or identifiers that need to be reverted for example.\"\n",
    "\n",
    "For us we should use the ByteLevel decoder"
   ]
  },
  {
   "cell_type": "code",
   "execution_count": 42,
   "id": "d8e6fb10-d09d-4102-886e-36fcd18d3d89",
   "metadata": {},
   "outputs": [],
   "source": [
    "from tokenizers import decoders\n",
    "\n",
    "tokenizer.decoder = decoders.ByteLevel()"
   ]
  },
  {
   "cell_type": "markdown",
   "id": "ce0e2cb3-a223-444b-a65e-bc7b0a17d339",
   "metadata": {},
   "source": [
    "Now it's time to train the tokenizer. Let's load in a BPEtrainer and decide on its args.\n",
    "\n",
    "'''\n",
    "    \n",
    "    vocab_size (:obj:`int`, `optional`):\n",
    "        The size of the final vocabulary, including all tokens and alphabet.\n",
    "\n",
    "    min_frequency (:obj:`int`, `optional`):\n",
    "        The minimum frequency a pair should have in order to be merged.\n",
    "\n",
    "    show_progress (:obj:`bool`, `optional`):\n",
    "        Whether to show progress bars while training.\n",
    "\n",
    "    special_tokens (:obj:`List[Union[str, AddedToken]]`, `optional`):\n",
    "        A list of special tokens the model should know of.\n",
    "\n",
    "    limit_alphabet (:obj:`int`, `optional`):\n",
    "        The maximum different characters to keep in the alphabet.\n",
    "\n",
    "    initial_alphabet (:obj:`List[str]`, `optional`):\n",
    "        A list of characters to include in the initial alphabet, even\n",
    "        if not seen in the training dataset.\n",
    "        If the strings contain more than one character, only the first one\n",
    "        is kept.\n",
    "\n",
    "    continuing_subword_prefix (:obj:`str`, `optional`):\n",
    "        A prefix to be used for every subword that is not a beginning-of-word.\n",
    "\n",
    "    end_of_word_suffix (:obj:`str`, `optional`):\n",
    "        A suffix to be used for every subword that is a end-of-word.\n",
    "'''\n",
    "\n",
    "\n",
    "GPT has a vocab size of 40478, so let's limit ours to 50000. Not quite sure what we should do for min_frequency so let's leave that for now. We have no special_tokens. Not sure what limit_alphabet gets us so leaving it empty. Filling in the same continuing_subword_prefix and end_of_word_suffix as we gave BPE."
   ]
  },
  {
   "cell_type": "code",
   "execution_count": 43,
   "id": "f47925e3-8493-49e8-88b5-fea1b5f814db",
   "metadata": {},
   "outputs": [],
   "source": [
    "from tokenizers.trainers import BpeTrainer\n",
    "\n",
    "trainer = BpeTrainer(\n",
    "    vocab_size=50000,\n",
    "    show_progress=True,\n",
    "    continuing_subword_prefix='##',\n",
    "    end_of_word_suffix='##'\n",
    ")"
   ]
  },
  {
   "cell_type": "code",
   "execution_count": null,
   "id": "22fdd5f6-4e25-41e5-8e1d-496dccf09a96",
   "metadata": {},
   "outputs": [
    {
     "name": "stdout",
     "output_type": "stream",
     "text": [
      "\n"
     ]
    }
   ],
   "source": [
    "def wiki_dataset_iterator(batch_size=1000):\n",
    "    for i in range(0, 2000, batch_size):\n",
    "        yield wiki_dataset[i : i + batch_size]['text']\n",
    "\n",
    "tokenizer.train_from_iterator(wiki_dataset_iterator(), trainer, length=2000)"
   ]
  },
  {
   "cell_type": "code",
   "execution_count": 4,
   "id": "97602dc4-2824-4a11-adf8-9511b7334270",
   "metadata": {},
   "outputs": [],
   "source": [
    "from tokenizers.trainers import BpeTrainer\n",
    "trainer = BpeTrainer(\n",
    "    vocab_size=\n",
    "    special_tokens=[\"[UNK]\", \"[CLS]\", \"[SEP]\", \"[PAD]\", \"[MASK]\"]\n",
    ")"
   ]
  },
  {
   "cell_type": "code",
   "execution_count": 5,
   "id": "a5301bc9-6aea-4f58-8140-e5082d63cbdf",
   "metadata": {},
   "outputs": [],
   "source": [
    "from tokenizers.pre_tokenizers import Whitespace\n",
    "tokenizer.pre_tokenizer = Whitespace()"
   ]
  },
  {
   "cell_type": "code",
   "execution_count": null,
   "id": "dd36e2bf-ffea-4de2-bedc-9d7f0551b2e3",
   "metadata": {},
   "outputs": [
    {
     "name": "stdout",
     "output_type": "stream",
     "text": [
      "\n"
     ]
    }
   ],
   "source": [
    "def wiki_dataset_iterator(batch_size=1000):\n",
    "    for i in range(0, len(wiki_dataset), batch_size):\n",
    "        yield wiki_dataset[i : i + batch_size]['text']\n",
    "\n",
    "tokenizer.train_from_iterator(wiki_dataset_iterator(), trainer, length=len(wiki_dataset))"
   ]
  },
  {
   "cell_type": "code",
   "execution_count": null,
   "id": "3050c84f-7e89-4af3-83a2-806c1a96c406",
   "metadata": {},
   "outputs": [],
   "source": [
    "tokenizer.save(\"tokenizer-wiki.json\")"
   ]
  },
  {
   "cell_type": "code",
   "execution_count": null,
   "id": "2bb230ed-0d7c-4661-9077-efc78952d118",
   "metadata": {},
   "outputs": [],
   "source": []
  },
  {
   "cell_type": "code",
   "execution_count": 12,
   "id": "2ec84ae0-ea56-473d-91ce-9206b53fdfda",
   "metadata": {},
   "outputs": [
    {
     "data": {
      "text/plain": [
       "<tokenizers.Tokenizer at 0x5644855f0360>"
      ]
     },
     "execution_count": 12,
     "metadata": {},
     "output_type": "execute_result"
    }
   ],
   "source": [
    "tokenizer"
   ]
  },
  {
   "cell_type": "code",
   "execution_count": null,
   "id": "b8665109-3d0d-454d-ae5c-0cd239bc1774",
   "metadata": {},
   "outputs": [],
   "source": []
  },
  {
   "cell_type": "code",
   "execution_count": null,
   "id": "3df6590e-a3b4-4ed0-81a7-63e1b2f3f143",
   "metadata": {},
   "outputs": [],
   "source": [
    "print('here')"
   ]
  },
  {
   "cell_type": "code",
   "execution_count": null,
   "id": "e6f2c822-7c4c-4537-89c7-2f44274add80",
   "metadata": {},
   "outputs": [],
   "source": []
  },
  {
   "cell_type": "code",
   "execution_count": 35,
   "id": "17092364-44e8-460d-9a94-e08f26a42168",
   "metadata": {},
   "outputs": [
    {
     "name": "stderr",
     "output_type": "stream",
     "text": [
      "ftfy or spacy is not installed using BERT BasicTokenizer instead of SpaCy & ftfy.\n"
     ]
    }
   ],
   "source": [
    "from transformers import OpenAIGPTTokenizer\n",
    "\n",
    "tokenizer = OpenAIGPTTokenizer.from_pretrained(\"openai-gpt\")"
   ]
  },
  {
   "cell_type": "code",
   "execution_count": null,
   "id": "aa8dac27-12af-414a-b966-27e0f830a0c6",
   "metadata": {},
   "outputs": [],
   "source": []
  },
  {
   "cell_type": "code",
   "execution_count": 8,
   "id": "fbe63444-df24-4222-b918-a12ca4bb0e93",
   "metadata": {},
   "outputs": [
    {
     "data": {
      "text/plain": [
       "PreTrainedTokenizer(name_or_path='openai-gpt', vocab_size=40478, model_max_len=512, is_fast=False, padding_side='right', truncation_side='right', special_tokens={'unk_token': '<unk>'})"
      ]
     },
     "execution_count": 8,
     "metadata": {},
     "output_type": "execute_result"
    }
   ],
   "source": [
    "tokenizer"
   ]
  },
  {
   "cell_type": "code",
   "execution_count": null,
   "id": "09205493-ff5d-4d66-9ab7-31dd26b3585f",
   "metadata": {},
   "outputs": [],
   "source": []
  },
  {
   "cell_type": "code",
   "execution_count": null,
   "id": "019b68c6-d6b5-4e8c-a865-a56dd8591410",
   "metadata": {},
   "outputs": [],
   "source": []
  },
  {
   "cell_type": "code",
   "execution_count": null,
   "id": "c6030504-5d34-417f-8685-b5ad66bc42b0",
   "metadata": {},
   "outputs": [],
   "source": []
  }
 ],
 "metadata": {
  "kernelspec": {
   "display_name": "Python [conda env:jax-env]",
   "language": "python",
   "name": "conda-env-jax-env-py"
  },
  "language_info": {
   "codemirror_mode": {
    "name": "ipython",
    "version": 3
   },
   "file_extension": ".py",
   "mimetype": "text/x-python",
   "name": "python",
   "nbconvert_exporter": "python",
   "pygments_lexer": "ipython3",
   "version": "3.8.13"
  }
 },
 "nbformat": 4,
 "nbformat_minor": 5
}
