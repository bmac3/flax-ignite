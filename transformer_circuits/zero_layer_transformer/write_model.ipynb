{
 "cells": [
  {
   "cell_type": "markdown",
   "id": "6522bef1-bb1e-410e-af4b-5456f752257e",
   "metadata": {},
   "source": [
    "In this notebook we want to implement the zero-layer transformer from transformer circuits (https://transformer-circuits.pub/2021/framework/index.html). We would like to do this using an observer pattern framework similar to pytorch ignite. Let's order the steps we should go through:\n",
    "\n",
    " - get data\n",
    " - write model\n",
    " - write training loop\n",
    " - visualization"
   ]
  },
  {
   "cell_type": "markdown",
   "id": "28ccafc1-9fdb-40b0-8529-65a7816d3217",
   "metadata": {},
   "source": [
    "# Write Model\n",
    "\n",
    "We will implement the zero-layer transformer in Flax.\n",
    "\n",
    "We have this paragraph for model details:\n",
    "\n",
    "\"The models used as examples in this paper are zero, one, and two layer decoder-only, attention-only transformers \n",
    "[1]\n",
    ". For all models, d_\\text{model} = n_\\text{heads} * d_\\text{head}d \n",
    "model\n",
    "​\n",
    " =n \n",
    "heads\n",
    "​\n",
    " ∗d \n",
    "head\n",
    "​\n",
    " , typically with n_\\text{heads}=12n \n",
    "heads\n",
    "​\n",
    " =12 and d_\\text{head}=64d \n",
    "head\n",
    "​\n",
    " =64, but also with one explicitly noted example where n_\\text{heads}=32n \n",
    "heads\n",
    "​\n",
    " =32 and d_\\text{head}=128d \n",
    "head\n",
    "​\n",
    " =128.\n",
    "\n",
    "Models have a context size of 2048 tokens and use dense attention. (Dense attention was preferred over sparse attention for simplicity, but made a smaller context perferrable.) We use a positional mechanism similar to Press et al. \n",
    "[14]\n",
    ", adding sinusoidal embeddings immediately before multiplying by W_QW \n",
    "Q\n",
    "​\n",
    "  and W_KW \n",
    "K\n",
    "​\n",
    "  to produce queries and keys. (This excludes pointer-arithmetic based algorithms without the distorted QK matrices like rotary.)\"\n",
    "  \n",
    "\n",
    "The zero-layer transformer is just comprised of an embedding matrix and an unembedding matrix. It should contain approximate bigram log-likelihood."
   ]
  },
  {
   "cell_type": "code",
   "execution_count": 86,
   "id": "3448e828-6866-4a89-af6f-f4848ac879ba",
   "metadata": {},
   "outputs": [],
   "source": [
    "from flax import linen as nn\n",
    "\n",
    "\n",
    "class ZeroLayerTransformer(nn.Module):\n",
    "    vocab_size: int\n",
    "    embed_dim: int\n",
    "    \n",
    "    @nn.compact\n",
    "    def __call__(self, input_ids):\n",
    "        \"\"\"\n",
    "        input_ids will be a batch of input ids shape (n_examples, max_seq_len)\n",
    "        \"\"\"\n",
    "        embedded = nn.Embed(self.vocab_size, self.embed_dim, name='embedding_matrix')(input_ids)\n",
    "        unembedded = nn.Dense(vocab_size, use_bias=False, name='unembedding_matrix')(embedded)\n",
    "        logits = nn.softmax(unembedded)\n",
    "        return logits\n"
   ]
  },
  {
   "cell_type": "code",
   "execution_count": 81,
   "id": "a4a65736-0f96-4e91-90ed-4e2fb20b61bd",
   "metadata": {},
   "outputs": [],
   "source": [
    "import os\n",
    "from jax import numpy as jnp\n",
    "from jax import random\n",
    "\n",
    "os.environ['CUDA_VISIBLE_DEVICES'] = '5'\n",
    "\n",
    "key = random.PRNGKey(0)\n",
    "\n",
    "def get_new_key():\n",
    "    global key\n",
    "    key, subkey = random.split(key)\n",
    "    return subkey\n"
   ]
  },
  {
   "cell_type": "code",
   "execution_count": 82,
   "id": "bd15060c-5f66-42e9-ac47-601580937f0c",
   "metadata": {},
   "outputs": [
    {
     "data": {
      "text/plain": [
       "DeviceArray([6], dtype=int32)"
      ]
     },
     "execution_count": 82,
     "metadata": {},
     "output_type": "execute_result"
    }
   ],
   "source": [
    "random.randint(get_new_key(), [1], 0, 10)"
   ]
  },
  {
   "cell_type": "code",
   "execution_count": 87,
   "id": "c2db7a1c-39dc-4fc5-99ba-64be1bf9d19f",
   "metadata": {},
   "outputs": [],
   "source": [
    "vocab_size = 20\n",
    "embed_dim = 10\n",
    "max_seq_len = 16\n",
    "n_examples = 5\n",
    "\n",
    "sample_input_ids = random.randint(get_new_key(), (n_examples, max_seq_len), 0, vocab_size)\n",
    "zltransformer = ZeroLayerTransformer(vocab_size, embed_dim)\n",
    "params = zltransformer.init(get_new_key(), sample_input_ids)\n",
    "sample_out = zltransformer.apply(params, sample_input_ids)"
   ]
  },
  {
   "cell_type": "code",
   "execution_count": 88,
   "id": "2c91c05a-b1c6-421f-91e3-da742d039ef2",
   "metadata": {},
   "outputs": [
    {
     "data": {
      "text/plain": [
       "(5, 16, 20)"
      ]
     },
     "execution_count": 88,
     "metadata": {},
     "output_type": "execute_result"
    }
   ],
   "source": [
    "sample_out.shape"
   ]
  },
  {
   "cell_type": "code",
   "execution_count": 93,
   "id": "62f7f685-2c11-4dba-a589-0c29f2f63cf1",
   "metadata": {},
   "outputs": [
    {
     "data": {
      "text/plain": [
       "DeviceArray([[0.99999994, 1.        , 1.0000001 , 0.9999999 , 1.0000001 ,\n",
       "              1.0000001 , 1.        , 0.99999994, 1.        , 1.        ,\n",
       "              1.        , 1.0000001 , 0.99999994, 1.0000001 , 1.        ,\n",
       "              1.        ],\n",
       "             [0.99999994, 0.99999994, 0.99999994, 0.99999976, 0.9999999 ,\n",
       "              1.        , 1.        , 1.        , 1.0000001 , 1.        ,\n",
       "              1.        , 1.0000001 , 0.99999994, 1.        , 0.99999994,\n",
       "              1.0000001 ],\n",
       "             [1.        , 1.        , 0.99999994, 1.        , 1.        ,\n",
       "              1.        , 1.        , 1.        , 1.        , 1.        ,\n",
       "              0.9999999 , 1.        , 1.        , 1.0000001 , 1.0000001 ,\n",
       "              1.0000001 ],\n",
       "             [0.9999999 , 1.        , 1.        , 0.99999994, 1.0000001 ,\n",
       "              1.0000001 , 1.0000001 , 1.0000001 , 1.0000001 , 1.        ,\n",
       "              1.0000001 , 1.0000001 , 1.        , 1.        , 1.0000001 ,\n",
       "              1.0000001 ],\n",
       "             [1.0000001 , 1.        , 0.99999994, 0.99999994, 1.0000001 ,\n",
       "              1.0000001 , 0.99999994, 1.        , 1.0000001 , 0.9999999 ,\n",
       "              1.        , 1.        , 1.        , 1.        , 0.99999994,\n",
       "              0.99999994]], dtype=float32)"
      ]
     },
     "execution_count": 93,
     "metadata": {},
     "output_type": "execute_result"
    }
   ],
   "source": [
    "sample_out.sum(axis=-1)"
   ]
  },
  {
   "cell_type": "code",
   "execution_count": 91,
   "id": "600e3a8f-cc9b-44f2-8021-efa7c3a070d0",
   "metadata": {},
   "outputs": [
    {
     "data": {
      "text/plain": [
       "DeviceArray([[18, 17, 18, 15, 11, 12, 18,  1,  3, 17,  2, 11,  1,  4,  6,\n",
       "              11],\n",
       "             [14, 14, 14,  6, 15, 17, 11,  2, 18, 15,  6,  4, 18, 18,  1,\n",
       "              12],\n",
       "             [ 3, 15,  1,  2, 17, 18, 11, 11,  6, 18, 15, 17, 15,  4, 11,\n",
       "               6],\n",
       "             [15,  6,  3, 18,  4,  6, 12,  4, 18, 11, 12, 18,  2,  2,  4,\n",
       "              18],\n",
       "             [18, 17, 18, 14, 11, 12, 18,  3, 11, 15, 11, 18, 11,  2, 14,\n",
       "              14]], dtype=int32)"
      ]
     },
     "execution_count": 91,
     "metadata": {},
     "output_type": "execute_result"
    }
   ],
   "source": [
    "sample_out.argmax(axis=-1)"
   ]
  },
  {
   "cell_type": "code",
   "execution_count": null,
   "id": "7468446d-8106-4db8-a107-0dafd69958ec",
   "metadata": {},
   "outputs": [],
   "source": []
  },
  {
   "cell_type": "code",
   "execution_count": null,
   "id": "4d4892dc-2493-4aef-9eb7-a165aa62dc02",
   "metadata": {},
   "outputs": [],
   "source": []
  },
  {
   "cell_type": "code",
   "execution_count": null,
   "id": "bed5a6a6-5c68-4d10-b1dd-0fe83cd879bb",
   "metadata": {},
   "outputs": [],
   "source": []
  },
  {
   "cell_type": "code",
   "execution_count": null,
   "id": "0f00b1b4-ba5f-4b97-a343-c47351c3fec4",
   "metadata": {},
   "outputs": [],
   "source": []
  },
  {
   "cell_type": "code",
   "execution_count": null,
   "id": "83efb657-5878-41bb-a7fb-8c6a4595b2dd",
   "metadata": {},
   "outputs": [],
   "source": []
  },
  {
   "cell_type": "code",
   "execution_count": null,
   "id": "31b19256-dd55-46b4-bf0d-fea9bcedce5d",
   "metadata": {},
   "outputs": [],
   "source": []
  }
 ],
 "metadata": {
  "kernelspec": {
   "display_name": "Python [conda env:jax-env]",
   "language": "python",
   "name": "conda-env-jax-env-py"
  },
  "language_info": {
   "codemirror_mode": {
    "name": "ipython",
    "version": 3
   },
   "file_extension": ".py",
   "mimetype": "text/x-python",
   "name": "python",
   "nbconvert_exporter": "python",
   "pygments_lexer": "ipython3",
   "version": "3.8.13"
  }
 },
 "nbformat": 4,
 "nbformat_minor": 5
}
